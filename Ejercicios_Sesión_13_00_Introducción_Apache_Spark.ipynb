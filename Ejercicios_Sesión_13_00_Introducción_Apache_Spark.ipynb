{
  "nbformat": 4,
  "nbformat_minor": 0,
  "metadata": {
    "colab": {
      "name": "Ejercicios Sesión 13 00_Introducción_Apache_Spark.ipynb",
      "provenance": [],
      "collapsed_sections": [
        "Jq9d0x1OTh2N",
        "8Z0h3dF9Vg4X",
        "h1o6f6QOjTcZ",
        "9a00GmwOZmM2",
        "yzU_4EjAjZgh",
        "bX0FXU7JawRm",
        "prvVhMD4a5o7",
        "D-jBGb_acVuZ",
        "FYhM504ycl9K",
        "a6c2qVSLj4Cy"
      ],
      "toc_visible": true,
      "include_colab_link": true
    },
    "kernelspec": {
      "name": "python3",
      "display_name": "Python 3"
    }
  },
  "cells": [
    {
      "cell_type": "markdown",
      "metadata": {
        "id": "view-in-github",
        "colab_type": "text"
      },
      "source": [
        "<a href=\"https://colab.research.google.com/github/Andreusori/DataAnalytics-EDEM/blob/master/Ejercicios_Sesio%CC%81n_13_00_Introduccio%CC%81n_Apache_Spark.ipynb\" target=\"_parent\"><img src=\"https://colab.research.google.com/assets/colab-badge.svg\" alt=\"Open In Colab\"/></a>"
      ]
    },
    {
      "cell_type": "markdown",
      "metadata": {
        "id": "Jq9d0x1OTh2N"
      },
      "source": [
        "# Prerrequisites"
      ]
    },
    {
      "cell_type": "markdown",
      "metadata": {
        "id": "2_DQBVj_KNvL"
      },
      "source": [
        "Installing Spark and Apache Kafka Library in VM\n",
        "\n",
        "\n",
        "---\n",
        "\n"
      ]
    },
    {
      "cell_type": "code",
      "metadata": {
        "id": "xEbGSM3_NM-z",
        "colab": {
          "base_uri": "https://localhost:8080/"
        },
        "outputId": "98eaba4e-5ba7-476b-e8fc-60fc52884f07"
      },
      "source": [
        "# install Java8\n",
        "!apt-get install openjdk-8-jdk-headless -qq > /dev/null\n",
        "# download spark3.0.1\n",
        "!wget -q https://apache.osuosl.org/spark/spark-3.0.1/spark-3.0.1-bin-hadoop3.2.tgz\n",
        "\n",
        "# unzip it\n",
        "!tar xf spark-3.0.1-bin-hadoop3.2.tgz\n",
        "!pip install -q findspark\n",
        "!pip install py4j\n",
        "\n",
        "# For maps\n",
        "!pip install folium\n",
        "!pip install plotly"
      ],
      "execution_count": 1,
      "outputs": [
        {
          "output_type": "stream",
          "text": [
            "Collecting py4j\n",
            "\u001b[?25l  Downloading https://files.pythonhosted.org/packages/30/42/25ad191f311fcdb38b750d49de167abd535e37a144e730a80d7c439d1751/py4j-0.10.9.1-py2.py3-none-any.whl (198kB)\n",
            "\r\u001b[K     |█▋                              | 10kB 17.6MB/s eta 0:00:01\r\u001b[K     |███▎                            | 20kB 22.3MB/s eta 0:00:01\r\u001b[K     |█████                           | 30kB 13.8MB/s eta 0:00:01\r\u001b[K     |██████▋                         | 40kB 9.9MB/s eta 0:00:01\r\u001b[K     |████████▎                       | 51kB 7.6MB/s eta 0:00:01\r\u001b[K     |██████████                      | 61kB 8.5MB/s eta 0:00:01\r\u001b[K     |███████████▌                    | 71kB 7.7MB/s eta 0:00:01\r\u001b[K     |█████████████▏                  | 81kB 8.3MB/s eta 0:00:01\r\u001b[K     |██████████████▉                 | 92kB 7.8MB/s eta 0:00:01\r\u001b[K     |████████████████▌               | 102kB 8.2MB/s eta 0:00:01\r\u001b[K     |██████████████████▏             | 112kB 8.2MB/s eta 0:00:01\r\u001b[K     |███████████████████▉            | 122kB 8.2MB/s eta 0:00:01\r\u001b[K     |█████████████████████▌          | 133kB 8.2MB/s eta 0:00:01\r\u001b[K     |███████████████████████         | 143kB 8.2MB/s eta 0:00:01\r\u001b[K     |████████████████████████▊       | 153kB 8.2MB/s eta 0:00:01\r\u001b[K     |██████████████████████████▍     | 163kB 8.2MB/s eta 0:00:01\r\u001b[K     |████████████████████████████    | 174kB 8.2MB/s eta 0:00:01\r\u001b[K     |█████████████████████████████▊  | 184kB 8.2MB/s eta 0:00:01\r\u001b[K     |███████████████████████████████▍| 194kB 8.2MB/s eta 0:00:01\r\u001b[K     |████████████████████████████████| 204kB 8.2MB/s \n",
            "\u001b[?25hInstalling collected packages: py4j\n",
            "Successfully installed py4j-0.10.9.1\n",
            "Requirement already satisfied: folium in /usr/local/lib/python3.6/dist-packages (0.8.3)\n",
            "Requirement already satisfied: branca>=0.3.0 in /usr/local/lib/python3.6/dist-packages (from folium) (0.4.1)\n",
            "Requirement already satisfied: six in /usr/local/lib/python3.6/dist-packages (from folium) (1.15.0)\n",
            "Requirement already satisfied: requests in /usr/local/lib/python3.6/dist-packages (from folium) (2.23.0)\n",
            "Requirement already satisfied: jinja2 in /usr/local/lib/python3.6/dist-packages (from folium) (2.11.2)\n",
            "Requirement already satisfied: numpy in /usr/local/lib/python3.6/dist-packages (from folium) (1.18.5)\n",
            "Requirement already satisfied: chardet<4,>=3.0.2 in /usr/local/lib/python3.6/dist-packages (from requests->folium) (3.0.4)\n",
            "Requirement already satisfied: urllib3!=1.25.0,!=1.25.1,<1.26,>=1.21.1 in /usr/local/lib/python3.6/dist-packages (from requests->folium) (1.24.3)\n",
            "Requirement already satisfied: idna<3,>=2.5 in /usr/local/lib/python3.6/dist-packages (from requests->folium) (2.10)\n",
            "Requirement already satisfied: certifi>=2017.4.17 in /usr/local/lib/python3.6/dist-packages (from requests->folium) (2020.11.8)\n",
            "Requirement already satisfied: MarkupSafe>=0.23 in /usr/local/lib/python3.6/dist-packages (from jinja2->folium) (1.1.1)\n",
            "Requirement already satisfied: plotly in /usr/local/lib/python3.6/dist-packages (4.4.1)\n",
            "Requirement already satisfied: retrying>=1.3.3 in /usr/local/lib/python3.6/dist-packages (from plotly) (1.3.3)\n",
            "Requirement already satisfied: six in /usr/local/lib/python3.6/dist-packages (from plotly) (1.15.0)\n"
          ],
          "name": "stdout"
        }
      ]
    },
    {
      "cell_type": "markdown",
      "metadata": {
        "id": "W0qDLAxMTUYQ"
      },
      "source": [
        "Define the environment (Java & Spark homes)\n",
        "\n",
        "---"
      ]
    },
    {
      "cell_type": "code",
      "metadata": {
        "id": "Kf95Ld34SX4j",
        "colab": {
          "base_uri": "https://localhost:8080/"
        },
        "outputId": "14d123cf-4f4f-4e6d-d9c3-9b34e0bf8bc8"
      },
      "source": [
        "!ls /content"
      ],
      "execution_count": 2,
      "outputs": [
        {
          "output_type": "stream",
          "text": [
            "sample_data  spark-3.0.1-bin-hadoop3.2\tspark-3.0.1-bin-hadoop3.2.tgz\n"
          ],
          "name": "stdout"
        }
      ]
    },
    {
      "cell_type": "code",
      "metadata": {
        "id": "nSd4dfANNndH"
      },
      "source": [
        "import os\n",
        "os.environ[\"JAVA_HOME\"] = \"/usr/lib/jvm/java-8-openjdk-amd64\"\n",
        "os.environ[\"SPARK_HOME\"] = \"/content/spark-3.0.1-bin-hadoop3.2\"\n",
        "os.environ[\"PYSPARK_SUBMIT_ARGS\"] = \"--master local[*] pyspark-shell\""
      ],
      "execution_count": 3,
      "outputs": []
    },
    {
      "cell_type": "markdown",
      "metadata": {
        "id": "rdFv-xxITa2J"
      },
      "source": [
        "Starting Spark Session and print the version\n",
        "\n",
        "\n",
        "---\n"
      ]
    },
    {
      "cell_type": "code",
      "metadata": {
        "id": "BDLMbVBATf9K",
        "colab": {
          "base_uri": "https://localhost:8080/",
          "height": 35
        },
        "outputId": "c76ecf6a-a999-4069-fa12-31a53776201d"
      },
      "source": [
        "import findspark\n",
        "findspark.init(\"spark-3.0.1-bin-hadoop3.2\")# SPARK_HOME\n",
        "\n",
        "from pyspark.sql import SparkSession\n",
        "\n",
        "# create the session\n",
        "spark = SparkSession \\\n",
        "        .builder \\\n",
        "        .master(\"local[*]\") \\\n",
        "        .config(\"spark.ui.port\", \"4500\") \\\n",
        "        .getOrCreate()\n",
        "\n",
        "spark.version"
      ],
      "execution_count": 4,
      "outputs": [
        {
          "output_type": "execute_result",
          "data": {
            "application/vnd.google.colaboratory.intrinsic+json": {
              "type": "string"
            },
            "text/plain": [
              "'3.0.1'"
            ]
          },
          "metadata": {
            "tags": []
          },
          "execution_count": 4
        }
      ]
    },
    {
      "cell_type": "code",
      "metadata": {
        "id": "G28MgeRJHKJ5",
        "colab": {
          "base_uri": "https://localhost:8080/",
          "height": 216
        },
        "outputId": "207ce376-473d-4b5b-88b1-5122ec4cadc1"
      },
      "source": [
        "spark"
      ],
      "execution_count": 5,
      "outputs": [
        {
          "output_type": "execute_result",
          "data": {
            "text/html": [
              "\n",
              "            <div>\n",
              "                <p><b>SparkSession - in-memory</b></p>\n",
              "                \n",
              "        <div>\n",
              "            <p><b>SparkContext</b></p>\n",
              "\n",
              "            <p><a href=\"http://8e34dac6abd6:4500\">Spark UI</a></p>\n",
              "\n",
              "            <dl>\n",
              "              <dt>Version</dt>\n",
              "                <dd><code>v3.0.1</code></dd>\n",
              "              <dt>Master</dt>\n",
              "                <dd><code>local[*]</code></dd>\n",
              "              <dt>AppName</dt>\n",
              "                <dd><code>pyspark-shell</code></dd>\n",
              "            </dl>\n",
              "        </div>\n",
              "        \n",
              "            </div>\n",
              "        "
            ],
            "text/plain": [
              "<pyspark.sql.session.SparkSession at 0x7f70e48a6c50>"
            ]
          },
          "metadata": {
            "tags": []
          },
          "execution_count": 5
        }
      ]
    },
    {
      "cell_type": "code",
      "metadata": {
        "id": "qPrOO29YRuDB"
      },
      "source": [
        "# For Pandas conversion optimization\n",
        "spark.conf.set(\"spark.sql.execution.arrow.enabled\", \"true\")"
      ],
      "execution_count": 6,
      "outputs": []
    },
    {
      "cell_type": "markdown",
      "metadata": {
        "id": "FNiYuI5dGo8Y"
      },
      "source": [
        "Creating ngrok tunnel to allow Spark UI (Optional)\n"
      ]
    },
    {
      "cell_type": "code",
      "metadata": {
        "id": "x4-7fXZiGmqB",
        "colab": {
          "base_uri": "https://localhost:8080/"
        },
        "outputId": "fb814b84-06e6-48cc-e19a-058dade537b1"
      },
      "source": [
        "!wget https://bin.equinox.io/c/4VmDzA7iaHb/ngrok-stable-linux-amd64.zip\n",
        "!unzip ngrok-stable-linux-amd64.zip\n",
        "get_ipython().system_raw('./ngrok http 4500 &')\n",
        "!curl -s http://localhost:4040/api/tunnels | python3 -c \\\n",
        "    \"import sys, json; print(json.load(sys.stdin)['tunnels'][0]['public_url'])\""
      ],
      "execution_count": 7,
      "outputs": [
        {
          "output_type": "stream",
          "text": [
            "--2020-11-28 08:20:29--  https://bin.equinox.io/c/4VmDzA7iaHb/ngrok-stable-linux-amd64.zip\n",
            "Resolving bin.equinox.io (bin.equinox.io)... 3.225.137.4, 52.1.26.21, 54.221.249.251, ...\n",
            "Connecting to bin.equinox.io (bin.equinox.io)|3.225.137.4|:443... connected.\n",
            "HTTP request sent, awaiting response... 200 OK\n",
            "Length: 13773305 (13M) [application/octet-stream]\n",
            "Saving to: ‘ngrok-stable-linux-amd64.zip’\n",
            "\n",
            "ngrok-stable-linux- 100%[===================>]  13.13M  18.3MB/s    in 0.7s    \n",
            "\n",
            "2020-11-28 08:20:30 (18.3 MB/s) - ‘ngrok-stable-linux-amd64.zip’ saved [13773305/13773305]\n",
            "\n",
            "Archive:  ngrok-stable-linux-amd64.zip\n",
            "  inflating: ngrok                   \n",
            "Traceback (most recent call last):\n",
            "  File \"<string>\", line 1, in <module>\n",
            "IndexError: list index out of range\n"
          ],
          "name": "stdout"
        }
      ]
    },
    {
      "cell_type": "markdown",
      "metadata": {
        "id": "8Z0h3dF9Vg4X"
      },
      "source": [
        "# Descargar Datasets"
      ]
    },
    {
      "cell_type": "code",
      "metadata": {
        "id": "KBDin-0sXgyI",
        "colab": {
          "base_uri": "https://localhost:8080/"
        },
        "outputId": "656c1c4f-3cb1-4053-8cb7-b71c9f31aad3"
      },
      "source": [
        "!mkdir -p /dataset\n",
        "!wget -q https://github.com/masfworld/datahack_docker/raw/master/zeppelin/data/frankenstein.txt -P /dataset\n",
        "!wget -q https://github.com/masfworld/datahack_docker/raw/master/zeppelin/data/el_quijote.txt -P /dataset\n",
        "!wget -q https://github.com/masfworld/datahack_docker/raw/master/zeppelin/data/characters.csv -P /dataset\n",
        "!wget -q https://github.com/masfworld/datahack_docker/raw/master/zeppelin/data/planets.csv -P /dataset\n",
        "!ls /dataset"
      ],
      "execution_count": 8,
      "outputs": [
        {
          "output_type": "stream",
          "text": [
            "characters.csv\tel_quijote.txt\tfrankenstein.txt  planets.csv\n"
          ],
          "name": "stdout"
        }
      ]
    },
    {
      "cell_type": "markdown",
      "metadata": {
        "id": "02Zwm3NRXS_I"
      },
      "source": [
        "# RDD\n",
        "\n",
        "---\n",
        "\n"
      ]
    },
    {
      "cell_type": "markdown",
      "metadata": {
        "id": "h1o6f6QOjTcZ"
      },
      "source": [
        "## Ejemplo 1"
      ]
    },
    {
      "cell_type": "code",
      "metadata": {
        "colab": {
          "base_uri": "https://localhost:8080/"
        },
        "id": "jW3FZxDVd_Ii",
        "outputId": "bbe86412-bc5d-4286-8c43-65ec3b3b282b"
      },
      "source": [
        "!head /dataset/frankenstein.txt"
      ],
      "execution_count": null,
      "outputs": [
        {
          "output_type": "stream",
          "text": [
            "FRANKENSTEIN\n",
            "\n",
            "Or, The Modern Prometheus\n",
            "\n",
            "by Mary Wollstonecraft (Godwin) Shelley\n",
            "\n",
            "Letter 1\n",
            "\n",
            "St. Petersburgh, Dec. 11th, 17—\n",
            "\n"
          ],
          "name": "stdout"
        }
      ]
    },
    {
      "cell_type": "markdown",
      "metadata": {
        "id": "DgSHYhwMeXUf"
      },
      "source": [
        "esto lo ha hecho subre un fichero loacl"
      ]
    },
    {
      "cell_type": "code",
      "metadata": {
        "id": "HnbafeFCVk8d",
        "colab": {
          "base_uri": "https://localhost:8080/"
        },
        "outputId": "2cd77682-708a-4f57-88f8-1f7480b1cc09"
      },
      "source": [
        "textFile = spark.sparkContext.textFile(\"/dataset/frankenstein.txt\")\n",
        "textFile.first()\n",
        "textFile.count()"
      ],
      "execution_count": null,
      "outputs": [
        {
          "output_type": "execute_result",
          "data": {
            "text/plain": [
              "7237"
            ]
          },
          "metadata": {
            "tags": []
          },
          "execution_count": 35
        }
      ]
    },
    {
      "cell_type": "markdown",
      "metadata": {
        "id": "VHDroSQ1ZQSB"
      },
      "source": [
        "Abre la Spark UI e investiga qué ha sucedido\n",
        "\n",
        "\n",
        "---\n",
        "\n"
      ]
    },
    {
      "cell_type": "markdown",
      "metadata": {
        "id": "gqQQXDuSedlL"
      },
      "source": [
        "esto lo ha hecho sobre varios bloques de codigo y se ha ejectutado en paralelamente en todos los bloques. este ejemplo es muy chorra, xo en algo mas complejo, nos sirve xa dividir el proceso y que sea mucho más lijero y agil."
      ]
    },
    {
      "cell_type": "markdown",
      "metadata": {
        "id": "9a00GmwOZmM2"
      },
      "source": [
        "\n",
        "## Creación de colecciones paralelizadas\n",
        "Una manera muy rápida de crear RDD desde la shell, cuando estamos aprendiendo, es crear una colección paralelizada. Para ello:"
      ]
    },
    {
      "cell_type": "markdown",
      "metadata": {
        "id": "yzU_4EjAjZgh"
      },
      "source": [
        "## Ejemplo 2"
      ]
    },
    {
      "cell_type": "code",
      "metadata": {
        "id": "SgireGq6YWEj",
        "colab": {
          "base_uri": "https://localhost:8080/"
        },
        "outputId": "52f3b6ba-564e-4a7f-ed1c-7da2732e6242"
      },
      "source": [
        "distData = spark.sparkContext.parallelize([25, 20, 15, 10, 5])\n",
        "distData.reduce(lambda x ,y: x + y)"
      ],
      "execution_count": null,
      "outputs": [
        {
          "output_type": "execute_result",
          "data": {
            "text/plain": [
              "75"
            ]
          },
          "metadata": {
            "tags": []
          },
          "execution_count": 16
        }
      ]
    },
    {
      "cell_type": "markdown",
      "metadata": {
        "id": "R5hVQSRDaNAZ"
      },
      "source": [
        "¿De qué tipo es la variable distData?\n"
      ]
    },
    {
      "cell_type": "markdown",
      "metadata": {
        "id": "bX0FXU7JawRm"
      },
      "source": [
        "## Ejercicio 1\n",
        "Cuenta el número de líneas del fichero \"el_quijote.txt\"\n",
        "\n",
        "---\n",
        "\n"
      ]
    },
    {
      "cell_type": "code",
      "metadata": {
        "id": "mCDo_-PiaEVl",
        "colab": {
          "base_uri": "https://localhost:8080/"
        },
        "outputId": "994938c6-10b5-4d25-efef-f58803f56e9e"
      },
      "source": [
        "textFile2 = spark.sparkContext.textFile(\"/dataset/el_quijote.txt\")\n",
        "textFile2.count()"
      ],
      "execution_count": null,
      "outputs": [
        {
          "output_type": "execute_result",
          "data": {
            "text/plain": [
              "2186"
            ]
          },
          "metadata": {
            "tags": []
          },
          "execution_count": 26
        }
      ]
    },
    {
      "cell_type": "code",
      "metadata": {
        "id": "OIKNFgvgjlav"
      },
      "source": [
        "quijote_rdd = spark \\\n",
        ".sparkContext \\\n",
        ".textFile(\"/dataset/el_quijote.txt\")"
      ],
      "execution_count": null,
      "outputs": []
    },
    {
      "cell_type": "markdown",
      "metadata": {
        "id": "prvVhMD4a5o7"
      },
      "source": [
        "## Ejercicio 2\n",
        "Imprime la primera línea del fichero \"el_quijote.txt\"\n",
        "\n",
        "---\n",
        "\n"
      ]
    },
    {
      "cell_type": "code",
      "metadata": {
        "id": "1vgL2Upsa-Qg",
        "colab": {
          "base_uri": "https://localhost:8080/",
          "height": 35
        },
        "outputId": "e4fda33a-25e7-41b5-9f02-4f171682653b"
      },
      "source": [
        "textFile2.first()"
      ],
      "execution_count": null,
      "outputs": [
        {
          "output_type": "execute_result",
          "data": {
            "application/vnd.google.colaboratory.intrinsic+json": {
              "type": "string"
            },
            "text/plain": [
              "'DON QUIJOTE DE LA MANCHA'"
            ]
          },
          "metadata": {
            "tags": []
          },
          "execution_count": 27
        }
      ]
    },
    {
      "cell_type": "markdown",
      "metadata": {
        "id": "wAxxBSrBb92y"
      },
      "source": [
        "## Transformaciones y Acciones sobre RDDs "
      ]
    },
    {
      "cell_type": "markdown",
      "metadata": {
        "id": "D-jBGb_acVuZ"
      },
      "source": [
        "### Acciones"
      ]
    },
    {
      "cell_type": "markdown",
      "metadata": {
        "id": "4fc-rQBNjnNi"
      },
      "source": [
        "### Ejemplo 3"
      ]
    },
    {
      "cell_type": "code",
      "metadata": {
        "id": "qvxep4yubxtC",
        "colab": {
          "base_uri": "https://localhost:8080/"
        },
        "outputId": "c011c0e3-3749-48cd-ef47-e5b28300ece7"
      },
      "source": [
        "print(textFile.count()) # Número de elementos en el RDD\n",
        "print(textFile.first()) # Primer elemento del RDD"
      ],
      "execution_count": null,
      "outputs": [
        {
          "output_type": "stream",
          "text": [
            "2186\n",
            "DON QUIJOTE DE LA MANCHA\n"
          ],
          "name": "stdout"
        }
      ]
    },
    {
      "cell_type": "markdown",
      "metadata": {
        "id": "FYhM504ycl9K"
      },
      "source": [
        "### Transformaciones"
      ]
    },
    {
      "cell_type": "markdown",
      "metadata": {
        "id": "irxzzmfwjyYi"
      },
      "source": [
        "### Ejemplo 4"
      ]
    },
    {
      "cell_type": "code",
      "metadata": {
        "id": "MpkUk7t9cfoL"
      },
      "source": [
        "# ReduceByKey\n",
        "lines = spark.sparkContext.textFile(\"/dataset/frankenstein.txt\")\n",
        "pairs = lines.map(lambda s: (s, 1)) #entoy creando un par clave/valor, a cada linea, le estoy asignando un 1 como valor\n",
        "counts = pairs.reduceByKey(lambda a, b: a + b).cache() # 1º agrupa x la clave y después suma sus valores\n",
        "counts.count()\n",
        "counts.collect() #es como el show, xa k te muestre lo k ha ejecutado"
      ],
      "execution_count": null,
      "outputs": []
    },
    {
      "cell_type": "code",
      "metadata": {
        "id": "TfajHIRsejog"
      },
      "source": [
        "# SortByKey\n",
        "sorted = counts.sortByKey() #sort = ordenar / en este caso como la Key es la linea, nos ordena todas las frases (lineas) por orden alfabetico\n",
        "sorted.collect()"
      ],
      "execution_count": null,
      "outputs": []
    },
    {
      "cell_type": "markdown",
      "metadata": {
        "id": "gFIlrClreyzI"
      },
      "source": [
        "Abre la Spark UI e investiga que ha ido pasando."
      ]
    },
    {
      "cell_type": "markdown",
      "metadata": {
        "id": "a6c2qVSLj4Cy"
      },
      "source": [
        "### Ejemplo 5"
      ]
    },
    {
      "cell_type": "code",
      "metadata": {
        "id": "fDwoLMbbdGPN",
        "colab": {
          "base_uri": "https://localhost:8080/"
        },
        "outputId": "84b5e5df-18a2-4daa-c776-4e46dcb9d737"
      },
      "source": [
        "# Filter\n",
        "\n",
        "linesWithSpark = textFile.filter(lambda line: \"the\" in line) #filtra todas las lineas en las q aparezca \"the\"\n",
        " linesWithSpark.count()"
      ],
      "execution_count": null,
      "outputs": [
        {
          "output_type": "execute_result",
          "data": {
            "text/plain": [
              "3712"
            ]
          },
          "metadata": {
            "tags": []
          },
          "execution_count": 36
        }
      ]
    },
    {
      "cell_type": "markdown",
      "metadata": {
        "id": "ngS6b5jUfYen"
      },
      "source": [
        "### Ejercicio 3\n",
        "Obtén el número de ocurrencias de cada palabra del fichero \"frankenstein.txt\""
      ]
    },
    {
      "cell_type": "code",
      "metadata": {
        "id": "wqbwlZn8fVNd",
        "colab": {
          "base_uri": "https://localhost:8080/"
        },
        "outputId": "5e4abaec-cb97-4875-9264-bdddc0b60462"
      },
      "source": [
        "textFile = spark.sparkContext.textFile(\"/dataset/frankenstein.txt\")\n",
        "contarPalabras = textFile.flatMap(lambda linea: linea.split(\" \")).countByValue()\n",
        "print(contarPalabras)"
      ],
      "execution_count": 12,
      "outputs": [
        {
          "output_type": "stream",
          "text": [
            "defaultdict(<class 'int'>, {'FRANKENSTEIN': 1, '': 3488, 'Or,': 1, 'The': 256, 'Modern': 1, 'Prometheus': 1, 'by': 441, 'Mary': 1, 'Wollstonecraft': 1, '(Godwin)': 1, 'Shelley': 1, 'Letter': 4, '1': 2, 'St.': 5, 'Petersburgh,': 2, 'Dec.': 1, '11th,': 1, '17—': 7, 'TO': 2, 'Mrs.': 4, 'Saville,': 4, 'England': 11, 'You': 52, 'will': 183, 'rejoice': 1, 'to': 2072, 'hear': 15, 'that': 974, 'no': 146, 'disaster': 2, 'has': 61, 'accompanied': 9, 'the': 3897, 'commencement': 5, 'of': 2634, 'an': 208, 'enterprise': 1, 'which': 540, 'you': 396, 'have': 356, 'regarded': 6, 'with': 650, 'such': 72, 'evil': 16, 'forebodings.': 1, 'I': 2720, 'arrived': 22, 'here': 23, 'yesterday,': 1, 'and': 2904, 'my': 1629, 'first': 102, 'task': 12, 'is': 296, 'assure': 4, 'dear': 62, 'sister': 7, 'welfare': 2, 'increasing': 1, 'confidence': 4, 'in': 1072, 'success': 6, 'undertaking.': 5, 'am': 114, 'already': 32, 'far': 38, 'north': 7, 'London,': 3, 'as': 477, 'walk': 4, 'streets': 4, 'feel': 40, 'a': 1338, 'cold': 21, 'northern': 6, 'breeze': 8, 'play': 6, 'upon': 123, 'cheeks,': 2, 'braces': 1, 'nerves': 2, 'fills': 4, 'me': 529, 'delight.': 7, 'Do': 12, 'understand': 13, 'this': 298, 'feeling?': 1, 'This': 64, 'breeze,': 1, 'travelled': 5, 'from': 373, 'regions': 5, 'towards': 93, 'advancing,': 2, 'gives': 6, 'foretaste': 1, 'those': 88, 'icy': 3, 'climes.': 1, 'Inspirited': 1, 'wind': 20, 'promise,': 2, 'daydreams': 2, 'become': 32, 'more': 149, 'fervent': 2, 'vivid.': 1, 'try': 4, 'vain': 7, 'be': 335, 'persuaded': 7, 'pole': 2, 'seat': 3, 'frost': 4, 'desolation;': 3, 'it': 362, 'ever': 40, 'presents': 3, 'itself': 17, 'imagination': 14, 'region': 4, 'beauty': 19, 'There,': 1, 'Margaret,': 6, 'sun': 38, 'forever': 17, 'visible,': 3, 'its': 120, 'broad': 2, 'disk': 2, 'just': 19, 'skirting': 1, 'horizon': 3, 'diffusing': 1, 'perpetual': 4, 'splendour.': 1, 'There—for': 1, 'your': 235, 'leave,': 1, 'sister,': 13, 'put': 14, 'some': 136, 'trust': 6, 'preceding': 6, 'navigators—there': 1, 'snow': 11, 'are': 164, 'banished;': 1, 'and,': 21, 'sailing': 1, 'over': 55, 'calm': 13, 'sea,': 9, 'we': 114, 'may': 92, 'wafted': 4, 'land': 12, 'surpassing': 2, 'wonders': 3, 'every': 103, 'hitherto': 12, 'discovered': 28, 'on': 421, 'habitable': 1, 'globe.': 1, 'Its': 3, 'productions': 2, 'features': 6, 'without': 29, 'example,': 2, 'phenomena': 2, 'heavenly': 3, 'bodies': 3, 'undoubtedly': 1, 'undiscovered': 2, 'solitudes.': 1, 'What': 32, 'not': 479, 'expected': 8, 'country': 18, 'eternal': 11, 'light?': 1, 'there': 52, 'discover': 16, 'wondrous': 6, 'power': 32, 'attracts': 1, 'needle': 1, 'regulate': 2, 'thousand': 27, 'celestial': 5, 'observations': 1, 'require': 1, 'only': 119, 'voyage': 11, 'render': 10, 'their': 174, 'seeming': 2, 'eccentricities': 1, 'consistent': 1, 'forever.': 10, 'shall': 97, 'satiate': 1, 'ardent': 10, 'curiosity': 8, 'sight': 19, 'part': 34, 'world': 24, 'never': 60, 'before': 122, 'visited,': 1, 'tread': 2, 'imprinted': 2, 'foot': 4, 'man.': 18, 'These': 17, 'enticements,': 1, 'they': 166, 'sufficient': 19, 'conquer': 1, 'all': 172, 'fear': 24, 'danger': 6, 'or': 169, 'death': 41, 'induce': 4, 'commence': 12, 'laborious': 3, 'joy': 29, 'child': 18, 'feels': 1, 'when': 261, 'he': 446, 'embarks': 1, 'little': 53, 'boat,': 5, 'his': 500, 'holiday': 1, 'mates,': 1, 'expedition': 3, 'discovery': 16, 'up': 63, 'native': 28, 'river.': 1, 'But': 128, 'supposing': 2, 'these': 130, 'conjectures': 1, 'false,': 1, 'cannot': 46, 'contest': 1, 'inestimable': 1, 'benefit': 5, 'confer': 1, 'mankind,': 2, 'last': 30, 'generation,': 1, 'discovering': 3, 'passage': 6, 'near': 35, 'countries,': 1, 'reach': 5, 'at': 289, 'present': 28, 'so': 196, 'many': 65, 'months': 31, 'requisite;': 1, 'ascertaining': 1, 'secret': 9, 'magnet,': 1, 'which,': 18, 'if': 153, 'possible,': 3, 'can': 88, 'effected': 1, 'undertaking': 7, 'mine.': 4, 'reflections': 10, 'dispelled': 1, 'agitation': 10, 'began': 24, 'letter,': 4, 'heart': 44, 'glow': 1, 'enthusiasm': 8, 'elevates': 2, 'heaven,': 9, 'for': 428, 'nothing': 24, 'contributes': 1, 'much': 42, 'tranquillize': 1, 'mind': 60, 'steady': 2, 'purpose—a': 1, 'point': 13, 'soul': 25, 'fix': 3, 'intellectual': 1, 'eye.': 2, 'been': 182, 'favourite': 12, 'dream': 8, 'early': 10, 'years.': 9, 'read': 26, 'ardour': 9, 'accounts': 3, 'various': 26, 'voyages': 3, 'made': 66, 'prospect': 12, 'arriving': 1, 'North': 2, 'Pacific': 1, 'Ocean': 1, 'through': 40, 'seas': 3, 'surround': 4, 'pole.': 2, 'remember': 9, 'history': 11, 'purposes': 3, 'composed': 4, 'whole': 32, 'our': 118, 'good': 24, 'Uncle': 2, \"Thomas'\": 2, 'library.': 1, 'My': 120, 'education': 5, 'was': 992, 'neglected,': 2, 'yet': 109, 'passionately': 1, 'fond': 6, 'reading.': 1, 'volumes': 2, 'were': 298, 'study': 13, 'day': 54, 'night,': 18, 'familiarity': 1, 'them': 76, 'increased': 10, 'regret': 6, 'had': 679, 'felt,': 4, 'child,': 9, 'learning': 1, \"father's\": 20, 'dying': 5, 'injunction': 1, 'forbidden': 3, 'uncle': 7, 'allow': 12, 'embark': 1, 'seafaring': 1, 'life.': 18, 'visions': 4, 'faded': 1, 'perused,': 1, 'time,': 13, 'poets': 2, 'whose': 50, 'effusions': 1, 'entranced': 1, 'lifted': 1, 'heaven.': 1, 'also': 56, 'became': 60, 'poet': 1, 'one': 174, 'year': 6, 'lived': 14, 'paradise': 2, 'own': 96, 'creation;': 3, 'imagined': 7, 'might': 107, 'obtain': 6, 'niche': 1, 'temple': 1, 'where': 74, 'names': 13, 'Homer': 1, 'Shakespeare': 1, 'consecrated.': 1, 'well': 33, 'acquainted': 17, 'failure': 2, 'how': 51, 'heavily': 2, 'bore': 6, 'disappointment.': 3, 'time': 75, 'inherited': 2, 'fortune': 5, 'cousin,': 5, 'thoughts': 28, 'turned': 24, 'into': 124, 'channel': 1, 'earlier': 3, 'bent.': 1, 'Six': 3, 'years': 29, 'passed': 59, 'since': 25, 'resolved': 27, 'can,': 2, 'even': 81, 'now,': 15, 'hour': 20, 'dedicated': 2, 'myself': 105, 'great': 44, 'enterprise.': 7, 'commenced': 3, 'inuring': 1, 'body': 18, 'hardship.': 1, 'whale-fishers': 1, 'several': 43, 'expeditions': 1, 'Sea;': 1, 'voluntarily': 1, 'endured': 15, 'cold,': 7, 'famine,': 1, 'thirst,': 6, 'want': 10, 'sleep;': 2, 'often': 44, 'worked': 8, 'harder': 1, 'than': 109, 'common': 5, 'sailors': 8, 'during': 49, 'devoted': 13, 'nights': 4, 'mathematics,': 1, 'theory': 4, 'medicine,': 1, 'branches': 7, 'physical': 3, 'science': 18, 'naval': 1, 'adventurer': 1, 'derive': 2, 'greatest': 27, 'practical': 2, 'advantage.': 1, 'Twice': 1, 'actually': 2, 'hired': 6, 'under-mate': 1, 'Greenland': 1, 'whaler,': 1, 'acquitted': 1, 'admiration.': 4, 'must': 63, 'felt': 72, 'proud': 2, 'captain': 2, 'offered': 2, 'second': 3, 'dignity': 4, 'vessel': 11, 'entreated': 6, 'remain': 20, 'earnestness,': 1, 'valuable': 2, 'did': 112, 'consider': 8, 'services.': 2, 'And': 31, 'do': 87, 'deserve': 2, 'accomplish': 2, 'purpose?': 1, 'life': 65, 'ease': 2, 'luxury,': 1, 'but': 538, 'preferred': 1, 'glory': 5, 'enticement': 1, 'wealth': 5, 'placed': 27, 'path.': 3, 'Oh,': 10, 'encouraging': 1, 'voice': 31, 'would': 177, 'answer': 15, 'affirmative!': 1, 'courage': 13, 'resolution': 7, 'firm;': 1, 'hopes': 16, 'fluctuate,': 1, 'spirits': 19, 'depressed.': 1, 'about': 46, 'proceed': 5, 'long': 44, 'difficult': 2, 'voyage,': 2, 'emergencies': 1, 'demand': 6, 'fortitude:': 1, 'required': 6, 'raise': 6, 'others,': 7, 'sometimes': 36, 'sustain': 6, 'own,': 3, 'theirs': 1, 'failing.': 1, 'most': 87, 'favourable': 6, 'period': 15, 'travelling': 1, 'Russia.': 1, 'They': 34, 'fly': 7, 'quickly': 25, 'sledges;': 1, 'motion': 4, 'pleasant,': 1, 'opinion,': 2, 'agreeable': 5, 'English': 5, 'stagecoach.': 1, 'excessive,': 2, 'wrapped': 4, 'furs—a': 1, 'dress': 5, 'adopted,': 1, 'difference': 5, 'between': 19, 'walking': 7, 'deck': 7, 'remaining': 6, 'seated': 3, 'motionless': 2, 'hours,': 6, 'exercise': 4, 'prevents': 2, 'blood': 12, 'freezing': 1, 'veins.': 1, 'ambition': 4, 'lose': 7, 'post-road': 1, 'Petersburgh': 1, 'Archangel.': 1, 'depart': 4, 'latter': 11, 'town': 15, 'fortnight': 4, 'three': 10, 'weeks;': 1, 'intention': 2, 'hire': 1, 'ship': 3, 'there,': 5, 'easily': 18, 'done': 6, 'paying': 1, 'insurance': 1, 'owner,': 1, 'engage': 3, 'think': 25, 'necessary': 14, 'among': 49, 'who': 150, 'accustomed': 8, 'whale-fishing.': 1, 'intend': 5, 'sail': 5, 'until': 49, 'month': 7, 'June;': 1, 'return?': 1, 'Ah,': 1, 'question?': 1, 'If': 32, 'succeed,': 1, 'many,': 1, 'months,': 6, 'perhaps': 14, 'years,': 5, 'pass': 15, 'meet.': 3, 'fail,': 1, 'see': 49, 'again': 63, 'soon,': 2, 'never.': 1, 'Farewell,': 3, 'dear,': 3, 'excellent': 13, 'Margaret.': 2, 'Heaven': 3, 'shower': 1, 'down': 31, 'blessings': 2, 'you,': 47, 'save': 5, 'me,': 147, 'testify': 1, 'gratitude': 7, 'love': 41, 'kindness.': 6, 'Your': 9, 'affectionate': 5, 'brother,': 8, 'R.': 1, 'Walton': 2, '2': 2, 'Archangel,': 2, '28th': 1, 'March,': 1, 'To': 10, 'How': 27, 'slowly': 2, 'passes': 2, 'here,': 3, 'encompassed': 4, 'snow!': 1, 'Yet': 29, 'step': 5, 'taken': 33, 'occupied': 24, 'collecting': 5, 'sailors;': 1, 'whom': 80, 'engaged': 11, 'appear': 17, 'men': 29, 'depend': 2, 'certainly': 11, 'possessed': 34, 'dauntless': 2, 'courage.': 2, 'able': 9, 'satisfy,': 1, 'absence': 5, 'object': 16, 'now': 130, 'severe': 3, 'evil,': 5, 'friend,': 31, 'Margaret:': 1, 'glowing': 1, 'success,': 3, 'none': 16, 'participate': 2, 'joy;': 3, 'assailed': 1, 'disappointment,': 1, 'endeavour': 11, 'dejection.': 2, 'commit': 3, 'paper,': 1, 'true;': 1, 'poor': 34, 'medium': 1, 'communication': 2, 'feeling.': 2, 'desire': 21, 'company': 5, 'man': 76, 'could': 187, 'sympathize': 3, 'eyes': 63, 'reply': 1, 'deem': 1, 'romantic,': 2, 'bitterly': 4, 'friend.': 8, 'gentle': 30, 'courageous,': 1, 'cultivated': 2, 'capacious': 1, 'mind,': 9, 'tastes': 2, 'like': 58, 'approve': 2, 'amend': 1, 'plans.': 2, 'friend': 22, 'repair': 1, 'faults': 1, 'brother!': 1, 'too': 29, 'execution': 7, 'impatient': 4, 'difficulties.': 2, 'still': 63, 'greater': 25, 'self-educated:': 1, 'fourteen': 1, 'ran': 7, 'wild': 12, 'books': 9, 'voyages.': 1, 'At': 25, 'age': 5, 'celebrated': 2, 'country;': 5, 'ceased': 10, 'important': 1, 'benefits': 1, 'conviction': 5, 'perceived': 24, 'necessity': 3, 'becoming': 4, 'languages': 2, 'country.': 14, 'Now': 5, 'twenty-eight': 1, 'reality': 7, 'illiterate': 1, 'schoolboys': 1, 'fifteen.': 1, 'It': 86, 'true': 10, 'thought': 65, 'extended': 1, 'magnificent,': 3, '(as': 1, 'painters': 1, 'call': 13, 'it)': 1, 'KEEPING;': 1, 'greatly': 12, 'need': 7, 'sense': 11, 'enough': 10, 'despise': 2, 'affection': 27, 'mind.': 11, 'Well,': 3, 'useless': 6, 'complaints;': 1, 'find': 21, 'wide': 7, 'ocean,': 3, 'nor': 31, 'merchants': 1, 'seamen.': 1, 'feelings,': 11, 'unallied': 1, 'dross': 1, 'human': 54, 'nature,': 10, 'beat': 5, 'rugged': 4, 'bosoms.': 1, 'lieutenant,': 1, 'instance,': 1, 'wonderful': 15, 'enterprise;': 1, 'madly': 1, 'desirous': 3, 'glory,': 1, 'rather,': 2, 'word': 11, 'phrase': 1, 'characteristically,': 1, 'advancement': 1, 'profession.': 1, 'He': 126, 'Englishman,': 2, 'midst': 3, 'national': 1, 'professional': 1, 'prejudices,': 1, 'unsoftened': 1, 'cultivation,': 1, 'retains': 1, 'noblest': 1, 'endowments': 1, 'humanity.': 1, 'him': 147, 'board': 5, 'whale': 1, 'vessel;': 1, 'finding': 7, 'unemployed': 1, 'city,': 1, 'assist': 6, 'master': 5, 'person': 17, 'disposition': 5, 'remarkable': 2, 'gentleness': 6, 'mildness': 3, 'discipline.': 1, 'circumstance,': 2, 'added': 7, 'well-known': 4, 'integrity': 3, 'courage,': 3, 'very': 72, 'him.': 21, 'A': 44, 'youth': 15, 'solitude,': 1, 'best': 11, 'spent': 23, 'under': 24, 'feminine': 2, 'fosterage,': 1, 'refined': 3, 'groundwork': 1, 'character': 3, 'overcome': 13, 'intense': 5, 'distaste': 1, 'usual': 4, 'brutality': 2, 'exercised': 2, 'ship:': 1, 'believed': 12, 'necessary,': 4, 'heard': 56, 'mariner': 1, 'equally': 4, 'noted': 1, 'kindliness': 1, 'respect': 3, 'obedience': 1, 'paid': 6, 'crew,': 1, 'peculiarly': 5, 'fortunate': 7, 'being': 73, 'secure': 6, 'rather': 24, 'romantic': 2, 'manner,': 6, 'lady': 5, 'owes': 1, 'happiness': 30, 'her': 313, 'This,': 3, 'briefly,': 1, 'story.': 3, 'Some': 9, 'ago': 2, 'loved': 24, 'young': 26, 'Russian': 1, 'moderate': 3, 'fortune,': 4, 'having': 21, 'amassed': 1, 'considerable': 8, 'sum': 5, 'prize-money,': 1, 'father': 73, 'girl': 19, 'consented': 5, 'match.': 1, 'saw': 91, 'mistress': 3, 'once': 26, 'destined': 5, 'ceremony;': 1, 'she': 172, 'bathed': 1, 'tears,': 4, 'throwing': 2, 'herself': 12, 'feet,': 1, 'spare': 2, 'her,': 24, 'confessing': 1, 'same': 61, 'another,': 1, 'poor,': 3, 'consent': 7, 'union.': 3, 'generous': 5, 'reassured': 1, 'suppliant,': 1, 'informed': 4, 'name': 15, 'lover,': 2, 'instantly': 16, 'abandoned': 2, 'pursuit.': 4, 'bought': 3, 'farm': 1, 'money,': 4, 'designed': 1, 'remainder': 5, 'life;': 6, 'bestowed': 10, 'rival,': 1, 'together': 3, 'remains': 12, 'prize-money': 1, 'purchase': 1, 'stock,': 1, 'then': 80, 'himself': 23, 'solicited': 2, \"woman's\": 2, 'marriage': 13, 'lover.': 1, 'old': 47, 'decidedly': 1, 'refused,': 2, 'thinking': 2, 'bound': 12, 'honour': 9, 'who,': 13, 'found': 77, 'inexorable,': 1, 'quitted': 22, 'country,': 13, 'returned': 22, 'former': 13, 'married': 3, 'according': 3, 'inclinations.': 2, '\"What': 4, 'noble': 11, 'fellow!\"': 2, 'exclaim.': 1, 'so;': 4, 'wholly': 3, 'uneducated:': 1, 'silent': 11, 'Turk,': 3, 'kind': 28, 'ignorant': 7, 'carelessness': 3, 'attends': 1, 'him,': 43, 'while': 58, 'renders': 4, 'conduct': 6, 'astonishing,': 1, 'detracts': 1, 'interest': 13, 'sympathy': 13, 'otherwise': 8, 'command.': 1, 'suppose,': 4, 'because': 15, 'complain': 1, 'conceive': 9, 'consolation': 8, 'toils': 3, 'know,': 4, 'wavering': 1, 'resolutions.': 1, 'Those': 3, 'fixed': 21, 'fate,': 1, 'delayed': 5, 'weather': 5, 'permit': 4, 'embarkation.': 2, 'winter': 7, 'dreadfully': 3, 'severe,': 2, 'spring': 5, 'promises': 2, 'well,': 3, 'considered': 10, 'remarkably': 3, 'season,': 3, 'sooner': 3, 'expected.': 2, 'rashly:': 1, 'know': 38, 'sufficiently': 3, 'confide': 4, 'prudence': 1, 'considerateness': 1, 'whenever': 1, 'safety': 8, 'others': 15, 'committed': 10, 'care.': 3, 'describe': 13, 'sensations': 19, 'impossible': 3, 'communicate': 2, 'conception': 4, 'trembling': 5, 'sensation,': 2, 'half': 16, 'pleasurable': 2, 'fearful,': 2, 'preparing': 4, 'depart.': 1, 'going': 7, 'unexplored': 2, 'regions,': 1, '\"the': 4, 'mist': 5, 'snow,\"': 1, 'kill': 2, 'albatross;': 1, 'therefore': 11, 'alarmed': 6, 'should': 152, 'come': 29, 'back': 12, 'worn': 3, 'woeful': 2, '\"Ancient': 2, 'Mariner.\"': 1, 'smile': 7, 'allusion,': 1, 'disclose': 3, 'secret.': 3, 'attributed': 4, 'attachment': 4, 'to,': 3, 'passionate': 3, 'for,': 3, 'dangerous': 3, 'mysteries': 2, 'ocean': 4, 'production': 1, 'imaginative': 1, 'modern': 10, 'poets.': 1, 'There': 13, 'something': 15, 'work': 21, 'understand.': 2, 'practically': 1, 'industrious—painstaking,': 1, 'workman': 1, 'execute': 3, 'perseverance': 2, 'labour—but': 1, 'besides': 4, 'marvellous,': 2, 'belief': 3, 'intertwined': 1, 'projects,': 2, 'hurries': 1, 'out': 32, 'pathways': 1, 'men,': 9, 'sea': 16, 'unvisited': 1, 'explore.': 1, 'return': 34, 'dearer': 5, 'considerations.': 1, 'Shall': 5, 'meet': 8, 'again,': 9, 'after': 55, 'traversed': 6, 'immense': 5, 'seas,': 2, 'southern': 3, 'cape': 1, 'Africa': 1, 'America?': 1, 'dare': 13, 'expect': 7, 'bear': 6, 'look': 18, 'reverse': 2, 'picture.': 1, 'Continue': 1, 'write': 8, 'opportunity:': 1, 'receive': 6, 'letters': 12, 'occasions': 1, 'support': 8, 'spirits.': 3, 'tenderly.': 2, 'Remember': 4, 'affection,': 7, 'again.': 4, 'Robert': 1, '3': 2, 'July': 1, '7th,': 1, 'Sister,': 2, 'few': 59, 'lines': 2, 'haste': 1, 'say': 14, 'safe—and': 2, 'advanced': 8, 'voyage.': 2, 'letter': 17, 'merchantman': 1, 'homeward': 1, 'Archangel;': 1, 'I,': 33, 'land,': 2, 'perhaps,': 6, 'am,': 5, 'however,': 22, 'spirits:': 1, 'bold': 2, 'apparently': 10, 'firm': 5, 'purpose,': 5, 'floating': 1, 'sheets': 1, 'ice': 22, 'continually': 17, 'us,': 8, 'indicating': 1, 'dangers': 4, 'dismay': 1, 'them.': 17, 'We': 55, 'reached': 7, 'high': 16, 'latitude;': 1, 'height': 3, 'summer,': 1, 'although': 49, 'warm': 7, 'England,': 5, 'gales,': 1, 'blow': 3, 'us': 33, 'speedily': 6, 'shores': 4, 'ardently': 10, 'attain,': 1, 'breathe': 2, 'degree': 17, 'renovating': 1, 'warmth': 8, 'No': 15, 'incidents': 6, 'befallen': 3, 'make': 32, 'figure': 8, 'letter.': 2, 'One': 16, 'two': 32, 'stiff': 1, 'gales': 1, 'springing': 1, 'leak': 1, 'accidents': 4, 'experienced': 9, 'navigators': 2, 'scarcely': 13, 'record,': 2, 'content': 7, 'worse': 3, 'happen': 1, 'Adieu,': 1, 'Be': 4, 'assured': 8, 'sake,': 4, 'yours,': 2, 'rashly': 2, 'encounter': 5, 'danger.': 2, 'cool,': 1, 'persevering,': 1, 'prudent.': 1, 'SHALL': 2, 'crown': 3, 'endeavours.': 1, 'Wherefore': 1, 'not?': 1, 'Thus': 14, 'gone,': 2, 'tracing': 1, 'way': 15, 'pathless': 1, 'stars': 9, 'themselves': 8, 'witnesses': 6, 'testimonies': 1, 'triumph.': 1, 'Why': 13, 'untamed': 1, 'obedient': 1, 'element?': 1, 'stop': 1, 'determined': 16, 'man?': 1, 'swelling': 3, 'involuntarily': 2, 'pours': 1, 'thus.': 4, 'finish.': 1, 'bless': 6, 'beloved': 22, 'sister!': 1, 'R.W.': 1, '4': 2, 'August': 5, '5th,': 1, 'So': 4, 'strange': 28, 'accident': 5, 'happened': 7, 'forbear': 2, 'recording': 3, 'it,': 30, 'probable': 3, 'papers': 7, 'possession.': 1, 'Last': 1, 'Monday': 1, '(July': 1, '31st)': 1, 'nearly': 29, 'surrounded': 18, 'ice,': 11, 'closed': 6, 'sides,': 2, 'leaving': 4, 'sea-room': 1, 'floated.': 1, 'Our': 8, 'situation': 4, 'somewhat': 5, 'dangerous,': 2, 'especially': 3, 'compassed': 1, 'round': 9, 'thick': 7, 'fog.': 1, 'accordingly': 9, 'lay': 24, 'hoping': 2, 'change': 25, 'take': 20, 'place': 45, 'atmosphere': 2, 'weather.': 1, 'About': 6, \"o'clock\": 3, 'cleared': 3, 'away,': 8, 'beheld,': 1, 'stretched': 8, 'direction,': 1, 'vast': 11, 'irregular': 2, 'plains': 2, 'seemed': 36, 'end.': 5, 'comrades': 2, 'groaned,': 1, 'grow': 1, 'watchful': 2, 'anxious': 5, 'thoughts,': 5, 'suddenly': 22, 'attracted': 6, 'attention': 15, 'diverted': 2, 'solicitude': 1, 'situation.': 2, 'low': 5, 'carriage,': 1, 'sledge': 8, 'drawn': 4, 'dogs,': 2, 'north,': 2, 'distance': 9, 'mile;': 1, 'shape': 5, 'man,': 24, 'gigantic': 4, 'stature,': 5, 'sat': 24, 'guided': 4, 'dogs.': 1, 'watched': 4, 'rapid': 4, 'progress': 13, 'traveller': 4, 'telescopes': 1, 'lost': 26, 'distant': 7, 'inequalities': 2, 'ice.': 6, 'appearance': 23, 'excited': 11, 'unqualified': 1, 'wonder.': 4, 'were,': 9, 'believed,': 1, 'hundred': 3, 'miles': 6, 'any': 84, 'land;': 2, 'apparition': 4, 'denote': 1, 'not,': 11, 'reality,': 1, 'supposed.': 1, 'Shut': 1, 'in,': 3, 'follow': 9, 'track,': 1, 'observed': 18, 'attention.': 3, 'hours': 26, 'occurrence': 3, 'ground': 12, 'night': 55, 'broke': 5, 'freed': 4, 'ship.': 2, 'We,': 1, 'morning,': 14, 'fearing': 3, 'dark': 22, 'large': 7, 'loose': 7, 'masses': 1, 'float': 1, 'breaking': 3, 'profited': 2, 'rest': 17, 'hours.': 2, 'In': 46, 'soon': 56, 'light,': 4, 'went': 20, 'busy': 5, 'side': 6, 'vessel,': 1, 'talking': 2, 'someone': 4, 'sea.': 1, 'was,': 20, 'fact,': 2, 'sledge,': 3, 'seen': 15, 'before,': 9, 'drifted': 1, 'fragment': 1, 'Only': 1, 'dog': 1, 'remained': 31, 'alive;': 2, 'within': 28, 'persuading': 2, 'enter': 17, 'vessel.': 3, 'other': 69, 'be,': 2, 'savage': 3, 'inhabitant': 1, 'island,': 2, 'European.': 1, 'When': 47, 'appeared': 52, 'said,': 32, '\"Here': 1, 'captain,': 1, 'perish': 5, 'open': 9, 'sea.\"': 1, 'On': 17, 'perceiving': 6, 'stranger': 12, 'addressed': 13, 'English,': 3, 'foreign': 2, 'accent.': 1, '\"Before': 1, 'vessel,\"': 1, 'said': 68, 'he,': 18, '\"will': 2, 'kindness': 15, 'inform': 3, 'whither': 5, 'bound?\"': 1, 'astonishment': 4, 'hearing': 6, 'question': 3, 'brink': 3, 'destruction': 11, 'supposed': 9, 'resource': 2, 'exchanged': 4, 'precious': 3, 'earth': 15, 'afford.': 2, 'replied,': 3, 'Upon': 2, 'satisfied': 7, 'board.': 1, 'Good': 4, 'God!': 8, 'thus': 35, 'capitulated': 1, 'safety,': 1, 'surprise': 5, 'boundless.': 1, 'His': 33, 'limbs': 10, 'frozen,': 1, 'emaciated': 3, 'fatigue': 6, 'suffering.': 1, 'wretched': 15, 'condition.': 2, 'attempted': 9, 'carry': 2, 'cabin,': 2, 'fresh': 11, 'air': 22, 'fainted.': 4, 'brought': 28, 'restored': 13, 'animation': 4, 'rubbing': 1, 'brandy': 1, 'forcing': 1, 'swallow': 1, 'small': 15, 'quantity.': 1, 'As': 39, 'showed': 7, 'signs': 5, 'blankets': 1, 'chimney': 2, 'kitchen': 1, 'stove.': 1, 'By': 13, 'slow': 6, 'degrees': 7, 'recovered': 12, 'ate': 3, 'soup,': 1, 'wonderfully.': 1, 'Two': 5, 'days': 33, 'manner': 19, 'speak,': 4, 'feared': 13, 'sufferings': 9, 'deprived': 9, 'understanding.': 1, 'measure': 3, 'recovered,': 1, 'removed': 4, 'cabin': 4, 'attended': 9, 'duty': 9, 'permit.': 1, 'interesting': 5, 'creature:': 1, 'generally': 6, 'expression': 12, 'wildness,': 1, 'madness,': 1, 'moments': 16, 'when,': 12, 'anyone': 3, 'performs': 1, 'act': 10, 'does': 13, 'trifling': 2, 'service,': 2, 'countenance': 25, 'lighted': 4, 'up,': 6, 'beam': 1, 'benevolence': 4, 'sweetness': 2, 'equalled.': 2, 'melancholy': 13, 'despairing,': 1, 'gnashes': 1, 'teeth,': 2, 'weight': 7, 'woes': 2, 'oppresses': 1, 'guest': 6, 'trouble': 3, 'keep': 5, 'off': 11, 'wished': 19, 'ask': 10, 'questions;': 1, 'tormented': 4, 'idle': 2, 'curiosity,': 3, 'state': 21, 'restoration': 1, 'evidently': 3, 'depended': 4, 'entire': 3, 'repose.': 1, 'Once,': 2, 'lieutenant': 1, 'asked': 14, 'why': 13, 'vehicle.': 1, 'assumed': 5, 'aspect': 7, 'deepest': 2, 'gloom,': 2, '\"To': 2, 'seek': 23, 'fled': 6, 'me.\"': 4, '\"And': 6, 'pursued': 11, 'travel': 4, 'fashion?\"': 1, '\"Yes.\"': 1, '\"Then': 1, 'fancy': 7, 'picked': 1, 'dogs': 4, 'drawing': 5, 'across': 17, 'ice.\"': 1, 'aroused': 1, \"stranger's\": 1, 'attention,': 4, 'multitude': 6, 'questions': 4, 'concerning': 23, 'route': 1, 'demon,': 1, 'called': 24, 'pursued.': 1, 'Soon': 8, 'after,': 5, 'alone': 23, '\"I': 71, 'have,': 2, 'doubtless,': 1, 'people;': 1, 'considerate': 1, 'inquiries.\"': 1, '\"Certainly;': 1, 'indeed': 40, 'impertinent': 1, 'inhuman': 1, 'inquisitiveness': 1, 'mine.\"': 1, 'rescued': 1, 'perilous': 1, 'situation;': 1, 'benevolently': 1, 'life.\"': 2, 'inquired': 5, 'destroyed': 16, 'sledge.': 1, 'replied': 21, 'certainty,': 2, 'broken': 10, 'midnight,': 1, 'time;': 3, 'judge.': 1, 'From': 12, 'new': 37, 'spirit': 26, 'animated': 6, 'decaying': 1, 'frame': 6, 'stranger.': 4, 'manifested': 2, 'eagerness': 4, 'watch': 8, 'appeared;': 1, 'weak': 4, 'rawness': 1, 'atmosphere.': 1, 'promised': 12, 'give': 20, 'instant': 11, 'notice': 4, 'sight.': 2, 'Such': 12, 'journal': 4, 'what': 91, 'relates': 3, 'day.': 10, 'gradually': 5, 'improved': 6, 'health': 7, 'appears': 6, 'uneasy': 3, 'except': 11, 'enters': 1, 'cabin.': 3, 'manners': 14, 'conciliating': 2, 'interested': 4, 'For': 22, 'part,': 5, 'begin': 4, 'constant': 5, 'deep': 16, 'grief': 21, 'compassion.': 4, 'creature': 27, 'better': 10, 'days,': 7, 'wreck': 3, 'attractive': 2, 'amiable.': 1, 'letters,': 3, 'ocean;': 3, 'misery,': 7, 'happy': 21, 'brother': 6, 'heart.': 10, 'continue': 7, 'intervals,': 1, 'record.': 1, '13th,': 1, 'increases': 1, 'excites': 1, 'admiration': 9, 'pity': 8, 'astonishing': 6, 'degree.': 2, 'misery': 27, 'feeling': 17, 'poignant': 2, 'grief?': 2, 'gentle,': 4, 'wise;': 1, 'cultivated,': 1, 'speaks,': 2, 'words': 41, 'culled': 1, 'choicest': 1, 'art,': 1, 'flow': 2, 'rapidity': 1, 'unparalleled': 5, 'eloquence.': 1, 'illness': 5, 'deck,': 1, 'watching': 12, 'preceded': 3, 'own.': 6, 'Yet,': 5, 'unhappy,': 4, 'utterly': 11, 'interests': 2, 'deeply': 16, 'projects': 1, 'others.': 2, 'frequently': 4, 'conversed': 3, 'mine,': 3, 'communicated': 6, 'disguise.': 1, 'entered': 27, 'attentively': 1, 'arguments': 6, 'favour': 5, 'eventual': 1, 'minute': 5, 'detail': 7, 'measures': 2, 'it.': 40, 'led': 16, 'evinced': 1, 'use': 9, 'language': 9, 'heart,': 15, 'utterance': 1, 'burning': 10, 'say,': 8, 'fervour': 3, 'warmed': 5, 'gladly': 1, 'sacrifice': 4, 'existence,': 4, 'hope,': 14, 'furtherance': 1, \"man's\": 4, 'price': 1, 'pay': 3, 'acquirement': 2, 'knowledge': 22, 'sought,': 1, 'dominion': 1, 'acquire': 2, 'transmit': 1, 'elemental': 1, 'foes': 1, 'race.': 2, 'spoke,': 5, 'gloom': 7, 'spread': 3, \"listener's\": 1, 'countenance.': 6, 'tried': 13, 'suppress': 2, 'emotion;': 1, 'hands': 22, 'eyes,': 24, 'quivered': 1, 'failed': 6, 'beheld': 30, 'tears': 18, 'trickle': 1, 'fast': 4, 'fingers;': 1, 'groan': 2, 'burst': 8, 'heaving': 1, 'breast.': 3, 'paused;': 1, 'length': 25, 'accents:': 1, '\"Unhappy': 1, 'man!': 4, 'share': 4, 'madness?': 1, 'Have': 4, 'drunk': 2, 'intoxicating': 1, 'draught?': 1, 'Hear': 3, 'me;': 52, 'let': 20, 'reveal': 2, 'tale,': 5, 'dash': 2, 'cup': 3, 'lips!\"': 1, 'words,': 7, 'imagine,': 1, 'strongly': 7, 'curiosity;': 1, 'paroxysm': 1, 'seized': 15, 'overcame': 7, 'weakened': 2, 'powers,': 4, 'repose': 4, 'tranquil': 5, 'conversation': 14, 'restore': 9, 'composure.': 1, 'Having': 3, 'conquered': 2, 'violence': 6, 'slave': 3, 'passion;': 1, 'quelling': 1, 'tyranny': 1, 'despair,': 8, 'converse': 4, 'personally.': 1, 'tale': 20, 'told,': 1, 'awakened': 3, 'trains': 1, 'reflection.': 5, 'spoke': 18, 'thirst': 7, 'intimate': 3, 'fellow': 24, 'fallen': 9, 'lot,': 1, 'expressed': 24, 'boast': 3, 'enjoy': 7, 'blessing.': 1, 'agree': 1, 'you,\"': 6, 'stranger;': 1, '\"we': 1, 'unfashioned': 1, 'creatures,': 4, 'wiser,': 1, 'better,': 1, 'ourselves—such': 1, 'ought': 13, 'be—do': 1, 'lend': 1, 'aid': 8, 'perfectionate': 1, 'faulty': 1, 'natures.': 1, 'entitled,': 1, 'therefore,': 26, 'judge': 6, 'respecting': 1, 'friendship.': 1, 'cause': 28, 'despair.': 15, 'I—I': 1, 'everything': 3, 'anew.\"': 2, 'expressive': 7, 'calm,': 2, 'settled': 2, 'touched': 4, 'presently': 8, 'retired': 14, 'Even': 13, 'is,': 5, 'beauties': 3, 'nature.': 4, 'starry': 1, 'sky,': 4, 'afforded': 5, 'seem': 4, 'elevating': 1, 'earth.': 9, 'double': 2, 'existence:': 1, 'suffer': 9, 'overwhelmed': 5, 'disappointments,': 1, 'himself,': 9, 'halo': 1, 'around': 29, 'circle': 2, 'folly': 2, 'ventures.': 1, 'Will': 2, 'express': 8, 'divine': 10, 'wanderer?': 2, 'tutored': 1, 'retirement': 1, 'world,': 8, 'fastidious;': 1, 'fit': 5, 'appreciate': 1, 'extraordinary': 1, 'merits': 2, 'Sometimes': 16, 'endeavoured': 26, 'quality': 2, 'possesses': 1, 'immeasurably': 1, 'above': 11, 'knew.': 1, 'believe': 25, 'intuitive': 1, 'discernment,': 1, 'quick': 6, 'never-failing': 1, 'judgment,': 1, 'penetration': 1, 'causes': 4, 'things,': 2, 'unequalled': 1, 'clearness': 1, 'precision;': 1, 'add': 4, 'facility': 1, 'varied': 2, 'intonations': 1, 'soul-subduing': 1, 'music.': 2, '19,': 1, 'Yesterday': 1, '\"You': 18, 'perceive,': 2, 'Captain': 1, 'Walton,': 4, 'suffered': 18, 'misfortunes.': 5, 'memory': 12, 'evils': 2, 'die': 10, 'won': 3, 'alter': 4, 'determination.': 3, 'wisdom,': 1, 'did;': 1, 'hope': 31, 'gratification': 2, 'wishes': 5, 'serpent': 1, 'sting': 4, 'mine': 13, 'been.': 4, 'relation': 4, 'disasters': 1, 'useful': 4, 'you;': 19, 'yet,': 6, 'reflect': 14, 'pursuing': 3, 'course,': 2, 'exposing': 1, 'yourself': 14, 'rendered': 17, 'imagine': 2, 'deduce': 1, 'apt': 1, 'moral': 2, 'direct': 7, 'succeed': 2, 'console': 7, 'case': 4, 'failure.': 1, 'Prepare': 1, 'occurrences': 4, 'usually': 2, 'deemed': 4, 'marvellous.': 1, 'Were': 1, 'tamer': 1, 'scenes': 13, 'nature': 29, 'unbelief,': 1, 'ridicule;': 1, 'things': 5, 'possible': 8, 'mysterious': 3, 'provoke': 1, 'laughter': 3, 'unacquainted': 4, 'ever-varied': 1, 'powers': 10, 'nature;': 4, 'doubt': 10, 'conveys': 1, 'series': 5, 'internal': 2, 'evidence': 5, 'truth': 6, 'events': 13, 'composed.\"': 1, 'gratified': 2, 'communication,': 1, 'endure': 12, 'renew': 5, 'recital': 1, 'narrative,': 1, 'partly': 8, 'strong': 7, 'ameliorate': 1, 'fate': 8, 'power.': 3, 'feelings': 57, 'answer.': 5, 'thank': 7, '\"for': 3, 'sympathy,': 2, 'useless;': 1, 'fulfilled.': 1, 'wait': 4, 'event,': 2, 'peace.': 7, 'feeling,\"': 1, 'continued': 24, 'interrupt': 2, 'him;': 8, '\"but': 2, 'mistaken,': 1, 'destiny;': 3, 'listen': 8, 'history,': 3, 'perceive': 5, 'irrevocably': 2, 'determined.\"': 1, 'told': 13, 'narrative': 3, 'next': 13, 'leisure.': 1, 'promise': 17, 'drew': 20, 'warmest': 2, 'thanks.': 1, 'imperatively': 1, 'duties,': 2, 'related': 10, 'engaged,': 5, 'least': 11, 'notes.': 1, 'manuscript': 1, 'doubtless': 6, 'afford': 8, 'pleasure;': 2, 'lips—with': 1, 'future': 17, 'day!': 2, 'task,': 2, 'full-toned': 1, 'swells': 1, 'ears;': 1, 'lustrous': 2, 'dwell': 4, 'sweetness;': 1, 'thin': 4, 'hand': 20, 'raised': 6, 'animation,': 3, 'lineaments': 2, 'face': 15, 'irradiated': 1, 'within.': 3, 'Strange': 1, 'harrowing': 2, 'story,': 4, 'frightful': 11, 'storm': 9, 'embraced': 6, 'gallant': 2, 'course': 15, 'wrecked': 2, 'it—thus!': 1, 'Chapter': 24, 'birth': 4, 'Genevese,': 1, 'family': 16, 'distinguished': 9, 'republic.': 1, 'ancestors': 1, 'counsellors': 1, 'syndics,': 1, 'filled': 23, 'public': 5, 'situations': 2, 'reputation.': 1, 'respected': 3, 'knew': 30, 'indefatigable': 2, 'business.': 1, 'younger': 7, 'perpetually': 3, 'affairs': 1, 'variety': 3, 'circumstances': 10, 'prevented': 2, 'marrying': 3, 'early,': 3, 'decline': 3, 'husband': 2, 'family.': 4, 'illustrate': 1, 'character,': 2, 'refrain': 3, 'relating': 1, 'friends': 30, 'merchant': 5, 'flourishing': 2, 'state,': 2, 'fell,': 5, 'numerous': 3, 'mischances,': 1, 'poverty.': 2, 'Beaufort,': 1, 'unbending': 1, 'live': 15, 'poverty': 5, 'oblivion': 1, 'formerly': 5, 'rank': 3, 'magnificence.': 1, 'debts,': 1, 'honourable': 2, 'retreated': 2, 'daughter': 9, 'Lucerne,': 1, 'unknown': 5, 'wretchedness.': 6, 'Beaufort': 5, 'truest': 1, 'friendship': 4, 'grieved': 2, 'retreat': 6, 'unfortunate': 11, 'circumstances.': 1, 'deplored': 2, 'false': 3, 'pride': 3, 'worthy': 4, 'united': 6, 'endeavouring': 9, 'out,': 4, 'credit': 5, 'assistance.': 1, 'effectual': 1, 'conceal': 5, 'ten': 7, 'abode.': 3, 'Overjoyed': 1, 'discovery,': 2, 'hastened': 9, 'house,': 7, 'situated': 3, 'mean': 7, 'street': 2, 'Reuss.': 1, 'entered,': 4, 'despair': 22, 'welcomed': 5, 'saved': 5, 'money': 4, 'fortunes,': 1, 'provide': 2, 'sustenance': 2, 'meantime': 6, 'hoped': 8, 'procure': 8, 'respectable': 1, 'employment': 1, \"merchant's\": 1, 'house.': 6, 'interval': 3, 'consequently,': 1, 'inaction;': 1, 'rankling': 1, 'leisure': 4, 'reflection,': 4, 'took': 36, 'hold': 6, 'end': 15, 'bed': 6, 'sickness,': 2, 'incapable': 4, 'exertion.': 3, 'tenderness,': 1, 'fund': 1, 'rapidly': 8, 'decreasing': 1, 'support.': 5, 'Caroline': 3, 'uncommon': 3, 'mould,': 1, 'rose': 12, 'adversity.': 1, 'She': 68, 'procured': 6, 'plain': 3, 'work;': 2, 'plaited': 2, 'straw': 3, 'means': 21, 'contrived': 3, 'earn': 1, 'pittance': 3, 'Several': 6, 'manner.': 6, 'Her': 15, 'grew': 6, 'worse;': 1, 'entirely': 20, 'attending': 4, 'subsistence': 1, 'decreased;': 1, 'tenth': 1, 'died': 17, 'arms,': 2, 'orphan': 2, 'beggar.': 2, 'knelt': 5, \"Beaufort's\": 1, 'coffin': 3, 'weeping': 3, 'bitterly,': 2, 'chamber.': 4, 'came': 37, 'protecting': 1, 'girl,': 5, 'care;': 2, 'interment': 1, 'conducted': 5, 'Geneva': 9, 'protection': 3, 'relation.': 1, 'event': 5, 'wife.': 3, 'ages': 2, 'parents,': 2, 'circumstance': 8, 'unite': 1, 'closer': 3, 'bonds': 2, 'affection.': 6, 'justice': 8, 'upright': 2, 'highly': 3, 'strongly.': 1, 'Perhaps': 1, 'late-discovered': 1, 'unworthiness': 1, 'disposed': 2, 'set': 9, 'value': 3, 'worth.': 2, 'show': 3, 'worship': 1, 'mother,': 10, 'differing': 1, 'doting': 2, 'fondness': 2, 'age,': 5, 'inspired': 3, 'reverence': 3, 'virtues': 8, 'of,': 2, 'degree,': 4, 'recompensing': 1, 'sorrows': 3, 'endured,': 3, 'gave': 31, 'inexpressible': 2, 'grace': 1, 'behaviour': 2, 'her.': 13, 'Everything': 3, 'yield': 4, 'convenience.': 1, 'strove': 3, 'shelter': 1, 'fair': 8, 'exotic': 1, 'sheltered': 2, 'gardener,': 1, 'rougher': 1, 'tend': 1, 'excite': 3, 'emotion': 1, 'soft': 5, 'benevolent': 13, 'health,': 7, 'tranquillity': 8, 'spirit,': 4, 'shaken': 2, 'gone': 7, 'through.': 1, 'During': 17, 'elapsed': 6, 'previous': 4, 'relinquished': 1, 'functions;': 1, 'immediately': 5, 'union': 10, 'sought': 16, 'pleasant': 11, 'climate': 1, 'Italy,': 3, 'scene': 34, 'attendant': 2, 'tour': 4, 'wonders,': 1, 'restorative': 1, 'frame.': 4, 'Italy': 3, 'visited': 16, 'Germany': 1, 'France.': 1, 'eldest': 2, 'born': 3, 'Naples,': 1, 'infant': 5, 'rambles.': 1, 'child.': 3, 'Much': 1, 'attached': 5, 'each': 27, 'other,': 3, 'draw': 7, 'inexhaustible': 2, 'stores': 1, 'bestow': 11, 'me.': 107, \"mother's\": 2, 'tender': 1, 'caresses': 1, 'pleasure': 20, 'regarding': 3, 'recollections.': 1, 'plaything': 2, 'idol,': 1, 'better—their': 1, 'innocent': 8, 'helpless': 1, 'bring': 3, 'good,': 3, 'lot': 4, 'fulfilled': 3, 'duties': 9, 'With': 8, 'consciousness': 3, 'owed': 3, 'given': 16, 'life,': 14, 'active': 2, 'tenderness': 3, 'both,': 1, 'received': 14, 'lesson': 1, 'patience,': 1, 'charity,': 1, 'self-control,': 1, 'silken': 1, 'cord': 1, 'train': 6, 'enjoyment': 5, 'mother': 16, 'desired': 24, 'daughter,': 5, 'single': 8, 'offspring.': 1, 'five': 10, 'old,': 2, 'making': 5, 'excursion': 1, 'beyond': 7, 'frontiers': 1, 'week': 6, 'Lake': 1, 'Como.': 1, 'Their': 10, 'cottages': 3, 'poor.': 1, 'duty;': 1, 'necessity,': 1, 'passion—remembering': 1, 'suffered,': 2, 'relieved—for': 1, 'turn': 11, 'guardian': 2, 'angel': 4, 'afflicted.': 1, 'walks': 3, 'cot': 1, 'foldings': 1, 'vale': 1, 'singularly': 2, 'disconsolate,': 2, 'number': 2, 'half-clothed': 1, 'children': 8, 'gathered': 5, 'penury': 1, 'worst': 2, 'shape.': 2, 'day,': 12, 'Milan,': 2, 'peasant': 4, 'wife,': 4, 'hard': 9, 'working,': 1, 'bent': 7, 'care': 17, 'labour,': 5, 'distributing': 2, 'scanty': 1, 'meal': 2, 'hungry': 1, 'babes.': 1, 'Among': 2, 'rest.': 4, 'different': 19, 'stock.': 1, 'four': 4, 'dark-eyed,': 1, 'hardy': 2, 'vagrants;': 1, 'fair.': 2, 'hair': 5, 'brightest': 1, 'living': 8, 'gold,': 1, 'despite': 1, 'clothing,': 1, 'distinction': 2, 'head.': 5, 'brow': 1, 'clear': 9, 'ample,': 1, 'blue': 11, 'cloudless,': 2, 'lips': 7, 'moulding': 1, 'sensibility': 3, 'behold': 7, 'looking': 9, 'distinct': 5, 'species,': 3, 'heaven-sent,': 1, 'bearing': 3, 'stamp': 1, 'features.': 1, 'woman,': 3, 'wonder': 12, 'lovely': 26, 'eagerly': 9, 'history.': 4, 'Milanese': 1, 'nobleman.': 1, 'German': 1, 'giving': 4, 'birth.': 2, 'people': 7, 'nurse:': 1, 'then.': 1, 'married,': 1, 'born.': 1, 'charge': 3, 'Italians': 1, 'nursed': 4, 'antique': 1, 'Italy—one': 1, 'schiavi': 1, 'ognor': 1, 'frementi,': 1, 'exerted': 2, 'liberty': 3, 'victim': 6, 'weakness.': 2, 'Whether': 1, 'lingered': 2, 'dungeons': 1, 'Austria': 1, 'known.': 3, 'property': 1, 'confiscated;': 1, 'foster': 1, 'parents': 7, 'bloomed': 2, 'rude': 4, 'abode,': 2, 'fairer': 2, 'garden': 5, 'dark-leaved': 1, 'brambles.': 1, 'playing': 3, 'hall': 1, 'villa': 1, 'pictured': 1, 'cherub—a': 1, 'shed': 8, 'radiance': 2, 'looks': 8, 'form': 17, 'motions': 2, 'lighter': 2, 'chamois': 2, 'hills.': 3, 'explained.': 1, 'permission': 4, 'prevailed': 2, 'rustic': 2, 'guardians': 1, 'sweet': 22, 'orphan.': 1, 'presence': 12, 'blessing': 2, 'them,': 26, 'unfair': 2, 'Providence': 1, 'powerful': 3, 'protection.': 1, 'consulted': 2, 'village': 10, 'priest,': 1, 'result': 3, 'Elizabeth': 43, 'Lavenza': 3, 'inmate': 1, \"parents'\": 1, 'house—my': 1, 'sister—the': 1, 'beautiful': 25, 'adored': 3, 'companion': 18, 'occupations': 7, 'pleasures.': 1, 'Everyone': 1, 'Elizabeth.': 10, 'almost': 37, 'reverential': 1, 'became,': 1, 'shared': 2, 'evening': 11, 'home,': 10, 'playfully,': 1, 'pretty': 5, 'Victor—tomorrow': 1, 'it.\"': 2, 'morrow,': 1, 'presented': 13, 'gift,': 1, 'childish': 4, 'seriousness,': 1, 'interpreted': 1, 'literally': 1, 'looked': 29, 'mine—mine': 1, 'protect,': 1, 'love,': 9, 'cherish.': 1, 'All': 9, 'praises': 1, 'possession': 6, 'familiarly': 1, 'cousin.': 4, 'word,': 2, 'forth': 18, 'stood': 9, 'me—my': 1, 'till': 2, 'only.': 2, 'together;': 1, 'quite': 4, 'ages.': 2, 'strangers': 3, 'species': 5, 'disunion': 1, 'dispute.': 1, 'Harmony': 1, 'companionship,': 1, 'diversity': 1, 'contrast': 5, 'subsisted': 2, 'characters': 3, 'nearer': 7, 'together.': 3, 'calmer': 2, 'concentrated': 1, 'disposition;': 1, 'but,': 7, 'ardour,': 2, 'capable': 12, 'application': 5, 'smitten': 1, 'knowledge.': 7, 'busied': 2, 'following': 8, 'aerial': 2, 'creations': 2, 'poets;': 1, 'majestic': 6, 'Swiss': 4, 'home': 11, '—the': 1, 'sublime': 6, 'shapes': 3, 'mountains,': 12, 'changes': 2, 'seasons,': 1, 'tempest': 2, 'silence': 10, 'winter,': 4, 'turbulence': 1, 'Alpine': 2, 'summers—she': 1, 'ample': 1, 'scope': 4, 'While': 7, 'contemplated': 8, 'serious': 3, 'magnificent': 4, 'appearances': 3, 'delighted': 5, 'investigating': 1, 'causes.': 1, 'divine.': 1, 'Curiosity,': 1, 'earnest': 3, 'research': 2, 'learn': 4, 'hidden': 2, 'laws': 5, 'gladness': 3, 'akin': 2, 'rapture,': 1, 'unfolded': 2, 'earliest': 3, 'remember.': 1, 'son,': 9, 'junior': 1, 'seven': 2, 'wandering': 3, 'house': 21, 'Geneva,': 8, 'campagne': 1, 'Belrive,': 2, 'eastern': 2, 'shore': 6, 'lake,': 7, 'league': 4, 'city.': 3, 'resided': 1, 'principally': 3, 'latter,': 2, 'lives': 5, 'seclusion.': 1, 'temper': 4, 'avoid': 5, 'crowd': 4, 'attach': 1, 'fervently': 1, 'few.': 1, 'indifferent,': 1, 'school-fellows': 1, 'general;': 1, 'closest': 2, 'Henry': 15, 'Clerval': 33, 'son': 5, 'Geneva.': 12, 'boy': 3, 'singular': 3, 'talent': 2, 'fancy.': 2, 'enterprise,': 1, 'hardship,': 1, 'sake.': 1, 'chivalry': 1, 'romance.': 1, 'heroic': 2, 'songs': 3, 'enchantment': 1, 'knightly': 1, 'adventure.': 1, 'plays': 2, 'masquerades,': 1, 'heroes': 3, 'Roncesvalles,': 1, 'Round': 1, 'Table': 1, 'King': 1, 'Arthur,': 1, 'chivalrous': 1, 'redeem': 2, 'holy': 1, 'sepulchre': 1, 'infidels.': 1, 'happier': 4, 'childhood': 2, 'myself.': 12, 'indulgence.': 1, 'tyrants': 1, 'rule': 2, 'caprice,': 1, 'agents': 1, 'creators': 1, 'delights': 4, 'enjoyed.': 1, 'mingled': 3, 'families': 2, 'distinctly': 2, 'discerned': 1, 'assisted': 3, 'development': 1, 'filial': 1, 'love.': 4, 'violent,': 1, 'passions': 7, 'vehement;': 1, 'law': 1, 'temperature': 2, 'pursuits': 3, 'eager': 4, 'learn,': 2, 'indiscriminately.': 1, 'confess': 5, 'neither': 7, 'structure': 4, 'languages,': 3, 'code': 1, 'governments,': 2, 'politics': 1, 'states': 1, 'attractions': 1, 'secrets': 5, 'heaven': 6, 'learn;': 1, 'whether': 14, 'outward': 3, 'substance': 3, 'inner': 1, 'inquiries': 3, 'directed': 12, 'metaphysical,': 1, 'highest': 4, 'sense,': 1, 'world.': 6, 'Meanwhile': 1, 'relations': 2, 'things.': 1, 'stage': 1, 'heroes,': 1, 'actions': 2, 'theme;': 1, 'recorded': 3, 'story': 6, 'adventurous': 2, 'benefactors': 2, 'species.': 3, 'saintly': 2, 'shone': 10, 'shrine-dedicated': 1, 'lamp': 1, 'peaceful': 6, 'home.': 1, 'ours;': 1, 'smile,': 2, 'voice,': 12, 'glance': 5, 'animate': 2, 'us.': 14, 'soften': 1, 'attract;': 1, 'sullen': 2, 'study,': 3, 'rough': 2, 'subdue': 1, 'semblance': 1, 'gentleness.': 1, 'Clerval—could': 1, 'aught': 2, 'ill': 7, 'entrench': 1, 'Clerval?': 1, 'perfectly': 8, 'humane,': 1, 'thoughtful': 1, 'generosity,': 1, 'full': 16, 'amidst': 7, 'passion': 8, 'exploit,': 1, 'real': 7, 'loveliness': 4, 'beneficence': 1, 'doing': 4, 'aim': 1, 'soaring': 2, 'ambition.': 2, 'exquisite': 5, 'dwelling': 8, 'recollections': 1, 'childhood,': 2, 'misfortune': 7, 'tainted': 1, 'changed': 8, 'bright': 7, 'extensive': 2, 'usefulness': 1, 'gloomy': 10, 'narrow': 2, 'self.': 2, 'Besides,': 6, 'picture': 10, 'record': 3, 'led,': 1, 'insensible': 2, 'steps,': 4, 'account': 17, 'afterwards': 17, 'ruled': 2, 'destiny': 3, 'arise,': 2, 'mountain': 9, 'river,': 3, 'ignoble': 1, 'forgotten': 3, 'sources;': 1, 'proceeded,': 5, 'torrent': 2, 'swept': 3, 'away': 35, 'joys.': 2, 'Natural': 1, 'philosophy': 9, 'genius': 5, 'regulated': 2, 'fate;': 2, 'desire,': 5, 'narration,': 1, 'facts': 6, 'predilection': 1, 'science.': 5, 'thirteen': 1, 'party': 2, 'baths': 1, 'Thonon;': 1, 'inclemency': 2, 'obliged': 12, 'confined': 7, 'inn.': 2, 'chanced': 1, 'volume': 4, 'works': 7, 'Cornelius': 6, 'Agrippa.': 1, 'opened': 13, 'apathy;': 1, 'attempts': 3, 'demonstrate': 1, 'enthusiasm.': 1, 'light': 32, 'dawn': 2, 'bounding': 2, 'joy,': 5, 'father.': 8, 'carelessly': 1, 'title': 1, 'page': 2, 'book': 5, '\"Ah!': 2, 'Agrippa!': 1, 'Victor,': 16, 'waste': 3, 'this;': 4, 'sad': 8, 'trash.\"': 1, 'If,': 2, 'instead': 10, 'remark,': 2, 'pains': 5, 'explain': 3, 'principles': 1, 'Agrippa': 5, 'exploded': 3, 'system': 2, 'introduced': 3, 'ancient,': 1, 'chimerical,': 1, 'practical,': 1, 'thrown': 7, 'aside': 3, 'contented': 4, 'imagination,': 4, 'returning': 9, 'studies.': 5, 'ideas': 11, 'fatal': 8, 'impulse': 4, 'ruin.': 5, 'cursory': 3, 'contents,': 1, 'avidity.': 1, 'author,': 1, 'Paracelsus': 1, 'Albertus': 3, 'Magnus.': 1, 'studied': 4, 'fancies': 2, 'writers': 1, 'delight;': 2, 'treasures': 3, 'known': 6, 'described': 3, 'always': 24, 'imbued': 4, 'longing': 1, 'penetrate': 3, 'spite': 4, 'labour': 6, 'discoveries': 6, 'philosophers,': 2, 'studies': 6, 'discontented': 1, 'unsatisfied.': 1, 'Sir': 1, 'Isaac': 1, 'Newton': 1, 'avowed': 1, 'picking': 1, 'shells': 1, 'beside': 7, 'truth.': 3, 'successors': 1, 'branch': 4, 'natural': 23, \"boy's\": 1, 'apprehensions': 1, 'tyros': 1, 'untaught': 1, 'elements': 2, 'uses.': 1, 'learned': 18, 'philosopher': 1, 'more.': 7, 'partially': 1, 'unveiled': 1, 'Nature,': 1, 'immortal': 1, 'mystery.': 1, 'dissect,': 1, 'anatomize,': 1, 'names;': 1, 'speak': 8, 'final': 2, 'cause,': 2, 'secondary': 2, 'tertiary': 1, 'grades': 1, 'gazed': 11, 'fortifications': 1, 'impediments': 1, 'beings': 12, 'entering': 6, 'citadel': 1, 'ignorantly': 1, 'repined.': 1, 'books,': 1, 'penetrated': 3, 'deeper': 5, 'averred,': 1, 'disciple.': 1, 'arise': 3, 'eighteenth': 1, 'century;': 1, 'followed': 17, 'routine': 2, 'schools': 2, 'self-taught': 1, 'regard': 8, 'scientific,': 1, 'left': 35, 'struggle': 3, \"child's\": 1, 'blindness,': 1, \"student's\": 1, 'Under': 1, 'guidance': 1, 'preceptors': 1, 'diligence': 1, 'search': 7, \"philosopher's\": 1, 'stone': 2, 'elixir': 2, 'obtained': 7, 'undivided': 1, 'Wealth': 1, 'inferior': 1, 'object,': 4, 'attend': 5, 'banish': 3, 'disease': 1, 'invulnerable': 1, 'violent': 7, 'death!': 1, 'Nor': 4, 'visions.': 1, 'raising': 1, 'ghosts': 1, 'devils': 2, 'liberally': 1, 'accorded': 2, 'authors,': 1, 'fulfilment': 3, 'sought;': 1, 'incantations': 1, 'unsuccessful,': 1, 'inexperience': 1, 'mistake': 1, 'skill': 1, 'fidelity': 1, 'instructors.': 1, 'systems,': 1, 'mingling,': 1, 'unadept,': 1, 'contradictory': 1, 'theories': 1, 'floundering': 1, 'desperately': 1, 'slough': 1, 'multifarious': 1, 'knowledge,': 2, 'reasoning,': 1, 'current': 1, 'ideas.': 2, 'fifteen': 1, 'witnessed': 1, 'terrible': 9, 'thunderstorm.': 1, 'behind': 8, 'mountains': 20, 'Jura,': 2, 'thunder': 8, 'loudness': 1, 'quarters': 1, 'heavens.': 2, 'remained,': 1, 'lasted,': 1, 'door,': 6, 'sudden': 8, 'stream': 3, 'fire': 12, 'issue': 2, 'oak': 2, 'twenty': 4, 'yards': 1, 'house;': 3, 'dazzling': 1, 'vanished,': 3, 'disappeared,': 3, 'blasted': 6, 'stump.': 1, 'tree': 4, 'shattered': 5, 'splintered': 1, 'shock,': 1, 'reduced': 2, 'ribbons': 1, 'wood.': 7, 'anything': 6, 'destroyed.': 4, 'Before': 4, 'obvious': 2, 'electricity.': 1, 'occasion': 6, 'catastrophe,': 2, 'explanation': 5, 'formed': 18, 'subject': 9, 'electricity': 1, 'galvanism,': 1, 'threw': 13, 'shade': 2, 'Agrippa,': 1, 'Magnus,': 1, 'Paracelsus,': 2, 'lords': 1, 'imagination;': 3, 'fatality': 2, 'overthrow': 2, 'disinclined': 1, 'pursue': 14, 'despicable.': 1, 'caprices': 1, 'youth,': 4, 'occupations,': 3, 'progeny': 1, 'deformed': 3, 'abortive': 1, 'creation,': 4, 'entertained': 3, 'disdain': 4, 'would-be': 1, 'threshold': 1, 'mood': 2, 'betook': 1, 'mathematics': 1, 'appertaining': 2, 'built': 2, 'foundations,': 1, 'consideration.': 1, 'strangely': 4, 'souls': 1, 'constructed,': 1, 'slight': 8, 'ligaments': 1, 'prosperity': 1, 'back,': 3, 'seems': 4, 'miraculous': 2, 'inclination': 1, 'immediate': 7, 'suggestion': 1, 'life—the': 1, 'effort': 3, 'preservation': 2, 'avert': 2, 'hanging': 7, 'ready': 3, 'envelop': 1, 'victory': 1, 'announced': 1, 'unusual': 3, 'relinquishing': 1, 'ancient': 6, 'latterly': 1, 'tormenting': 2, 'taught': 7, 'associate': 2, 'prosecution,': 1, 'disregard.': 1, 'ineffectual.': 2, 'Destiny': 1, 'potent,': 1, 'immutable': 3, 'decreed': 1, 'utter': 11, 'destruction.': 6, 'attained': 1, 'seventeen': 1, 'student': 1, 'university': 3, 'Ingolstadt.': 7, 'completion': 5, 'customs': 2, 'departure': 12, 'date,': 1, 'arrive,': 2, 'occurred—an': 1, 'omen,': 1, 'misery.': 12, 'caught': 2, 'scarlet': 1, 'fever;': 1, 'urged': 9, 'persuade': 10, 'yielded': 3, 'entreaties,': 1, 'menaced,': 2, 'longer': 20, 'control': 2, 'anxiety.': 1, 'sickbed;': 1, 'attentions': 4, 'triumphed': 2, 'malignity': 4, 'distemper—Elizabeth': 1, 'saved,': 2, 'consequences': 3, 'imprudence': 1, 'preserver.': 1, 'third': 1, 'sickened;': 1, 'fever': 7, 'alarming': 1, 'symptoms,': 1, 'medical': 1, 'attendants': 2, 'prognosticated': 1, 'event.': 2, 'deathbed': 1, 'fortitude': 4, 'benignity': 2, 'women': 4, 'desert': 9, 'joined': 6, '\"My': 21, 'children,\"': 1, '\"my': 1, 'firmest': 1, 'expectation': 6, 'Elizabeth,': 21, 'supply': 3, 'children.': 3, 'Alas!': 12, 'been,': 4, 'quit': 17, 'all?': 1, 'befitting': 4, 'resign': 1, 'cheerfully': 1, 'indulge': 2, 'meeting': 3, 'another': 35, 'world.\"': 1, 'calmly,': 1, 'death.': 18, 'dearest': 15, 'ties': 5, 'rent': 4, 'irreparable': 1, 'void': 2, 'soul,': 5, 'exhibited': 6, 'existence': 21, 'departed': 8, 'forever—that': 1, 'brightness': 1, 'eye': 16, 'extinguished': 3, 'sound': 19, 'familiar': 8, 'ear': 2, 'hushed,': 2, 'heard.': 2, 'days;': 2, 'lapse': 1, 'proves': 1, 'actual': 2, 'bitterness': 4, 'commences.': 1, 'connection?': 1, 'sorrow': 9, 'feel?': 2, 'arrives': 1, 'indulgence': 2, 'necessity;': 1, 'lips,': 3, 'sacrilege,': 1, 'banished.': 1, 'dead,': 7, 'perform;': 1, 'ourselves': 3, 'whilst': 8, 'spoiler': 1, 'seized.': 1, 'Ingolstadt,': 7, 'deferred': 1, 'events,': 3, 'upon.': 1, 'respite': 2, 'weeks.': 1, 'sacrilege': 2, 'leave': 19, 'repose,': 5, 'death,': 9, 'mourning': 1, 'rush': 2, 'sorrow,': 3, 'less': 13, 'alarm': 1, 'unwilling': 4, 'all,': 10, 'consoled.': 1, 'veiled': 1, 'comforter': 1, 'all.': 2, 'steadily': 1, 'zeal.': 1, 'cousins.': 1, 'Never': 3, 'enchanting': 3, 'recalled': 3, 'sunshine': 3, 'smiles': 12, 'forgot': 2, 'endeavours': 6, 'forget.': 1, 'arrived.': 3, 'accompany': 6, 'student,': 1, 'vain.': 3, 'narrow-minded': 1, 'trader': 1, 'idleness': 1, 'ruin': 1, 'aspirations': 1, 'son.': 1, 'debarred': 1, 'liberal': 1, 'education.': 1, 'little,': 1, 'kindling': 1, 'restrained': 3, 'resolve': 1, 'chained': 3, 'miserable': 53, 'details': 3, 'commerce.': 1, 'late.': 1, 'tear': 8, '\"Farewell!\"': 1, 'pretence': 3, 'seeking': 2, 'fancying': 1, 'deceived;': 1, \"morning's\": 2, 'descended': 5, 'carriage': 2, 'convey': 7, 'there—my': 1, 'press': 1, 'more,': 6, 'entreaties': 3, 'playmate': 2, 'chaise': 1, 'indulged': 3, 'reflections.': 3, 'amiable': 11, 'companions,': 3, 'mutual': 5, 'pleasure—I': 1, 'alone.': 9, 'protector.': 1, 'secluded': 3, 'domestic,': 1, 'invincible': 2, 'repugnance': 2, 'countenances.': 1, 'brothers,': 3, 'Clerval;': 2, '\"old': 1, 'faces,\"': 1, 'totally': 3, 'unfitted': 1, 'strangers.': 1, 'journey;': 2, 'rose.': 1, 'acquisition': 1, 'often,': 5, 'cooped': 1, 'longed': 10, 'station': 1, 'beings.': 6, 'desires': 3, 'complied': 1, 'with,': 3, 'would,': 5, 'indeed,': 14, 'repent.': 1, 'journey': 23, 'fatiguing.': 1, 'white': 9, 'steeple': 3, 'met': 8, 'eyes.': 9, 'alighted': 2, 'solitary': 9, 'apartment': 6, 'spend': 6, 'pleased.': 2, 'morning': 19, 'delivered': 4, 'introduction': 3, 'visit': 15, 'principal': 3, 'professors.': 2, 'Chance—or': 1, 'influence,': 1, 'Angel': 1, 'Destruction,': 1, 'asserted': 1, 'omnipotent': 3, 'sway': 1, 'moment': 29, 'reluctant': 1, 'steps': 14, 'door—led': 1, 'M.': 22, 'Krempe,': 1, 'professor': 4, 'philosophy.': 4, 'uncouth': 3, 'carelessly,': 1, 'contempt,': 2, 'mentioned': 7, 'alchemists': 1, 'authors': 3, 'studied.': 1, 'stared.': 1, '\"Have': 3, '\"really': 1, 'studying': 2, 'nonsense?\"': 1, 'affirmative.': 1, '\"Every': 2, 'minute,\"': 1, 'Krempe': 8, 'warmth,': 3, '\"every': 1, 'wasted': 2, 'lost.': 4, 'burdened': 1, 'systems': 1, 'names.': 1, 'lived,': 5, 'greedily': 2, 'imbibed': 2, 'musty': 1, 'ancient?': 1, 'expected,': 1, 'enlightened': 3, 'scientific': 2, 'disciple': 1, 'Magnus': 1, 'Paracelsus.': 1, 'sir,': 4, 'saying,': 1, 'stepped': 2, 'wrote': 3, 'list': 3, 'treating': 1, 'procure,': 1, 'dismissed': 1, 'mentioning': 2, 'beginning': 8, 'intended': 5, 'lectures': 2, 'general': 5, 'relations,': 1, 'Waldman,': 3, 'professor,': 1, 'lecture': 5, 'chemistry': 2, 'alternate': 1, 'omitted.': 1, 'disappointed,': 1, 'reprobated;': 1, 'inclined': 2, 'recur': 1, 'squat': 1, 'gruff': 1, 'repulsive': 3, 'countenance;': 1, 'teacher,': 1, 'prepossess': 1, 'pursuits.': 1, 'philosophical': 1, 'connected': 6, 'strain,': 1, 'conclusions': 2, 'results': 2, 'professors': 3, 'confusion': 3, 'accounted': 1, 'extreme': 16, 'guide': 2, 'matters,': 1, 'retrod': 1, 'along': 11, 'paths': 4, 'recent': 3, 'inquirers': 2, 'dreams': 9, 'alchemists.': 1, 'contempt': 2, 'uses': 2, 'masters': 3, 'immortality': 1, 'power;': 2, 'views,': 1, 'futile,': 1, 'grand;': 1, 'changed.': 2, 'inquirer': 1, 'limit': 2, 'annihilation': 2, 'chiefly': 5, 'founded.': 1, 'exchange': 1, 'chimeras': 1, 'boundless': 2, 'grandeur': 2, 'realities': 1, 'residence': 9, 'localities': 1, 'residents': 1, 'ensuing': 4, 'commenced,': 4, 'information': 6, 'lectures.': 1, 'go': 13, 'conceited': 1, 'deliver': 4, 'sentences': 1, 'pulpit,': 1, 'recollected': 3, 'seen,': 4, 'town.': 4, 'Partly': 1, 'idleness,': 1, 'lecturing': 1, 'room,': 5, 'Waldman': 5, 'shortly': 1, 'after.': 1, 'unlike': 7, 'colleague.': 1, 'fifty': 1, 'benevolence;': 1, 'grey': 2, 'hairs': 3, 'covered': 18, 'temples,': 1, 'head': 15, 'black.': 1, 'short': 17, 'erect': 1, 'sweetest': 1, 'recapitulation': 1, 'improvements': 2, 'learning,': 2, 'pronouncing': 1, 'discoverers.': 1, 'view': 9, 'explained': 4, 'elementary': 1, 'terms.': 2, 'After': 15, 'preparatory': 1, 'experiments,': 1, 'concluded': 3, 'panegyric': 1, 'chemistry,': 2, 'terms': 4, 'forget:': 2, '\"The': 27, 'teachers': 1, 'science,\"': 1, '\"promised': 1, 'impossibilities': 1, 'performed': 8, 'nothing.': 2, 'little;': 1, 'metals': 1, 'transmuted': 1, 'chimera': 1, 'dabble': 1, 'dirt,': 1, 'pore': 1, 'microscope': 1, 'crucible,': 1, 'miracles.': 1, 'recesses': 1, 'hiding-places.': 2, 'ascend': 5, 'heavens;': 4, 'circulates,': 1, 'breathe.': 1, 'acquired': 3, 'unlimited': 1, 'powers;': 1, 'command': 2, 'thunders': 1, 'mimic': 1, 'earthquake,': 2, 'mock': 4, 'invisible': 3, 'shadows.\"': 1, \"professor's\": 1, 'words—rather': 1, 'fate—enounced': 1, 'destroy': 20, 'grappling': 1, 'palpable': 1, 'enemy;': 2, 'keys': 1, 'mechanism': 1, 'being;': 6, 'chord': 2, 'sounded,': 1, 'thought,': 7, 'conception,': 1, 'purpose.': 3, 'done,': 3, 'exclaimed': 7, 'Frankenstein—more,': 1, 'achieve;': 1, 'treading': 1, 'marked,': 1, 'pioneer': 1, 'way,': 2, 'explore': 1, 'unfold': 1, 'creation.': 4, 'night.': 4, 'insurrection': 1, 'turmoil;': 1, 'order': 4, 'thence': 3, 'produce': 5, 'degrees,': 5, 'dawn,': 2, 'sleep': 10, 'came.': 3, 'awoke,': 4, \"yesternight's\": 1, 'dream.': 1, 'devote': 4, 'possess': 5, 'talent.': 1, 'visit.': 2, 'private': 1, 'mild': 7, 'public,': 1, 'certain': 5, 'mien': 2, 'replaced': 2, 'affability': 1, 'professor.': 1, 'narration': 2, 'smiled': 3, 'exhibited.': 1, '\"These': 5, 'zeal': 3, 'philosophers': 2, 'indebted': 1, 'foundations': 2, 'easier': 1, 'arrange': 2, 'classifications': 1, 'instruments': 6, 'bringing': 1, 'light.': 2, 'labours': 6, 'genius,': 1, 'however': 8, 'erroneously': 1, 'directed,': 1, 'fail': 5, 'ultimately': 2, 'turning': 5, 'solid': 1, 'advantage': 2, 'mankind.\"': 1, 'listened': 12, 'statement,': 1, 'presumption': 3, 'affectation,': 1, 'prejudices': 1, 'against': 20, 'chemists;': 1, 'measured': 1, 'terms,': 2, 'modesty': 1, 'deference': 1, 'due': 2, 'instructor,': 1, 'letting': 1, 'escape': 5, '(inexperience': 1, 'ashamed)': 1, 'stimulated': 1, 'labours.': 5, 'requested': 1, 'advice': 1, 'procure.': 1, 'happy,\"': 1, '\"to': 3, 'gained': 13, 'disciple;': 1, 'equals': 1, 'ability,': 1, 'success.': 3, 'Chemistry': 1, 'made;': 1, 'peculiar': 3, 'study;': 2, 'neglected': 4, 'sorry': 2, 'chemist': 1, 'department': 1, 'wish': 22, 'really': 9, 'merely': 6, 'petty': 1, 'experimentalist,': 1, 'advise': 1, 'apply': 7, 'philosophy,': 2, 'including': 1, 'mathematics.\"': 1, 'laboratory': 2, 'machines,': 1, 'instructing': 1, 'promising': 1, 'derange': 1, 'mechanism.': 2, 'requested,': 1, 'leave.': 1, 'ended': 1, 'memorable': 2, 'decided': 4, 'destiny.': 3, 'particularly': 5, 'comprehensive': 1, 'term,': 1, 'sole': 3, 'occupation.': 3, 'works,': 1, 'discrimination,': 1, 'written': 3, 'subjects.': 2, 'acquaintance': 1, 'university,': 1, 'deal': 1, 'information,': 1, 'combined,': 1, 'true,': 8, 'physiognomy': 2, 'manners,': 4, 'valuable.': 1, 'tinged': 2, 'dogmatism,': 1, 'instructions': 3, 'frankness': 1, 'banished': 3, 'idea': 32, 'pedantry.': 1, 'ways': 1, 'smoothed': 1, 'path': 12, 'abstruse': 1, 'facile': 1, 'apprehension.': 2, 'fluctuating': 1, 'uncertain;': 1, 'strength': 11, 'proceeded': 12, 'disappeared': 3, 'laboratory.': 4, 'applied': 5, 'closely,': 1, 'conceived': 9, 'rapid.': 1, 'students,': 1, 'proficiency': 2, 'masters.': 1, 'Professor': 1, 'sly': 1, 'on,': 14, 'heartfelt': 2, 'exultation': 2, 'progress.': 3, 'pursuit': 8, 'make.': 2, 'None': 1, 'enticements': 1, 'know;': 3, 'continual': 5, 'food': 14, 'capacity': 3, 'closely': 1, 'pursues': 1, 'infallibly': 1, 'arrive': 9, 'attainment': 1, 'solely': 2, 'this,': 13, 'improvement': 4, 'chemical': 6, 'instruments,': 2, 'esteem': 3, 'university.': 2, 'practice': 2, 'lessons': 6, 'conducive': 1, 'improvements,': 1, 'town,': 7, 'incident': 5, 'protracted': 1, 'stay.': 2, 'frame,': 3, 'animal': 5, 'endued': 5, 'Whence,': 1, 'myself,': 11, 'principle': 2, 'proceed?': 1, 'question,': 4, 'mystery;': 1, 'acquainted,': 1, 'cowardice': 4, 'restrain': 2, 'inquiries.': 1, 'revolved': 5, 'thenceforth': 2, 'relate': 8, 'physiology.': 1, 'Unless': 1, 'supernatural': 4, 'enthusiasm,': 2, 'irksome': 6, 'intolerable.': 1, 'examine': 3, 'recourse': 1, 'anatomy,': 1, 'sufficient;': 1, 'observe': 3, 'decay': 4, 'corruption': 2, 'body.': 2, 'precautions': 1, 'impressed': 7, 'horrors.': 1, 'trembled': 9, 'superstition': 1, 'spirit.': 2, 'Darkness': 2, 'effect': 8, 'fancy,': 2, 'churchyard': 1, 'receptacle': 1, 'strength,': 2, 'worm.': 2, 'forced': 9, 'vaults': 1, 'charnel-houses.': 1, 'insupportable': 3, 'delicacy': 1, 'feelings.': 4, 'fine': 5, 'degraded': 3, 'wasted;': 1, 'blooming': 4, 'cheek': 5, 'worm': 2, 'brain.': 1, 'paused,': 7, 'examining': 3, 'analysing': 1, 'minutiae': 1, 'causation,': 1, 'exemplified': 1, 'darkness': 7, 'me—a': 1, 'brilliant': 1, 'wondrous,': 1, 'simple,': 1, 'dizzy': 2, 'immensity': 1, 'illustrated,': 1, 'surprised': 10, 'science,': 3, 'reserved': 5, 'Remember,': 2, 'vision': 3, 'madman.': 1, 'shine': 3, 'heavens': 6, 'affirm': 1, 'true.': 2, 'miracle': 1, 'produced': 11, 'stages': 1, 'probable.': 1, 'incredible': 2, 'fatigue,': 6, 'succeeded': 6, 'generation': 1, 'nay,': 2, 'bestowing': 3, 'lifeless': 9, 'matter.': 1, 'delight': 18, 'rapture.': 2, 'painful': 5, 'summit': 7, 'gratifying': 1, 'consummation': 4, 'toils.': 3, 'overwhelming': 4, 'progressively': 1, 'obliterated,': 1, 'result.': 2, 'wisest': 1, 'creation': 8, 'grasp.': 2, 'Not': 3, 'that,': 21, 'magic': 2, 'scene,': 4, 'once:': 1, 'exhibit': 3, 'accomplished.': 2, 'Arabian': 6, 'buried': 1, 'dead': 13, 'aided': 2, 'glimmering': 1, 'seemingly': 4, 'ineffectual': 2, 'express,': 1, 'acquainted;': 1, 'be;': 5, 'patiently': 1, 'subject.': 2, 'lead': 7, 'unguarded': 2, 'infallible': 1, 'Learn': 3, 'precepts,': 1, 'believes': 4, 'aspires': 1, 'allow.': 1, 'hands,': 7, 'hesitated': 4, 'employ': 2, 'Although': 2, 'prepare': 4, 'reception': 2, 'intricacies': 1, 'fibres,': 1, 'muscles,': 1, 'veins,': 2, 'inconceivable': 2, 'difficulty': 9, 'labour.': 1, 'doubted': 3, 'attempt': 10, 'simpler': 2, 'organization;': 1, 'exalted': 1, 'ability': 1, 'complex': 1, 'materials': 5, 'hardly': 27, 'adequate': 2, 'arduous': 1, 'undertaking,': 1, 'succeed.': 2, 'prepared': 8, 'reverses;': 1, 'operations': 2, 'incessantly': 2, 'baffled,': 1, 'imperfect,': 1, 'takes': 1, 'mechanics,': 1, 'encouraged': 2, 'magnitude': 1, 'complexity': 1, 'plan': 9, 'argument': 1, 'impracticability.': 1, 'being.': 10, 'minuteness': 1, 'parts': 3, 'hindrance': 1, 'speed,': 1, 'resolved,': 4, 'contrary': 2, 'intention,': 1, 'eight': 3, 'feet': 6, 'height,': 1, 'proportionably': 2, 'large.': 1, 'determination': 4, 'successfully': 1, 'arranging': 6, 'materials,': 1, 'began.': 1, 'onwards,': 1, 'hurricane,': 1, 'Life': 2, 'ideal': 1, 'bounds,': 2, 'break': 3, 'through,': 2, 'pour': 1, 'creator': 3, 'source;': 1, 'natures': 1, 'owe': 3, 'claim': 8, 'completely': 2, 'theirs.': 2, 'Pursuing': 1, 'reflections,': 3, 'matter,': 1, 'process': 2, '(although': 2, 'impossible)': 1, 'corruption.': 1, 'supported': 5, 'spirits,': 6, 'unremitting': 3, 'ardour.': 1, 'grown': 1, 'pale': 4, 'confinement.': 1, 'Sometimes,': 7, 'failed;': 1, 'clung': 3, 'realize.': 1, 'myself;': 2, 'moon': 13, 'midnight': 2, 'labours,': 3, 'while,': 1, 'unrelaxed': 1, 'breathless': 3, 'eagerness,': 1, 'Who': 8, 'horrors': 4, 'toil': 7, 'dabbled': 1, 'unhallowed': 4, 'damps': 2, 'grave': 3, 'tortured': 4, 'clay?': 1, 'tremble,': 3, 'swim': 1, 'remembrance;': 1, 'resistless': 1, 'frantic': 1, 'forward;': 2, 'sensation': 10, 'passing': 8, 'trance,': 1, 'renewed': 5, 'acuteness': 1, 'as,': 2, 'unnatural': 3, 'stimulus': 1, 'ceasing': 1, 'operate,': 1, 'habits.': 1, 'collected': 7, 'bones': 1, 'charnel-houses': 1, 'disturbed,': 1, 'profane': 1, 'fingers,': 1, 'tremendous': 7, 'chamber,': 1, 'cell,': 1, 'top': 2, 'separated': 3, 'apartments': 1, 'gallery': 1, 'staircase,': 1, 'kept': 4, 'workshop': 1, 'filthy': 5, 'eyeballs': 1, 'starting': 1, 'sockets': 2, 'employment.': 2, 'dissecting': 1, 'room': 20, 'slaughter-house': 1, 'furnished': 1, 'materials;': 1, 'loathing': 4, 'occupation,': 2, 'whilst,': 1, 'increased,': 1, 'conclusion.': 3, 'summer': 4, 'season;': 1, 'fields': 7, 'plentiful': 4, 'harvest': 1, 'vines': 1, 'luxuriant': 1, 'vintage,': 1, 'charms': 1, 'neglect': 2, 'caused': 10, 'forget': 7, 'absent,': 2, 'time.': 3, 'disquieted': 1, 'remembered': 12, 'father:': 1, 'pleased': 6, 'regularly': 2, 'you.': 14, 'pardon': 2, 'interruption': 1, 'correspondence': 2, 'proof': 5, 'neglected.\"': 1, 'employment,': 2, 'loathsome': 4, 'itself,': 5, 'irresistible': 2, 'imagination.': 2, 'wished,': 1, 'procrastinate': 1, 'swallowed': 5, 'habit': 2, 'completed.': 1, 'unjust': 1, 'ascribed': 2, 'vice': 5, 'faultiness': 1, 'convinced': 8, 'justified': 2, 'conceiving': 1, 'altogether': 1, 'free': 14, 'blame.': 1, 'perfection': 1, 'preserve': 5, 'transitory': 3, 'disturb': 6, 'tranquillity.': 5, 'exception': 2, 'rule.': 1, 'tendency': 1, 'weaken': 1, 'affections': 3, 'taste': 3, 'simple': 6, 'pleasures': 3, 'alloy': 1, 'possibly': 3, 'mix,': 1, 'unlawful,': 1, 'observed;': 1, 'allowed': 19, 'whatsoever': 1, 'interfere': 3, 'domestic': 4, 'affections,': 5, 'Greece': 2, 'enslaved,': 1, 'Caesar': 1, 'spared': 5, 'America': 1, 'gradually,': 1, 'empires': 2, 'Mexico': 1, 'Peru': 1, 'moralizing': 1, 'remind': 3, 'proceed.': 2, 'reproach': 2, 'inquiring': 1, 'before.': 6, 'Winter,': 1, 'spring,': 3, 'labours;': 3, 'blossom': 1, 'expanding': 1, 'leaves—sights': 1, 'supreme': 2, 'delight—so': 1, 'engrossed': 1, 'leaves': 9, 'withered': 1, 'close,': 2, 'plainly': 4, 'succeeded.': 1, 'checked': 1, 'anxiety,': 1, 'doomed': 6, 'slavery': 2, 'mines,': 1, 'unwholesome': 1, 'trade': 1, 'artist': 1, 'Every': 3, 'oppressed': 5, 'fever,': 1, 'nervous': 4, 'degree;': 1, 'fall': 6, 'leaf': 1, 'startled': 2, 'shunned': 3, 'creatures': 11, 'guilty': 7, 'crime.': 2, 'become;': 1, 'energy': 1, 'purpose': 7, 'sustained': 3, 'me:': 3, 'end,': 1, 'amusement': 4, 'drive': 4, 'incipient': 1, 'disease;': 1, 'both': 7, 'complete.': 3, '5': 1, 'dreary': 3, 'November': 1, 'accomplishment': 1, 'anxiety': 5, 'amounted': 2, 'agony,': 5, 'infuse': 1, 'spark': 3, 'thing': 9, 'feet.': 6, 'morning;': 1, 'rain': 13, 'pattered': 1, 'dismally': 1, 'panes,': 1, 'candle': 1, 'burnt': 2, 'glimmer': 2, 'half-extinguished': 1, 'dull': 2, 'yellow': 4, 'open;': 1, 'breathed': 3, 'hard,': 1, 'convulsive': 1, 'agitated': 4, 'limbs.': 2, 'emotions': 6, 'delineate': 1, 'wretch': 11, 'infinite': 3, 'form?': 2, 'proportion,': 2, 'selected': 2, 'beautiful.': 2, 'Beautiful!': 1, 'Great': 4, 'skin': 2, 'muscles': 2, 'arteries': 1, 'beneath;': 3, 'black,': 3, 'flowing;': 1, 'teeth': 5, 'pearly': 1, 'whiteness;': 1, 'luxuriances': 1, 'horrid': 5, 'watery': 1, 'colour': 2, 'dun-white': 1, 'set,': 3, 'shrivelled': 1, 'complexion': 2, 'straight': 1, 'black': 12, 'lips.': 5, 'changeable': 1, 'infusing': 1, 'inanimate': 3, 'health.': 4, 'exceeded': 2, 'moderation;': 1, 'finished,': 5, 'horror': 25, 'disgust': 4, 'Unable': 1, 'created,': 2, 'rushed': 10, 'traversing': 1, 'bed-chamber,': 1, 'unable': 19, 'compose': 2, 'sleep.': 6, 'lassitude': 1, 'tumult': 3, 'clothes,': 2, 'forgetfulness.': 1, 'vain;': 1, 'slept,': 1, 'disturbed': 7, 'wildest': 3, 'dreams.': 2, 'bloom': 3, 'Delighted': 1, 'surprised,': 3, 'kiss': 1, 'livid': 3, 'hue': 1, 'death;': 4, 'change,': 1, 'held': 6, 'corpse': 7, 'arms;': 1, 'shroud': 1, 'enveloped': 3, 'form,': 6, 'grave-worms': 1, 'crawling': 1, 'folds': 2, 'flannel.': 1, 'started': 5, 'horror;': 3, 'dew': 1, 'forehead,': 1, 'chattered,': 2, 'limb': 2, 'convulsed;': 1, 'dim': 3, 'moon,': 5, 'window': 6, 'shutters,': 1, 'wretch—the': 1, 'monster': 21, 'created.': 5, 'curtain': 1, 'bed;': 1, 'called,': 1, 'jaws': 1, 'opened,': 5, 'muttered': 1, 'inarticulate': 2, 'sounds,': 2, 'grin': 3, 'wrinkled': 3, 'cheeks.': 3, 'spoken,': 1, 'hear;': 1, 'detain': 1, 'escaped': 6, 'downstairs.': 1, 'refuge': 7, 'courtyard': 1, 'belonging': 4, 'inhabited,': 3, 'agitation,': 1, 'listening': 5, 'attentively,': 2, 'catching': 1, 'announce': 2, 'approach': 8, 'demoniacal': 3, 'miserably': 2, 'Oh!': 10, 'mortal': 7, 'mummy': 1, 'hideous': 10, 'wretch.': 2, 'unfinished;': 1, 'ugly': 3, 'then,': 22, 'joints': 2, 'motion,': 1, 'Dante': 1, 'conceived.': 3, 'wretchedly.': 1, 'pulse': 3, 'palpitation': 1, 'artery;': 1, 'sank': 18, 'languor': 3, 'Mingled': 1, 'horror,': 10, 'disappointment;': 1, 'space': 3, 'hell': 8, 'rapid,': 1, 'complete!': 1, 'Morning,': 1, 'dismal': 1, 'wet,': 2, 'dawned': 3, 'sleepless': 2, 'aching': 1, 'church': 1, 'clock,': 1, 'indicated': 1, 'sixth': 1, 'hour.': 2, 'porter': 1, 'gates': 5, 'court,': 1, 'asylum,': 2, 'issued': 1, 'streets,': 1, 'pacing': 1, 'view.': 4, 'impelled': 2, 'hurry': 2, 'drenched': 1, 'poured': 5, 'comfortless': 1, 'sky.': 2, 'bodily': 4, 'load': 3, 'weighed': 6, 'doing.': 2, 'palpitated': 1, 'sickness': 3, 'fear,': 10, 'hurried': 7, 'daring': 1, 'Like': 2, 'lonely': 1, 'road,': 2, 'Doth': 2, 'dread,': 2, 'And,': 2, 'round,': 2, 'turns': 1, 'head;': 1, 'Because': 1, 'knows': 5, 'fiend': 22, 'close': 11, 'tread.': 1, \"[Coleridge's\": 1, 'Mariner.\"]': 1, 'Continuing': 1, 'thus,': 5, 'opposite': 6, 'inn': 2, 'diligences': 1, 'carriages': 1, 'stopped.': 1, 'Here': 4, 'why;': 2, 'minutes': 5, 'coach': 1, 'coming': 3, 'street.': 1, 'diligence;': 1, 'stopped': 2, 'standing,': 1, 'door': 16, 'Clerval,': 12, 'seeing': 8, 'sprung': 2, 'out.': 2, 'Frankenstein,\"': 3, '\"how': 8, 'glad': 5, 'you!': 3, 'alighting!\"': 1, 'Nothing': 7, 'equal': 4, 'father,': 26, 'recollection.': 4, 'grasped': 4, 'hand,': 5, 'misfortune;': 2, 'suddenly,': 1, 'serene': 5, 'joy.': 3, 'cordial': 1, 'walked': 15, 'college.': 2, 'permitted': 4, 'believe,\"': 1, 'comprised': 1, 'art': 5, 'book-keeping;': 1, 'incredulous': 1, 'last,': 1, 'unwearied': 1, 'Dutch': 1, 'schoolmaster': 1, 'Vicar': 1, 'Wakefield:': 1, \"'I\": 3, 'florins': 1, 'Greek,': 1, 'eat': 3, 'heartily': 1, \"Greek.'\": 1, 'dislike': 2, 'undertake': 4, 'knowledge.\"': 1, '\"It': 12, 'tell': 6, 'Elizabeth.\"': 1, '\"Very': 1, 'happy,': 10, 'seldom.': 1, 'by,': 3, 'But,': 3, 'stopping': 1, 'gazing': 4, 'face,': 5, 'remark': 2, 'appear;': 1, 'pale;': 2, 'nights.\"': 1, 'guessed': 2, 'right;': 1, 'lately': 3, 'occupation': 2, 'rest,': 6, 'see;': 1, 'sincerely': 7, 'employments': 1, 'free.\"': 1, 'excessively;': 1, 'allude': 3, 'pace,': 1, 'reflected,': 1, 'shiver,': 1, 'alive': 6, 'about.': 1, 'dreaded': 4, 'monster,': 5, 'Entreating': 1, 'bottom': 3, 'stairs,': 1, 'darted': 5, 'room.': 5, 'lock': 1, 'shivering': 1, 'forcibly': 3, 'open,': 4, 'spectre': 2, 'stand': 2, 'waiting': 2, 'side;': 1, 'appeared.': 2, 'fearfully': 2, 'in:': 1, 'empty,': 1, 'bedroom': 1, 'guest.': 1, 'enemy': 11, 'fled,': 4, 'clapped': 2, 'Clerval.': 3, 'ascended': 4, 'servant': 6, 'breakfast;': 1, 'contain': 1, 'flesh': 3, 'tingle': 1, 'excess': 8, 'sensitiveness,': 2, 'rapidly.': 1, 'place;': 2, 'jumped': 1, 'chairs,': 1, 'laughed': 1, 'aloud.': 3, 'arrival,': 2, 'wildness': 2, 'account,': 2, 'loud,': 1, 'unrestrained,': 2, 'heartless': 2, 'frightened': 2, 'astonished': 3, 'Victor,\"': 4, 'cried': 9, '\"what,': 1, \"God's\": 2, 'matter?': 1, 'laugh': 3, 'are!': 2, 'this?\"': 1, '\"Do': 7, 'me,\"': 1, 'putting': 4, 'glide': 1, 'room;': 1, '\"HE': 1, 'tell.': 2, 'me!': 4, 'Save': 2, 'me!\"': 1, 'struggled': 5, 'furiously': 1, 'fell': 12, 'fit.': 1, 'Poor': 4, 'Clerval!': 2, 'feelings?': 1, 'meeting,': 1, 'anticipated': 1, 'bitterness.': 2, 'witness': 3, 'grief,': 3, 'recover': 2, 'senses': 5, 'long,': 2, 'months.': 1, 'nurse.': 2, 'knowing': 4, 'unfitness': 1, 'journey,': 6, 'concealing': 2, 'extent': 4, 'disorder.': 1, 'attentive': 2, 'nurse': 3, 'himself;': 2, 'recovery,': 1, 'harm,': 1, 'kindest': 1, 'action': 1, 'ill,': 5, 'surely': 9, 'unbounded': 3, 'raved': 1, 'Doubtless': 1, 'Henry;': 1, 'wanderings': 3, 'pertinacity': 1, 'recurred': 1, 'disorder': 1, 'origin': 3, 'frequent': 3, 'relapses': 1, 'recovered.': 1, 'observing': 3, 'objects': 9, 'pleasure,': 7, 'buds': 1, 'shooting': 1, 'trees': 12, 'shaded': 2, 'window.': 2, 'season': 5, 'contributed': 2, 'convalescence.': 2, 'sentiments': 3, 'revive': 4, 'bosom;': 2, 'cheerful': 12, 'attacked': 2, 'passion.': 6, '\"Dearest': 2, 'Clerval,\"': 1, 'kind,': 2, 'yourself,': 7, 'consumed': 2, 'sick': 3, 'repay': 2, 'you?': 3, 'remorse': 9, 'disappointment': 1, 'occasion,': 2, 'forgive': 3, 'discompose': 1, 'get': 2, 'can;': 1, 'subject,': 4, 'not?\"': 1, 'trembled.': 1, 'subject!': 1, 'be?': 2, 'Could': 6, 'dared': 19, 'think?': 1, '\"Compose': 1, 'yourself,\"': 1, 'colour,': 1, 'mention': 4, 'agitates': 2, 'cousin': 8, 'handwriting.': 2, 'silence.\"': 1, '\"Is': 2, 'Henry?': 2, 'suppose': 3, 'deserving': 2, 'love?\"': 1, '\"If': 3, 'temper,': 1, 'lying': 3, 'believe.\"': 1, '6': 1, 'hands.': 6, 'Elizabeth:': 2, 'Cousin,': 1, 'reassure': 2, 'account.': 2, 'write—to': 1, 'pen;': 1, 'apprehensions.': 1, 'post': 2, 'line,': 1, 'persuasions': 2, 'encountering': 2, 'inconveniences': 1, 'regretted': 1, 'perform': 4, 'myself!': 1, 'sickbed': 1, 'devolved': 1, 'mercenary': 1, 'nurse,': 3, 'guess': 3, 'minister': 1, 'now:': 1, 'writes': 1, 'getting': 1, 'better.': 1, 'confirm': 2, 'intelligence': 2, '\"Get': 1, 'well—and': 1, 'dearly.': 1, 'vigorous,': 1, 'asks': 1, 'well;': 2, 'cloud': 7, 'Ernest!': 1, 'sixteen': 1, 'activity': 3, 'elder': 2, 'returns': 2, 'military': 1, 'career': 1, 'Ernest': 6, 'application.': 1, 'odious': 4, 'fetter;': 1, 'air,': 3, 'climbing': 1, 'hills': 5, 'rowing': 2, 'lake.': 3, 'idler': 1, 'unless': 4, 'profession': 1, 'selected.': 1, '\"Little': 1, 'alteration,': 1, 'growth': 2, 'children,': 6, 'lake': 12, 'snow-clad': 1, 'mountains—they': 1, 'change;': 1, 'placid': 4, 'hearts': 4, 'laws.': 1, 'amuse': 2, 'rewarded': 2, 'exertions': 5, 'faces': 5, 'Since': 1, 'household.': 1, 'Justine': 27, 'Moritz': 2, 'family?': 1, 'Probably': 1, 'not;': 6, 'words.': 2, 'Madame': 4, 'Moritz,': 4, 'widow': 1, 'third.': 1, 'perversity,': 1, 'treated': 1, 'ill.': 3, 'aunt': 5, 'twelve': 1, 'republican': 1, 'institutions': 1, 'prevail': 2, 'monarchies': 1, 'Hence': 1, 'classes': 1, 'inhabitants;': 1, 'lower': 5, 'orders,': 1, 'despised,': 2, 'moral.': 1, 'France': 3, 'England.': 3, 'Justine,': 20, 'family,': 8, 'servant,': 2, 'condition': 5, 'include': 1, 'ignorance': 2, '\"Justine,': 1, 'remember,': 5, 'yours;': 1, 'recollect': 4, 'remarked': 2, 'humour,': 1, 'dissipate': 4, 'reason': 9, 'Ariosto': 1, 'Angelica—she': 1, 'frank-hearted': 1, 'happy.': 6, 'induced': 6, 'superior': 10, 'intended.': 1, 'fully': 3, 'repaid;': 1, 'grateful': 1, 'world:': 1, 'professions': 1, 'protectress.': 1, 'gay': 6, 'respects': 1, 'inconsiderate,': 1, 'gesture': 2, 'aunt.': 2, 'model': 1, 'excellence': 1, 'imitate': 3, 'phraseology': 1, 'reminds': 2, '\"When': 8, 'ill;': 2, 'trials': 1, '\"One': 4, 'one,': 7, 'brothers': 2, 'died;': 1, 'childless.': 1, 'conscience': 4, 'woman': 16, 'troubled;': 2, 'deaths': 3, 'favourites': 1, 'judgement': 1, 'chastise': 1, 'partiality.': 1, 'Roman': 1, 'Catholic;': 1, 'confessor': 2, 'confirmed': 7, 'Accordingly,': 1, 'repentant': 1, 'mother.': 3, 'girl!': 1, 'wept': 13, 'altered': 5, 'aunt;': 1, 'softness': 1, 'winning': 1, 'vivacity.': 1, 'gaiety.': 1, 'vacillating': 1, 'repentance.': 1, 'begged': 1, 'unkindness,': 1, 'oftener': 1, 'accused': 4, 'sister.': 2, 'Perpetual': 1, 'fretting': 1, 'decline,': 1, 'irritability,': 1, 'peace': 16, 'ever.': 2, 'weather,': 1, 'winter.': 1, 'us;': 4, 'clever': 1, 'extremely': 4, 'pretty;': 1, 'darling': 4, 'William.': 1, 'tall': 3, 'laughing': 1, 'eyelashes,': 1, 'curling': 2, 'hair.': 2, 'smiles,': 1, 'dimples': 1, 'cheek,': 1, 'rosy': 1, 'WIVES,': 1, 'Louisa': 1, 'Biron': 1, 'favourite,': 1, 'age.': 2, '\"Now,': 1, 'gossip': 1, 'Miss': 1, 'Mansfield': 1, 'congratulatory': 2, 'visits': 4, 'approaching': 3, 'John': 1, 'Melbourne,': 1, 'Esq.': 1, 'Manon,': 1, 'Duvillard,': 1, 'rich': 2, 'banker,': 1, 'autumn.': 1, 'schoolfellow,': 1, 'Louis': 1, 'Manoir,': 1, 'misfortunes': 7, 'reported': 1, 'lively': 8, 'Frenchwoman,': 1, 'Tavernier.': 1, 'widow,': 1, 'older': 2, 'Manoir;': 1, 'admired,': 1, 'everybody.': 1, 'cousin;': 2, 'conclude.': 1, 'Write,': 1, 'Victor,—one': 1, 'line—one': 1, 'Ten': 1, 'thanks': 1, 'kindness,': 4, 'letters;': 1, 'grateful.': 1, 'Adieu!': 1, 'self;': 2, 'entreat': 5, 'write!': 1, '\"Elizabeth': 2, 'Lavenza.': 1, '\"Geneva,': 3, 'March': 2, '18,': 1, '17—.\"': 2, '\"Dear,': 1, 'Elizabeth!\"': 1, 'exclaimed,': 11, 'letter:': 1, 'relieve': 7, 'feel.\"': 2, 'wrote,': 1, 'exertion': 4, 'fatigued': 2, 'convalescence': 1, 'regularly.': 1, 'recovery': 2, 'introduce': 1, 'underwent': 1, 'usage,': 1, 'wounds': 3, 'sustained.': 2, 'Ever': 3, 'misfortunes,': 3, 'antipathy': 1, 'instrument': 6, 'agony': 15, 'symptoms.': 1, 'apparatus': 2, 'apartment;': 1, 'previously': 3, 'cares': 5, 'avail': 2, 'inflicted': 3, 'torture': 9, 'praised,': 1, 'sciences.': 1, 'disliked': 1, 'subject;': 1, 'guessing': 1, 'modesty,': 1, 'improvement,': 1, 'saw,': 3, 'do?': 2, 'meant': 1, 'please,': 1, 'carefully,': 1, 'used': 3, 'cruel': 2, 'writhed': 2, 'pain': 12, 'felt.': 3, 'discerning': 1, 'declined': 4, 'alleging,': 1, 'excuse,': 1, 'total': 1, 'ignorance;': 1, 'turn.': 1, 'thanked': 4, 'speak.': 3, 'mixture': 4, 'recollection,': 1, 'impress': 2, 'deeply.': 3, 'docile;': 1, 'harsh': 4, 'blunt': 2, 'encomiums': 1, 'approbation': 2, 'Waldman.': 1, '\"D—n': 1, 'he;': 2, '\"why,': 1, 'outstript': 1, 'Ay,': 1, 'stare': 1, 'please;': 1, 'nevertheless': 1, 'youngster': 1, 'ago,': 5, 'firmly': 3, 'gospel,': 1, 'university;': 1, 'pulled': 1, 'down,': 3, 'countenance.—Ay,': 1, 'ay,\"': 1, 'suffering,': 2, '\"M.': 1, 'Frankenstein': 8, 'modest;': 1, 'Young': 1, 'diffident': 1, 'themselves,': 1, 'Clerval:': 1, 'young;': 1, 'wears': 1, 'time.\"': 1, 'eulogy': 1, 'happily': 2, 'annoying': 1, 'sympathized': 4, 'science;': 1, 'literary': 1, 'differed': 2, 'design': 4, 'complete': 4, 'oriental': 1, 'field': 6, 'marked': 7, 'himself.': 3, 'Resolved': 1, 'inglorious': 1, 'career,': 2, 'toward': 3, 'East,': 1, 'affording': 3, 'Persian,': 1, 'Arabic,': 1, 'Sanskrit': 1, 'Idleness': 1, 'hated': 4, 'studies,': 1, 'relief': 4, 'fellow-pupil': 1, 'instruction': 2, 'orientalists.': 1, 'critical': 1, 'dialects,': 1, 'contemplate': 4, 'temporary': 2, 'amusement.': 2, 'meaning,': 1, 'repaid': 1, 'soothing,': 1, 'elevating,': 1, 'writings,': 1, 'consist': 1, 'roses,—in': 1, 'frowns': 1, 'enemy,': 4, 'consumes': 1, 'manly': 1, 'heroical': 1, 'poetry': 2, 'Rome!': 1, 'Summer': 1, 'autumn;': 1, 'accidents,': 1, 'arrived,': 4, 'roads': 1, 'impassable,': 1, 'retarded': 1, 'spring.': 2, 'delay': 6, 'bitterly;': 1, 'friends.': 11, 'unwillingness': 1, 'place,': 9, 'inhabitants.': 2, 'cheerfully;': 2, 'uncommonly': 1, 'late,': 1, 'compensated': 2, 'dilatoriness.': 1, 'May': 4, 'daily': 8, 'date': 2, 'departure,': 3, 'proposed': 1, 'pedestrian': 1, 'environs': 4, 'bid': 2, 'personal': 2, 'farewell': 2, 'inhabited.': 3, 'acceded': 1, 'proposition:': 1, 'exercise,': 1, 'ramble': 2, 'perambulations:': 1, 'restored,': 2, 'additional': 4, 'salubrious': 1, 'breathed,': 1, 'progress,': 2, 'Study': 1, 'intercourse': 5, 'fellow-creatures,': 1, 'unsocial;': 1, 'heart;': 5, 'Excellent': 1, 'friend!': 2, 'elevate': 1, 'level': 1, 'selfish': 3, 'cramped': 1, 'narrowed': 1, 'senses;': 1, 'delightful': 4, 'sensations.': 5, 'sky': 8, 'verdant': 2, 'ecstasy.': 1, 'divine;': 1, 'flowers': 3, 'hedges,': 1, 'bud.': 1, 'undisturbed': 2, 'pressed': 10, 'notwithstanding': 6, 'throw': 4, 'off,': 1, 'burden.': 1, 'rejoiced': 2, 'gaiety,': 1, 'sympathised': 1, 'feelings:': 1, 'soul.': 5, 'resources': 2, 'truly': 4, 'astonishing:': 1, 'imitation': 2, 'Persian': 1, 'Arabic': 1, 'writers,': 1, 'invented': 1, 'tales': 2, 'times': 11, 'repeated': 2, 'poems,': 1, 'arguments,': 1, 'ingenuity.': 1, 'college': 1, 'Sunday': 1, 'afternoon:': 1, 'peasants': 4, 'dancing,': 1, 'high,': 3, 'bounded': 3, 'unbridled': 1, 'hilarity.': 1, '7': 1, 'return,': 5, 'father:—': 1, 'probably': 4, 'waited': 8, 'impatiently': 1, 'tempted': 3, 'lines,': 1, 'surprise,': 2, 'welcome,': 1, 'behold,': 2, 'contrary,': 2, 'wretchedness?': 3, 'how,': 2, 'misfortune?': 1, 'Absence': 1, 'callous': 1, 'joys': 2, 'griefs;': 1, 'inflict': 2, 'absent': 4, 'son?': 1, 'news,': 1, 'impossible;': 2, 'skims': 1, 'horrible': 13, 'tidings.': 1, '\"William': 1, 'dead!—that': 1, 'gay!': 1, 'murdered!': 1, 'simply': 1, 'transaction.': 1, '\"Last': 1, 'Thursday': 1, '(May': 1, '7th),': 1, 'niece,': 1, 'Plainpalais.': 2, 'serene,': 1, 'prolonged': 2, 'farther': 3, 'usual.': 1, 'dusk': 1, 'returning;': 1, 'William': 10, 'Ernest,': 2, 'found.': 4, 'rested': 5, 'return.': 5, 'Presently': 5, 'came,': 2, 'enquired': 2, 'brother;': 2, 'run': 2, 'hide': 7, 'vainly': 3, '\"This': 9, 'conjectured': 4, 'there.': 2, 'torches;': 1, 'exposed': 4, 'dews': 2, 'night;': 4, 'anguish.': 3, 'boy,': 2, 'grass': 4, 'motionless;': 1, 'print': 2, \"murder's\": 1, 'finger': 2, 'neck.': 2, '\"He': 3, 'conveyed': 5, 'anguish': 14, 'visible': 3, 'betrayed': 2, 'corpse.': 2, 'prevent': 4, 'persisted,': 1, 'lay,': 3, 'hastily': 5, 'examined': 6, 'neck': 3, 'victim,': 5, 'clasping': 2, \"'O\": 1, 'murdered': 13, \"child!'\": 1, '\"She': 4, 'fainted,': 2, 'difficulty.': 1, 'weep': 5, 'sigh.': 1, 'teased': 1, 'wear': 1, 'miniature': 2, 'temptation': 3, 'murderer': 14, 'deed.': 2, 'trace': 8, 'present,': 2, 'unremitted;': 1, 'William!': 3, '\"Come,': 3, 'Victor;': 2, 'weeps': 1, 'continually,': 1, 'accuses': 1, 'unjustly': 2, 'pierce': 1, 'unhappy;': 1, 'motive': 2, 'comforter?': 1, 'mother!': 2, 'Alas,': 2, 'Victor!': 1, 'Thank': 1, 'God': 8, 'cruel,': 1, 'youngest': 1, 'darling!': 1, 'brooding': 1, 'vengeance': 14, 'assassin,': 1, 'gentleness,': 2, 'heal,': 1, 'festering,': 1, 'minds.': 1, 'Enter': 1, 'mourning,': 2, 'hatred': 9, 'enemies.': 3, '\"Your': 4, 'afflicted': 1, '\"Alphonse': 1, 'Frankenstein.': 2, '12th,': 1, 'receiving': 2, 'table,': 1, 'Henry,': 6, 'bitterness,': 2, '\"are': 1, 'unhappy?': 2, 'happened?\"': 1, 'motioned': 1, 'extremest': 2, 'agitation.': 2, 'Tears': 2, 'gushed': 2, 'misfortune.': 4, 'offer': 2, 'consolation,': 2, 'friend,\"': 1, '\"your': 2, 'irreparable.': 2, 'do?\"': 1, 'Geneva:': 1, 'horses.\"': 1, 'walk,': 2, 'consolation;': 2, 'sympathy.': 1, '\"Poor': 1, 'William!\"': 1, '\"dear': 1, 'sleeps': 1, 'joyous': 3, 'beauty,': 6, 'untimely': 2, 'loss!': 1, 'miserably;': 1, \"murderer's\": 1, 'grasp!': 1, 'radiant': 3, 'innocence!': 1, 'fellow!': 1, 'we;': 1, 'mourn': 2, 'weep,': 5, 'pang': 2, 'over,': 1, 'sod': 1, 'covers': 1, 'pain.': 3, 'pity;': 1, 'reserve': 1, 'survivors.\"': 1, 'streets;': 1, 'solitude.': 4, 'horses': 2, 'cabriolet,': 1, 'bade': 4, 'melancholy.': 2, 'sympathise': 1, 'sorrowing': 1, 'friends;': 3, 'slackened': 1, 'crowded': 2, 'six': 1, 'time!': 2, 'desolating': 1, 'alterations,': 1, 'tranquilly,': 1, 'decisive.': 1, 'Fear': 1, 'advance,': 2, 'dreading': 1, 'nameless': 1, 'define': 1, 'Lausanne,': 1, 'lake:': 1, 'waters': 7, 'placid;': 1, 'calm;': 3, 'snowy': 7, \"'the\": 1, 'palaces': 2, \"nature,'\": 1, 'road': 2, 'narrower': 1, 'approached': 14, 'sides': 8, 'Mont': 12, 'Blanc.': 1, '\"Dear': 2, 'mountains!': 1, 'lake!': 2, 'welcome': 5, 'summits': 5, 'clear;': 1, 'placid.': 1, 'Is': 3, 'prognosticate': 1, 'peace,': 4, 'unhappiness?\"': 1, 'tedious': 4, 'preliminary': 1, 'circumstances;': 1, 'comparative': 1, 'happiness,': 9, 'pleasure.': 7, 'country!': 1, 'beholding': 3, 'thy': 18, 'streams,': 1, 'Night': 2, 'around;': 3, 'gloomily.': 1, 'foresaw': 1, 'obscurely': 1, 'prophesied': 1, 'truly,': 1, 'dreaded,': 1, 'hundredth': 1, 'endure.': 2, 'Geneva;': 3, 'shut;': 1, 'Secheron,': 1, 'serene;': 1, 'spot': 16, 'murdered.': 2, 'cross': 3, 'boat': 10, 'lightning': 3, 'Blanc': 3, 'figures.': 1, 'rapidly,': 1, 'landing,': 2, 'hill,': 1, 'advanced;': 1, 'clouded,': 2, 'drops,': 2, 'increased.': 1, 'seat,': 1, 'minute,': 1, 'terrific': 5, 'crash': 1, 'echoed': 1, 'Saleve,': 3, 'Juras,': 1, 'Alps': 3, 'Savoy;': 1, 'vivid': 1, 'flashes': 1, 'dazzled': 1, 'illuminating': 1, 'sheet': 1, 'fire;': 2, 'pitchy': 1, 'darkness,': 3, 'flash.': 1, 'storm,': 1, 'Switzerland,': 4, 'hung': 6, 'exactly': 3, 'lies': 3, 'promontory': 2, 'Belrive': 1, 'Copet.': 1, 'Another': 2, 'Jura': 2, 'faint': 2, 'flashes;': 1, 'darkened': 2, 'disclosed': 2, 'Mole,': 1, 'peaked': 1, 'east': 1, 'tempest,': 2, 'terrific,': 1, 'wandered': 14, 'hasty': 2, 'step.': 1, 'war': 2, 'elevated': 6, 'spirits;': 2, 'clasped': 1, 'aloud,': 2, '\"William,': 1, 'angel!': 1, 'funeral,': 1, 'dirge!\"': 1, 'stole': 4, 'clump': 1, 'fixed,': 2, 'intently:': 1, 'mistaken.': 1, 'flash': 2, 'illuminated': 2, 'deformity': 3, 'belongs': 1, 'humanity,': 2, 'wretch,': 3, 'daemon,': 2, 'there?': 2, '(I': 3, 'shuddered': 5, 'conception)': 1, 'brother?': 2, 'truth;': 1, 'lean': 2, 'quickly,': 1, 'gloom.': 1, 'HE': 1, 'murderer!': 1, 'mere': 3, 'fact.': 1, 'devil;': 1, 'vain,': 2, 'rocks': 2, 'perpendicular': 2, 'ascent': 2, 'hill': 1, 'bounds': 3, 'Plainpalais': 1, 'south.': 2, 'summit,': 1, 'disappeared.': 3, 'motionless.': 1, 'ceased;': 1, 'continued,': 8, 'impenetrable': 2, 'darkness.': 1, 'bedside;': 1, 'departure.': 2, 'crime?': 2, 'depraved': 2, 'carnage': 1, 'misery;': 5, 'spent,': 2, 'air.': 2, 'inconvenience': 1, 'weather;': 2, 'cast': 10, 'endowed': 4, 'deed': 1, 'vampire,': 1, 'grave,': 2, 'Day': 2, 'dawned;': 1, 'murderer,': 4, 'made.': 2, 'paused': 5, 'reflected': 14, 'formed,': 1, 'precipices': 5, 'inaccessible': 3, 'mountain.': 4, 'dated': 3, 'delirium': 2, 'improbable.': 1, 'ravings': 3, 'insanity.': 1, 'elude': 1, 'pursuit,': 3, 'credited': 1, 'relatives': 1, 'pursuit?': 1, 'arrest': 1, 'scaling': 1, 'overhanging': 1, 'Saleve?': 1, 'silent.': 2, 'servants': 3, 'library': 1, 'rising.': 2, 'elapsed,': 1, 'indelible': 1, 'trace,': 1, 'Beloved': 2, 'venerable': 4, 'parent!': 1, 'mantel-piece.': 1, 'historical': 1, 'painted': 4, 'represented': 1, 'kneeling': 1, 'garb': 1, 'rustic,': 2, 'sentiment': 4, 'pity.': 1, 'Below': 1, 'William;': 1, 'flowed': 4, 'entered:': 1, '\"Welcome,': 1, 'he.': 3, 'delighted.': 1, 'alleviate;': 1, 'will,': 4, 'sinking': 2, 'cease': 5, 'self-accusations.—Poor': 1, 'pride!\"': 1, 'Tears,': 1, \"brother's\": 1, 'eyes;': 7, 'crept': 7, 'Before,': 3, 'wretchedness': 2, 'desolated': 2, 'home;': 1, 'new,': 2, 'terrible,': 1, 'disaster.': 1, 'Ernest;': 2, 'minutely': 2, 'named': 1, 'all,\"': 1, '\"requires': 1, 'wretched.': 2, 'discovered—\"': 1, 'discovered!': 1, 'him?': 1, 'overtake': 1, 'winds,': 3, 'confine': 2, 'mountain-stream': 1, 'straw.': 1, 'too;': 1, 'night!\"': 1, 'mean,\"': 1, 'accents': 2, 'wonder,': 5, 'completes': 1, 'first;': 2, 'convinced,': 1, 'evidence.': 1, 'Indeed,': 2, 'amiable,': 2, 'frightful,': 1, 'appalling': 5, 'crime?\"': 1, '\"Justine': 1, 'Moritz!': 1, 'Poor,': 1, 'accused?': 1, 'wrongfully;': 1, 'that;': 1, 'surely,': 1, 'Ernest?\"': 2, '\"No': 1, 'confused,': 1, 'doubt.': 1, 'today,': 2, 'all.\"': 2, 'murder': 14, 'discovered,': 3, 'days.': 4, 'interval,': 1, 'servants,': 1, 'happening': 1, 'apparel': 2, 'murder,': 4, 'pocket': 2, 'judged': 3, 'murderer.': 5, 'saying': 1, 'magistrate;': 2, 'deposition,': 1, 'apprehended.': 1, 'charged': 3, 'suspicion': 2, 'shake': 4, 'faith;': 1, 'earnestly,': 1, 'mistaken;': 2, 'innocent.\"': 2, 'entered.': 6, 'unhappiness': 2, 'countenance,': 6, 'mournful': 5, 'greeting,': 1, 'topic': 1, 'disaster,': 1, '\"Good': 1, 'God,': 2, 'papa!': 1, 'Victor': 1, 'says': 1, 'William.\"': 2, '\"We': 1, 'also,': 6, 'unfortunately,\"': 1, 'depravity': 1, 'ungratitude': 1, 'valued': 2, 'highly.\"': 1, 'forbid': 1, 'guilty.': 1, 'acquitted.\"': 1, 'speech': 5, 'calmed': 4, 'being,': 3, 'guiltless': 3, 'murder.': 2, 'circumstantial': 2, 'forward': 9, 'convict': 1, 'publicly;': 1, 'astounding': 1, 'madness': 5, 'vulgar.': 1, 'Did': 4, 'exist,': 1, 'creator,': 9, 'believe,': 6, 'monument': 1, 'rash': 2, 'world?': 1, 'Time': 1, 'her;': 6, 'candour,': 1, 'vivacity,': 1, 'allied': 1, 'intellect.': 1, 'cousin,\"': 3, 'she,': 6, '\"fills': 1, 'hope.': 5, 'justify': 1, 'Justine.': 2, 'safe,': 1, 'convicted': 1, 'rely': 3, 'innocence': 9, 'doubly': 1, 'torn': 4, 'fate.': 6, 'condemned,': 5, 'sure': 2, 'innocent,': 3, 'Elizabeth,\"': 1, '\"and': 5, 'proved;': 2, 'nothing,': 2, 'cheered': 2, 'assurance': 1, 'acquittal.\"': 1, '\"How': 5, 'else': 2, 'guilt,': 5, 'wretched,': 4, 'impossible:': 1, 'prejudiced': 2, 'deadly': 6, 'hopeless': 1, 'despairing.\"': 1, 'wept.': 2, 'niece,\"': 1, '\"dry': 1, 'tears.': 4, 'laws,': 3, 'slightest': 3, 'shadow': 5, 'partiality.\"': 1, '8': 1, 'eleven': 1, \"o'clock,\": 4, 'trial': 6, 'commence.': 1, 'witnesses,': 2, 'court.': 4, 'mockery': 4, 'torture.': 1, 'lawless': 1, 'devices': 1, 'beings:': 1, 'smiling': 3, 'babe': 1, 'murdered,': 3, 'aggravation': 1, 'infamy': 1, 'horror.': 5, 'merit': 1, 'qualities': 6, 'happy;': 6, 'obliterated': 2, 'ignominious': 1, 'cause!': 1, 'confessed': 3, 'crime': 9, 'committed,': 1, 'declaration': 1, 'madman': 1, 'exculpated': 1, 'calm.': 1, 'dressed': 3, 'engaging,': 1, 'rendered,': 1, 'solemnity': 4, 'exquisitely': 1, 'confident': 1, 'execrated': 1, 'thousands,': 1, 'minds': 4, 'spectators': 1, 'enormity': 2, 'committed.': 1, 'tranquil,': 2, 'constrained;': 1, 'adduced': 2, 'court': 4, 'seated.': 1, 'herself,': 1, 'sorrowful': 3, 'attest': 1, 'guiltlessness.': 1, 'began,': 2, 'advocate': 1, 'stated': 1, 'charge,': 3, 'called.': 1, 'combined': 3, 'staggered': 1, 'had.': 1, 'market-woman': 2, 'confused': 3, 'unintelligible': 1, 'demanded': 4, 'earnestly': 5, 'shown': 4, 'body,': 3, 'hysterics': 1, 'pocket;': 1, 'faltering': 1, 'proved': 4, 'missed,': 1, 'neck,': 4, 'murmur': 3, 'indignation': 5, 'defence.': 2, 'altered.': 1, 'Surprise,': 1, 'expressed.': 1, 'plead,': 1, 'audible': 2, 'variable': 1, 'voice.': 3, '\"God': 1, 'knows,\"': 1, 'innocent.': 2, 'pretend': 3, 'protestations': 1, 'acquit': 1, 'borne': 6, 'incline': 1, 'judges': 5, 'interpretation': 2, 'doubtful': 1, 'suspicious.\"': 1, 'Chene,': 1, 'nine': 1, 'shut,': 1, 'barn': 2, 'cottage,': 15, 'inhabitants,': 3, 'Most': 1, 'watching;': 1, 'slept': 5, 'minutes;': 1, 'awoke.': 1, 'brother.': 1, 'That': 5, 'bewildered': 2, 'questioned': 1, 'surprising,': 1, 'uncertain.': 1, 'Concerning': 1, 'know,\"': 2, 'unhappy': 10, 'fatally': 1, 'weighs': 1, 'explaining': 1, 'it;': 9, 'ignorance,': 1, 'conjecture': 4, 'probabilities': 1, 'pocket.': 1, 'checked.': 1, 'earth,': 7, 'wicked': 1, 'wantonly.': 1, 'opportunity': 3, 'doing;': 1, 'or,': 2, 'had,': 4, 'stolen': 1, 'jewel,': 1, 'soon?': 1, 'judges,': 1, 'beg': 2, 'testimony': 1, 'overweigh': 1, 'pledge': 1, 'salvation': 1, 'innocence.\"': 1, 'timorous': 1, 'forward.': 1, 'resource,': 2, 'dispositions': 4, 'irreproachable': 1, 'conduct,': 1, 'accused,': 1, 'violently': 4, 'agitated,': 2, 'address': 3, 'am,\"': 1, 'educated': 2, 'indecent': 1, 'pretended': 1, 'friends,': 7, 'character.': 2, 'accused.': 1, 'creatures.': 5, 'Frankenstein,': 7, 'aunt,': 1, 'illness,': 3, \"uncle's\": 1, 'warmly': 1, 'acted': 3, 'hesitate': 1, 'perfect': 5, 'innocence.': 3, 'action;': 1, 'bauble': 1, 'chief': 5, 'rests,': 2, 'willingly': 4, 'her.\"': 1, \"Elizabeth's\": 4, 'appeal,': 1, 'interference,': 1, 'violence,': 1, 'charging': 1, 'blackest': 1, 'ingratitude.': 1, 'trial.': 1, 'innocence;': 1, 'demon': 1, 'doubt)': 1, 'hellish': 7, 'sport': 2, 'ignominy?': 1, 'situation,': 3, 'popular': 1, 'countenances': 6, 'condemned': 4, 'agony.': 5, 'tortures': 5, 'mine;': 3, 'innocence,': 3, 'fangs': 1, 'tore': 5, 'bosom': 1, 'forgo': 1, 'hold.': 1, 'unmingled': 3, 'court;': 1, 'throat': 3, 'parched.': 1, 'known,': 1, 'officer': 1, 'ballots': 1, 'thrown;': 1, 'condemned.': 2, 'expressions,': 1, 'heart-sickening': 1, 'endured.': 5, 'guilt.': 3, '\"That': 5, 'evidence,\"': 1, 'observed,': 2, '\"was': 1, 'glaring': 1, 'case,': 3, 'condemn': 2, 'criminal': 5, 'evidence,': 3, 'decisive.\"': 1, 'unexpected': 2, 'intelligence;': 1, 'mean?': 3, 'Had': 2, 'deceived': 3, 'me?': 10, 'mad': 3, 'suspicions?': 1, '\"it': 1, 'expected;': 1, 'escape.': 2, 'confessed.\"': 1, 'dire': 1, 'relied': 3, 'firmness': 4, \"Justine's\": 1, '\"Alas!\"': 1, 'she.': 3, 'goodness?': 1, 'esteemed': 2, 'betray?': 1, 'severity': 2, 'guile,': 1, 'murder.\"': 1, 'judgment': 3, 'decide.': 2, '\"Yes,\"': 1, 'go,': 3, 'guilty;': 2, 'alone.\"': 1, 'refuse.': 2, 'prison': 7, 'chamber': 2, 'sitting': 1, 'end;': 1, 'manacled,': 1, 'knees.': 1, 'enter,': 1, 'bitterly.': 3, 'also.': 2, '\"Oh,': 3, 'Justine!\"': 1, '\"Why': 3, 'rob': 3, 'consolation?': 1, 'now.\"': 1, 'very,': 1, 'wicked?': 1, 'join': 8, 'enemies': 2, 'crush': 4, 'murderer?\"': 1, 'suffocated': 1, 'sobs.': 1, '\"Rise,': 1, 'girl,\"': 2, 'Elizabeth;': 3, '\"why': 1, 'kneel,': 2, 'innocent?': 1, 'enemies,': 1, 'guiltless,': 2, 'declared': 3, 'report,': 1, 'false;': 1, 'assured,': 3, 'moment,': 6, 'confession.\"': 1, 'confess,': 2, 'lie.': 2, 'confessed,': 2, 'absolution;': 1, 'falsehood': 2, 'heavier': 1, 'sins.': 1, 'besieged': 1, 'threatened': 5, 'was.': 4, 'excommunication': 1, 'obdurate.': 1, 'Dear': 3, 'lady,': 6, 'ignominy': 3, 'perdition.': 1, 'subscribed': 1, 'lie;': 1, 'miserable.\"': 1, 'weeping,': 1, 'blessed': 6, 'honoured,': 1, 'loved,': 3, 'devil': 3, 'perpetrated.': 1, 'child!': 1, 'consoles': 2, 'death.\"': 1, 'Justine!': 1, 'Forgive': 1, 'distrusted': 1, 'confess?': 1, 'mourn,': 1, 'girl.': 1, 'fear.': 2, 'proclaim,': 1, 'prove': 7, 'melt': 1, 'stony': 2, 'prayers.': 1, 'die!': 1, 'You,': 4, 'playfellow,': 1, 'companion,': 6, 'scaffold!': 1, 'No!': 2, 'survive': 4, 'misfortune.\"': 1, 'shook': 1, 'mournfully.': 1, 'die,\"': 1, 'said;': 1, '\"that': 3, 'past.': 2, 'raises': 1, 'weakness': 1, 'worst.': 1, 'bitter': 16, 'world;': 4, 'resigned': 1, 'awaiting': 1, 'submit': 1, 'patience': 1, 'heaven!\"': 1, 'corner': 2, 'Despair!': 1, 'talk': 3, 'that?': 1, 'morrow': 2, 'awful': 3, 'boundary': 3, 'did,': 2, 'gnashed': 3, 'together,': 2, 'uttering': 1, 'inmost': 1, 'started.': 1, 'guilty?\"': 1, '\"No,': 1, 'Justine,\"': 1, '\"he': 2, 'sincerest': 1, 'am!': 1, 'removes': 1, 'misfortune,': 1, 'acknowledged': 1, 'cousin.\"': 2, 'sufferer': 1, 'comfort': 5, 'herself.': 1, 'resignation': 1, 'desired.': 1, 'never-dying': 1, 'bosom,': 4, 'consolation.': 4, 'hers': 3, 'hides': 1, 'tarnish': 1, 'brightness.': 1, 'Anguish': 1, 'core': 1, 'extinguish.': 1, 'stayed': 2, 'away.': 2, 'wish,\"': 1, 'misery.\"': 1, 'cheerfulness,': 2, 'repressed': 1, 'half-suppressed': 1, 'emotion,': 1, '\"Farewell,': 1, 'friend;': 4, 'bounty,': 1, 'suffer!': 1, 'Live,': 1, 'so.\"': 1, 'died.': 1, 'heart-rending': 1, 'eloquence': 3, 'move': 8, 'criminality': 1, 'sufferer.': 1, 'indignant': 1, 'appeals': 1, 'answers': 1, 'harsh,': 3, 'unfeeling': 2, 'reasoning': 2, 'purposed': 1, 'avowal': 1, 'proclaim': 1, 'madman,': 1, 'revoke': 1, 'sentence': 3, 'victim.': 2, 'perished': 1, 'scaffold': 2, 'murderess!': 1, 'voiceless': 1, 'doing!': 1, 'woe,': 2, 'desolation': 2, 'late': 4, 'thrice-accursed': 1, 'hands!': 1, 'Ye': 1, 'ones,': 1, 'tears!': 1, 'Again': 4, 'funeral': 3, 'wail,': 1, 'lamentations': 1, 'heard!': 1, 'kinsman,': 1, 'much-loved': 1, 'vital': 1, 'drop': 2, 'sakes,': 1, 'mirrored': 1, 'countenances,': 2, 'fill': 5, 'serving': 1, 'you—he': 1, 'bids': 1, 'countless': 1, 'tears;': 1, 'hopes,': 4, 'inexorable': 1, 'satisfied,': 2, 'pause': 5, 'torments!': 1, 'prophetic': 2, 'remorse,': 2, 'graves': 1, 'hapless': 2, 'victims': 3, 'arts.': 1, '9': 1, 'than,': 1, 'succession': 1, 'calmness': 2, 'inaction': 1, 'certainty': 3, 'follows': 1, 'deprives': 1, 'died,': 5, 'rested,': 1, 'alive.': 1, 'freely': 1, 'remove.': 1, 'Sleep': 1, 'deeds': 2, 'mischief': 2, 'description': 2, 'horrible,': 1, 'myself)': 2, 'behind.': 2, 'overflowed': 2, 'virtue.': 4, 'begun': 2, 'intentions': 4, 'thirsted': 2, 'blasted;': 1, 'serenity': 1, 'past': 10, 'self-satisfaction,': 1, 'gather': 2, 'describe.': 1, 'preyed': 4, 'shock': 3, 'man;': 4, 'complacency': 1, 'solitude': 9, 'consolation—deep,': 1, 'dark,': 4, 'deathlike': 1, 'alteration': 4, 'perceptible': 1, 'habits': 3, 'deduced': 1, 'inspire': 4, 'awaken': 2, 'dispel': 2, 'brooded': 2, 'think,': 1, 'also?': 1, 'brother\"—tears': 1, 'spoke—\"but': 1, 'survivors': 1, 'augmenting': 1, 'immoderate': 1, 'excessive': 1, 'enjoyment,': 1, 'discharge': 1, 'usefulness,': 1, 'society.\"': 1, 'advice,': 1, 'inapplicable': 1, 'case;': 1, 'terror': 4, 'alarm,': 2, 'Belrive.': 1, 'shutting': 1, 'impossibility': 1, 'walls': 4, 'free.': 5, 'Often,': 4, 'water.': 3, 'sails': 1, 'carried': 10, 'wind;': 3, 'sometimes,': 1, 'middle': 2, 'tempted,': 1, 'unquiet': 1, 'restless': 4, 'heavenly—if': 1, 'bat,': 1, 'frogs,': 1, 'interrupted': 5, 'croaking': 1, 'shore—often,': 1, 'plunge': 3, 'calamities': 1, 'restrained,': 1, 'suffering': 2, 'tenderly': 3, 'surviving': 1, 'base': 4, 'desertion': 1, 'unprotected': 2, 'malice': 3, 'them?': 1, 'revisit': 2, 'happiness.': 8, 'be.': 2, 'Remorse': 1, 'author': 3, 'unalterable': 1, 'evils,': 1, 'lest': 6, 'created': 4, 'perpetrate': 1, 'wickedness.': 2, 'obscure': 7, 'signal': 2, 'crime,': 2, 'efface': 1, 'recollection': 4, 'abhorrence': 6, 'inflamed,': 1, 'extinguish': 6, 'thoughtlessly': 1, 'bestowed.': 1, 'crimes': 6, 'malice,': 1, 'revenge': 12, 'moderation.': 1, 'pilgrimage': 1, 'peak': 1, 'Andes,': 1, 'precipitated': 1, 'base.': 1, 'wreak': 3, 'utmost': 6, 'avenge': 1, 'mourning.': 1, 'events.': 1, 'desponding;': 1, 'ordinary': 2, 'occupations;': 1, 'dead;': 1, 'woe': 1, 'tribute': 2, 'banks': 7, 'talked': 3, 'ecstasy': 4, 'prospects.': 1, 'sent': 4, 'wean': 1, 'dimming': 1, 'influence': 3, 'quenched': 2, 'smiles.': 2, 'reflect,': 2, '\"on': 1, 'injustice': 5, 'imaginary': 2, 'evils;': 1, 'remote': 3, 'monsters': 1, 'thirsting': 1, \"other's\": 1, 'blood.': 2, 'unjust.': 1, 'Everybody': 1, 'assuredly': 4, 'sake': 3, 'jewels,': 1, 'benefactor': 1, 'birth,': 1, 'own!': 1, 'unfit': 2, 'society': 9, 'men.': 4, 'innocent;': 3, 'confirms': 1, 'truth,': 3, 'happiness?': 1, 'edge': 3, 'precipice,': 1, 'thousands': 2, 'crowding': 1, 'abyss.': 1, 'assassinated,': 1, 'escapes;': 1, 'free,': 1, 'respected.': 1, 'crimes,': 3, 'places': 2, 'wretch.\"': 1, 'discourse': 2, 'deed,': 1, 'effect,': 1, 'kindly': 3, 'taking': 8, 'yourself.': 4, 'affected': 3, 'deeply;': 1, 'are.': 2, 'revenge,': 4, 'makes': 1, 'tremble.': 1, 'passions.': 3, 'centre': 1, 'rendering': 1, 'happy?': 1, 'Ah!': 4, 'reap': 1, 'blessing—what': 1, 'peace?\"': 1, 'fondly': 2, 'prized': 1, 'gift': 2, 'suffice': 1, 'chase': 1, 'lurked': 1, 'heart?': 1, 'terror,': 3, 'destroyer': 4, 'friendship,': 1, 'woe;': 1, 'beneficial': 1, 'penetrate.': 2, 'wounded': 1, 'deer': 2, 'dragging': 1, 'fainting': 1, 'untrodden': 1, 'brake,': 1, 'gaze': 1, 'arrow': 1, 'pierced': 1, 'die,': 7, 'type': 2, 'cope': 2, 'whirlwind': 1, 'drove': 3, 'seek,': 1, 'intolerable': 2, 'access': 2, 'bending': 1, 'valleys,': 1, 'magnificence,': 1, 'eternity': 1, 'scenes,': 2, 'ephemeral,': 1, 'human,': 3, 'sorrows.': 1, 'valley': 5, 'Chamounix.': 4, 'boyhood.': 2, 'then:': 1, '_I_': 1, 'wreck,': 1, 'nought': 1, 'enduring': 1, 'scenes.': 1, 'horseback.': 1, 'mule,': 1, 'sure-footed': 1, 'liable': 1, 'injury': 4, 'roads.': 1, 'fine;': 1, 'August,': 1, 'epoch': 2, 'woe.': 2, 'sensibly': 2, 'lightened': 1, 'plunged': 3, 'ravine': 1, 'Arve.': 1, 'overhung': 2, 'side,': 1, 'river': 8, 'raging': 1, 'rocks,': 1, 'dashing': 4, 'waterfalls': 1, 'mighty': 13, 'Omnipotence—and': 1, 'bend': 3, 'almighty': 1, 'elements,': 1, 'displayed': 2, 'guise.': 1, 'Still,': 2, 'higher,': 3, 'Ruined': 1, 'castles': 4, 'piny': 2, 'impetuous': 1, 'Arve,': 2, 'peeping': 1, 'beauty.': 2, 'augmented': 4, 'Alps,': 2, 'shining': 2, 'pyramids': 1, 'domes': 1, 'towered': 1, 'habitations': 2, 'race': 3, 'bridge': 1, 'Pelissier,': 1, 'ravine,': 2, 'forms,': 3, 'overhangs': 2, 'sublime,': 1, 'picturesque': 1, 'Servox,': 1, 'passed.': 2, 'boundaries,': 1, 'ruined': 3, 'fertile': 1, 'fields.': 2, 'Immense': 2, 'glaciers': 3, 'road;': 1, 'rumbling': 1, 'falling': 2, 'avalanche': 5, 'smoke': 1, 'passage.': 1, 'Blanc,': 4, 'surrounding': 2, 'aiguilles,': 1, 'dome': 2, 'overlooked': 1, 'valley.': 3, 'tingling': 2, 'long-lost': 1, 'journey.': 5, 'recognized,': 1, 'reminded': 1, 'associated': 2, 'lighthearted': 1, 'gaiety': 1, 'winds': 4, 'whispered': 3, 'soothing': 3, 'accents,': 3, 'maternal': 1, 'Nature': 3, 'Then': 3, 'act—I': 1, 'fettered': 1, 'indulging': 2, 'spurred': 1, 'animal,': 3, 'striving': 1, 'fears,': 2, 'myself—or,': 1, 'desperate': 1, 'fashion,': 1, 'grass,': 1, 'Exhaustion': 1, 'pallid': 1, 'lightnings': 1, 'played': 6, 'rushing': 2, 'noisy': 1, 'beneath.': 1, 'lulling': 1, 'sounds': 13, 'lullaby': 1, 'keen': 2, 'sensations;': 3, 'pillow,': 1, 'giver': 1, 'oblivion.': 1, '10': 1, 'roaming': 1, 'sources': 1, 'Arveiron,': 1, 'rise': 6, 'glacier,': 1, 'pace': 1, 'advancing': 2, 'barricade': 1, 'abrupt': 1, 'wall': 1, 'glacier': 3, 'pines': 3, 'scattered': 4, 'solemn': 8, 'glorious': 4, 'presence-chamber': 1, 'imperial': 1, 'brawling': 1, 'waves': 8, 'fragment,': 1, 'cracking,': 1, 'reverberated': 1, 'accumulated': 4, 'working': 1, 'anon': 1, 'torn,': 1, 'receiving.': 1, 'littleness': 1, 'feeling,': 6, 'remove': 2, 'subdued': 3, 'tranquillized': 1, 'month.': 2, 'slumbers,': 1, 'ministered': 1, 'assemblance': 1, 'grand': 3, 'congregated': 1, 'unstained': 1, 'mountain-top,': 1, 'glittering': 3, 'pinnacle,': 1, 'pine': 1, 'woods,': 4, 'ragged': 2, 'bare': 5, 'eagle,': 2, 'clouds—they': 1, 'Where': 1, 'awoke?': 1, 'soul-inspiriting': 1, 'sleep,': 1, 'clouded': 2, 'thought.': 1, 'pouring': 1, 'torrents,': 1, 'mists': 2, 'hid': 8, 'Still': 2, 'misty': 1, 'veil': 1, 'cloudy': 2, 'retreats.': 1, 'mule': 1, 'Montanvert.': 1, 'ever-moving': 1, 'wings': 1, 'soar': 1, 'solemnizing': 1, 'causing': 1, 'guide,': 2, 'path,': 3, 'scene.': 5, 'precipitous,': 1, 'cut': 5, 'windings,': 1, 'enable': 3, 'surmount': 2, 'perpendicularity': 1, 'terrifically': 1, 'desolate.': 3, 'spots': 1, 'traces': 2, 'perceived,': 2, 'lie': 2, 'strewed': 2, 'ground,': 5, 'destroyed,': 2, 'bent,': 1, 'leaning': 5, 'jutting': 1, 'transversely': 1, 'trees.': 5, 'intersected': 1, 'ravines': 1, 'snow,': 1, 'stones': 3, 'roll': 1, 'above;': 1, 'sound,': 2, 'speaking': 2, 'loud': 5, 'produces': 1, 'concussion': 1, 'speaker.': 1, 'luxuriant,': 1, 'sombre': 1, 'rising': 5, 'rivers': 3, 'wreaths': 1, 'uniform': 2, 'clouds,': 2, 'impression': 3, 'sensibilities': 1, 'apparent': 5, 'brute;': 1, 'impulses': 2, 'hunger,': 5, 'free;': 1, 'moved': 11, 'blows': 3, 'chance': 4, 'rest;': 3, 'poison': 3, 'rise;': 1, \"wand'ring\": 1, 'pollutes': 1, 'feel,': 3, 'conceive,': 1, 'reason;': 1, 'Embrace': 1, 'away;': 4, 'same:': 1, \"Man's\": 1, 'yesterday': 2, \"ne'er\": 1, 'morrow;': 1, 'Nought': 1, 'mutability!': 1, 'noon': 2, 'ascent.': 1, 'rock': 2, 'overlooks': 1, 'mountains.': 3, 'dissipated': 1, 'cloud,': 2, 'glacier.': 1, 'surface': 2, 'uneven,': 1, 'troubled': 5, 'descending': 1, 'low,': 1, 'interspersed': 2, 'rifts': 1, 'sink': 7, 'deep.': 2, 'width,': 1, 'crossing': 1, 'rock.': 4, 'Montanvert': 1, 'opposite,': 1, 'league;': 1, 'majesty.': 1, 'recess': 3, 'rock,': 3, 'stupendous': 3, 'wound': 6, 'dependent': 2, 'recesses.': 1, 'peaks': 2, 'sunlight': 1, 'clouds.': 1, 'sorrowful,': 3, 'swelled': 3, '\"Wandering': 1, 'ye': 4, 'wander,': 1, 'beds,': 1, 'distance,': 4, 'superhuman': 1, 'speed.': 4, 'crevices': 1, 'caution;': 1, 'approached,': 3, 'exceed': 3, 'faintness': 1, 'seize': 5, 'gale': 1, '(sight': 1, 'abhorred!)': 1, 'rage': 21, 'resolving': 4, 'combat.': 1, 'approached;': 1, 'bespoke': 1, 'anguish,': 6, 'malignity,': 3, 'unearthly': 3, 'ugliness': 1, 'utterance,': 1, 'overwhelm': 2, 'furious': 2, 'detestation': 2, 'contempt.': 1, '\"Devil,\"': 1, '\"do': 1, 'fierce': 2, 'arm': 6, 'wreaked': 1, 'head?': 1, 'Begone,': 2, 'vile': 1, 'insect!': 1, 'Or': 2, 'stay,': 1, 'trample': 2, 'dust!': 1, 'oh!': 1, 'could,': 3, 'extinction': 3, 'diabolically': 1, 'murdered!\"': 1, 'reception,\"': 1, 'daemon.': 3, '\"All': 1, 'hate': 8, 'wretched;': 1, 'hated,': 1, 'things!': 1, 'detest': 1, 'spurn': 2, 'creature,': 10, 'thou': 14, 'dissoluble': 1, 'life?': 4, 'mankind.': 5, 'comply': 6, 'conditions,': 1, 'peace;': 1, 'refuse,': 1, 'glut': 2, 'maw': 1, 'satiated': 3, 'friends.\"': 1, '\"Abhorred': 1, 'monster!': 2, 'Fiend': 1, 'art!': 1, 'crimes.': 3, 'Wretched': 1, 'devil!': 2, 'negligently': 1, 'bestowed.\"': 1, 'bounds;': 1, 'sprang': 4, 'another.': 5, 'eluded': 4, '\"Be': 3, 'calm!': 1, 'vent': 2, 'enough,': 1, 'increase': 4, 'misery?': 1, 'Life,': 1, 'accumulation': 2, 'defend': 2, 'hast': 1, 'thyself;': 1, 'thine,': 2, 'supple.': 1, 'opposition': 1, 'thee.': 1, 'docile': 1, 'lord': 1, 'king': 2, 'wilt': 1, 'owest': 1, 'equitable': 1, 'alone,': 8, 'justice,': 4, 'clemency': 1, 'due.': 1, 'creature;': 1, 'Adam,': 2, 'angel,': 2, 'drivest': 1, 'misdeed.': 1, 'Everywhere': 2, 'bliss,': 1, 'excluded.': 1, 'good;': 1, 'fiend.': 1, 'Make': 1, 'virtuous.\"': 1, '\"Begone!': 2, 'community': 1, 'fight,': 1, 'fall.\"': 1, 'thee?': 1, 'thee': 4, 'implores': 1, 'goodness': 2, 'compassion?': 1, 'Believe': 1, 'benevolent;': 1, 'glowed': 1, 'humanity;': 1, 'alone?': 2, 'abhor': 3, 'nothing?': 1, 'refuge.': 1, 'caves': 4, 'grudge.': 1, 'bleak': 3, 'skies': 2, 'hail,': 1, 'kinder': 1, 'mankind': 2, 'do,': 3, 'miserable,': 6, 'recompense': 2, 'great,': 1, 'whirlwinds': 2, 'rage.': 1, 'Let': 7, 'compassion': 5, 'moved,': 1, 'Listen': 2, 'tale;': 4, 'abandon': 2, 'commiserate': 1, 'deserve.': 1, 'allowed,': 1, 'bloody': 1, 'are,': 1, 'defence': 1, 'accuse': 2, 'conscience,': 1, 'creature.': 2, 'praise': 2, 'hands.\"': 2, 'remembrance,\"': 1, 'rejoined,': 1, '\"circumstances': 1, 'shudder': 4, 'author?': 1, 'Cursed': 2, 'abhorred': 7, 'devil,': 1, 'light!': 1, 'curse': 9, 'expression.': 2, 'not.': 7, 'Begone!': 3, 'Relieve': 1, 'detested': 5, 'form.\"': 1, '\"Thus': 1, 'thee,': 4, 'creator,\"': 1, 'flung': 2, 'violence;': 1, '\"thus': 1, 'abhor.': 1, 'canst': 1, 'grant': 3, 'possessed,': 1, 'strange,': 3, 'fitting': 1, 'hut': 1, 'descends': 2, 'illuminate': 2, 'neighbourhood': 6, 'harmless': 4, 'scourge': 1, 'speedy': 1, 'ruin.\"': 1, 'ice;': 1, 'followed.': 1, 'full,': 1, 'tale.': 3, 'resolution.': 1, 'confirmation': 1, 'denial': 1, 'opinion.': 1, 'complained': 1, 'motives': 3, 'demand.': 1, 'crossed': 3, 'descend;': 2, 'hut,': 3, 'exultation,': 1, 'heavy': 3, 'depressed': 2, 'listen,': 1, 'seating': 1, 'lighted,': 1, '11': 1, 'original': 2, 'era': 1, 'indistinct.': 1, 'multiplicity': 1, 'heard,': 2, 'smelt': 1, 'distinguish': 4, 'senses.': 1, 'stronger': 1, 'nerves,': 1, 'shut': 9, 'opening': 2, 'descended,': 2, 'opaque': 1, 'impervious': 1, 'touch': 1, 'sight;': 1, 'wander': 3, 'liberty,': 1, 'obstacles': 1, 'either': 7, 'avoid.': 1, 'oppressive': 3, 'heat': 5, 'wearying': 1, 'walked,': 1, 'shade.': 2, 'forest': 2, 'Ingolstadt;': 2, 'brook': 1, 'resting': 1, 'hunger': 5, 'thirst.': 1, 'roused': 6, 'dormant': 1, 'berries': 4, 'ground.': 7, 'slaked': 1, 'brook,': 1, 'awoke;': 1, 'frightened,': 1, 'instinctively,': 1, 'apartment,': 1, 'insufficient': 1, 'helpless,': 2, 'wretch;': 2, 'knew,': 1, 'distinguish,': 2, 'nothing;': 1, 'invade': 1, '\"Soon': 2, '[The': 1, 'moon]': 1, 'slowly,': 1, 'berries.': 1, 'huge': 2, 'cloak,': 3, 'mind;': 4, 'confused.': 1, 'darkness;': 2, 'innumerable': 5, 'rang': 5, 'ears,': 2, 'scents': 2, 'saluted': 2, '\"Several': 2, 'passed,': 4, 'orb': 2, 'lessened,': 1, 'other.': 1, 'supplied': 1, 'drink': 4, 'foliage.': 1, 'throats': 1, 'winged': 1, 'animals': 4, 'intercepted': 1, 'observe,': 1, 'accuracy,': 1, 'forms': 5, 'boundaries': 1, 'roof': 1, 'canopied': 1, 'birds': 2, 'unable.': 1, 'mode,': 1, 'lessened': 1, 'forest.': 2, 'distinct,': 2, 'right': 8, 'forms;': 1, 'insect': 1, 'herb,': 1, 'herb': 1, 'sparrow': 1, 'uttered': 8, 'notes,': 2, 'blackbird': 1, 'thrush': 2, 'enticing.': 1, 'beggars,': 1, 'thrust': 2, 'embers,': 1, 'cry': 2, 'effects!': 1, 'fire,': 5, 'branches,': 5, 'wet': 4, 'burn.': 1, 'pained': 1, 'operation': 1, 'fire.': 5, 'wood': 9, 'dried': 3, 'inflamed.': 1, 'touching': 1, 'quantity': 6, 'wood,': 8, 'dry': 3, 'extinguished.': 3, 'carefully': 2, 'spreading': 1, 'uncovered': 1, 'fanned': 2, 'flame.': 1, 'fan': 1, 'embers': 1, 'found,': 5, 'element': 2, 'food,': 6, 'offals': 1, 'travellers': 2, 'roasted,': 1, 'tasted': 2, 'savoury': 1, 'tried,': 1, 'placing': 2, 'embers.': 1, 'spoiled': 1, 'operation,': 1, 'nuts': 1, 'roots': 3, 'improved.': 1, '\"Food,': 1, 'scarce,': 1, 'searching': 1, 'acorns': 2, 'assuage': 1, 'pangs': 2, 'hunger.': 1, 'wants': 2, 'satisfied.': 2, 'emigration': 1, 'exceedingly': 2, 'lamented': 1, 'loss': 3, 'reproduce': 1, 'consideration': 4, 'difficulty,': 1, 'relinquish': 1, 'wrapping': 1, 'struck': 9, 'setting': 5, 'sun.': 2, 'rambles': 3, 'white;': 1, 'chilled': 2, 'damp': 2, 'shelter;': 1, 'convenience': 1, 'shepherd.': 1, 'curiosity.': 1, 'Finding': 1, 'An': 2, 'breakfast.': 1, 'noise,': 1, 'shrieked': 2, 'loudly,': 1, 'quitting': 3, 'speed': 2, 'debilitated': 1, 'capable.': 1, 'appearance,': 4, 'flight': 4, 'enchanted': 2, 'hut;': 1, 'penetrate;': 1, 'dry;': 2, 'Pandemonium': 1, 'demons': 1, 'devoured': 1, 'remnants': 1, \"shepherd's\": 1, 'breakfast,': 1, 'consisted': 4, 'bread,': 3, 'cheese,': 1, 'milk,': 1, 'wine;': 1, 'like.': 1, 'Then,': 1, 'asleep.': 2, 'allured': 2, 'sun,': 5, 'brightly': 1, 'recommence': 3, 'travels;': 2, 'depositing': 1, \"peasant's\": 1, 'breakfast': 2, 'wallet': 1, 'sunset': 2, 'village.': 2, 'appear!': 1, 'huts,': 2, 'neater': 1, 'cottages,': 2, 'stately': 2, 'houses': 2, 'turns.': 1, 'vegetables': 2, 'gardens,': 1, 'milk': 2, 'cheese': 1, 'windows': 5, 'appetite.': 1, 'shrieked,': 1, 'roused;': 1, 'until,': 3, 'grievously': 1, 'bruised': 1, 'kinds': 2, 'missile': 1, 'weapons,': 1, 'hovel,': 4, 'bare,': 2, 'hovel': 7, 'cottage': 24, 'neat': 2, 'dearly': 2, 'experience,': 1, 'constructed': 2, 'sit': 2, 'floor,': 2, 'chinks,': 1, 'asylum': 2, 'rain.': 1, '\"Here,': 1, 'shelter,': 1, 'barbarity': 2, 'kennel,': 1, 'adjacent': 1, 'habitation': 2, 'pig': 1, 'sty': 1, 'pool': 1, 'in;': 1, 'crevice': 2, 'out;': 1, 'enjoyed': 12, 'sty,': 1, '\"Having': 1, 'arranged': 4, 'carpeted': 1, 'clean': 2, 'straw,': 3, 'retired,': 2, 'treatment': 4, 'first,': 4, 'provided': 6, 'loaf': 2, 'coarse': 2, 'purloined,': 1, 'conveniently': 1, 'pure': 2, 'water': 7, 'retreat.': 2, 'floor': 1, 'raised,': 1, 'dry,': 2, 'vicinity': 1, 'tolerably': 1, 'warm.': 1, '\"Being': 1, 'provided,': 1, 'reside': 1, 'occur': 3, 'compared': 2, 'forest,': 1, 'residence,': 1, 'rain-dropping': 1, 'dank': 1, 'plank': 1, 'step,': 1, 'chink,': 1, 'pail': 2, 'head,': 3, 'hovel.': 2, 'demeanour,': 1, 'cottagers': 10, 'farmhouse': 1, 'meanly': 1, 'dressed,': 1, 'petticoat': 1, 'linen': 1, 'jacket': 1, 'garb;': 1, 'adorned:': 1, 'patient': 1, 'sad.': 2, 'quarter': 1, 'pail,': 1, 'milk.': 1, 'along,': 1, 'incommoded': 1, 'burden,': 2, 'despondence.': 1, 'Uttering': 1, 'melancholy,': 3, 'followed,': 4, 'tools': 2, 'cottage;': 4, 'busied,': 1, 'yard.': 1, '\"On': 1, 'dwelling,': 1, 'panes': 1, 'imperceptible': 1, 'chink': 1, 'Through': 3, 'whitewashed': 1, 'furniture.': 1, 'corner,': 1, 'disconsolate': 1, 'attitude.': 1, 'drawer,': 1, 'employed': 10, 'instrument,': 2, 'sweeter': 1, 'nightingale.': 1, 'sight,': 2, 'silver': 3, 'aged': 3, 'cottager': 1, 'reverence,': 1, 'enticed': 1, 'notice,': 1, 'sobbed': 2, 'audibly;': 1, 'pronounced': 4, 'work,': 7, 'overpowering': 1, 'experienced,': 1, 'food;': 3, 'withdrew': 1, 'window,': 2, 'emotions.': 2, 'returned,': 6, 'shoulders': 1, 'helped': 1, 'fuel': 2, 'apart': 2, 'nook': 2, 'piece': 2, 'cheese.': 1, 'plants,': 1, 'water,': 6, 'busily': 1, 'digging': 1, 'pulling': 1, 'roots.': 1, 'hour,': 2, 'meantime,': 3, 'pensive,': 1, 'companions': 7, 'eat.': 1, 'dispatched.': 1, 'minutes,': 2, 'youth.': 2, 'beaming': 2, 'love;': 3, 'graceful': 1, 'figure,': 2, 'moulded': 2, 'finest': 1, 'symmetry,': 1, 'attitude': 1, 'sadness': 3, 'despondency.': 1, '\"Night': 1, 'prolonging': 1, 'tapers,': 1, 'neighbours.': 1, 'understand;': 1, 'morning.': 1, 'play,': 1, 'monotonous,': 1, 'resembling': 2, 'harmony': 2, 'birds;': 1, 'letters.': 1, 'lights': 2, 'conjectured,': 3, 'rest.\"': 1, '12': 1, 'people,': 2, 'barbarous': 3, 'villagers,': 2, 'whatever': 2, 'hereafter': 2, 'pursue,': 2, 'quietly': 2, 'influenced': 2, 'actions.': 2, 'arose': 5, 'meal.': 1, 'constantly': 2, 'doors,': 1, 'blind,': 2, 'contemplation.': 1, 'companion.': 6, 'office': 1, '\"They': 3, 'weep.': 1, 'unhappiness,': 1, 'imperfect': 1, '(for': 2, 'eyes)': 1, 'luxury;': 1, 'chill': 2, 'delicious': 1, 'viands': 1, 'hungry;': 1, 'clothes;': 1, \"another's\": 1, 'speech,': 3, 'interchanging': 1, 'imply?': 1, 'pain?': 1, 'solve': 2, 'questions,': 1, 'enigmatic.': 1, '\"A': 2, 'uneasiness': 1, 'family:': 1, 'poverty,': 3, 'distressing': 1, 'nourishment': 1, 'cow,': 1, 'poignantly,': 1, 'cottagers,': 8, 'themselves.': 3, 'trait': 2, 'sensibly.': 1, 'accustomed,': 2, 'steal': 1, 'store': 3, 'consumption,': 1, 'abstained': 1, 'berries,': 1, 'nuts,': 1, 'neighbouring': 4, 'enabled': 4, 'tools,': 1, 'firing': 2, 'consumption': 1, 'pile': 5, 'outside.': 1, 'surprise.': 1, 'repairing': 1, 'cultivating': 1, 'garden.': 1, '\"By': 2, 'moment.': 1, 'method': 3, 'communicating': 2, 'experience': 5, 'articulate': 2, 'sounds.': 1, 'pain,': 3, 'sadness,': 1, 'hearers.': 1, 'godlike': 2, 'baffled': 1, 'pronunciation': 1, 'quick,': 1, 'uttered,': 1, 'connection': 2, 'objects,': 2, 'clue': 2, 'unravel': 1, 'mystery': 1, 'reference.': 1, 'application,': 1, 'revolutions': 1, 'discourse;': 1, \"'fire,'\": 1, \"'milk,'\": 1, \"'bread,'\": 1, \"'wood.'\": 1, 'names,': 1, \"'father.'\": 1, \"'sister'\": 1, \"'Agatha,'\": 1, \"'Felix,'\": 1, \"'brother,'\": 1, \"'son.'\": 1, 'appropriated': 1, 'pronounce': 1, \"'good,'\": 1, \"'dearest,'\": 1, \"'unhappy.'\": 1, 'endeared': 1, 'depressed;': 1, 'rejoiced,': 1, 'gait': 1, 'enhanced': 1, 'accomplishments': 1, 'encourage': 2, 'accent,': 3, 'Agatha': 13, 'respect,': 1, 'wipe': 1, 'unperceived;': 1, 'tone': 2, 'exhortations': 2, 'Felix.': 3, 'saddest': 1, 'group,': 1, 'unpractised': 1, 'senses,': 1, 'instances': 1, 'slight,': 1, 'cottagers.': 4, 'want,': 2, 'Felix': 37, 'flower': 1, 'peeped': 1, 'beneath': 7, 'Early': 1, 'risen,': 1, 'obstructed': 2, 'milk-house,': 1, 'outhouse,': 1, 'where,': 1, 'astonishment,': 1, 'replenished': 1, 'hand.': 1, 'farmer,': 1, 'dinner,': 1, 'garden,': 3, 'frosty': 1, 'Agatha.': 2, 'reading': 2, 'puzzled': 1, 'talked.': 1, 'paper': 1, 'understood,': 3, 'comprehend': 2, 'also;': 1, 'signs?': 1, 'improved,': 1, 'conversation,': 3, 'endeavour,': 1, 'language,': 6, 'overlook': 2, 'acquainted.': 1, 'admired': 2, 'cottagers—their': 1, 'grace,': 1, 'delicate': 2, 'complexions;': 1, 'terrified': 2, 'viewed': 4, 'transparent': 1, 'pool!': 1, 'mirror;': 1, 'bitterest': 3, 'despondence': 1, 'mortification.': 1, 'effects': 4, 'deformity.': 3, '\"As': 7, 'warmer': 1, 'longer,': 3, 'employed,': 1, 'heart-moving': 1, 'indications': 1, 'impending': 2, 'famine': 1, 'coarse,': 2, 'wholesome;': 1, 'sufficiency': 1, 'plants': 1, 'dressed;': 1, 'advanced.': 2, 'noon,': 2, 'rain,': 1, 'waters.': 1, 'mode': 4, 'uniform.': 1, 'dispersed': 3, 'slept;': 2, 'star-light,': 1, 'woods': 5, 'cottage.': 8, 'offices': 1, 'them;': 4, 'twice': 1, 'occasions,': 1, \"'good\": 1, \"spirit,'\": 1, \"'wonderful';\": 1, 'signification': 2, 'active,': 1, 'creatures;': 3, 'inquisitive': 2, '(foolish': 1, 'wretch!)': 1, 'people.': 1, 'blind': 8, 'Agatha,': 6, 'flitted': 1, 'arbiters': 1, 'pictures': 1, 'presenting': 1, 'disgusted,': 1, 'demeanour': 2, 'win': 2, 'exhilarated': 1, 'acquiring': 1, 'language.': 2, 'organs': 1, 'supple;': 1, 'music': 3, 'tones,': 1, 'understood': 11, 'tolerable': 1, 'ease.': 1, 'ass': 2, 'lap-dog;': 1, 'affectionate,': 1, 'rude,': 2, 'deserved': 1, 'execration.': 1, 'showers': 1, 'genial': 2, 'Men': 1, 'arts': 1, 'cultivation.': 2, 'sang': 2, 'bud': 1, 'Happy,': 1, 'earth!': 2, 'Fit': 1, 'gods,': 1, 'bleak,': 1, 'damp,': 1, 'unwholesome.': 1, 'blotted': 1, 'memory,': 2, 'gilded': 1, 'rays': 2, 'anticipations': 1, 'joy.\"': 1, '13': 1, 'hasten': 7, 'moving': 1, 'am.': 1, '\"Spring': 1, 'rapidly;': 1, 'cloudless.': 1, 'verdure.': 1, 'refreshed': 3, 'sights': 5, 'periodically': 1, 'labour—the': 1, 'guitar,': 2, 'him—that': 1, 'expression;': 1, 'sighed': 1, 'frequently,': 1, 'music,': 1, \"son's\": 1, 'sorrow.': 1, 'recommencing': 1, 'tapped': 2, 'door.': 1, 'horseback,': 1, 'country-man': 1, 'guide.': 2, 'suit': 1, 'veil.': 1, 'pronouncing,': 1, 'musical': 1, 'veil,': 1, 'angelic': 3, 'raven': 1, 'curiously': 1, 'braided;': 1, 'animated;': 1, 'regular': 1, 'wondrously': 1, 'fair,': 2, 'pink.': 1, '\"Felix': 4, 'ravished': 1, 'vanished': 3, 'ecstatic': 1, 'capable;': 1, 'sparkled,': 2, 'flushed': 2, 'feelings;': 1, 'wiping': 1, 'Felix,': 4, 'kissed': 5, 'rapturously': 1, 'Arabian.': 2, 'smiled.': 1, 'dismount,': 1, 'dismissing': 1, 'affectionately.': 1, 'comprehend,': 1, 'diffused': 3, 'dispelling': 1, 'dissipates': 1, 'mists.': 1, 'ever-gentle': 1, 'stranger,': 4, 'pointing': 2, 'they,': 1, 'comprehend.': 1, 'recurrence': 1, 'language;': 2, 'occurred': 4, 'lesson;': 1, 'early.': 1, \"'Good\": 1, \"Safie.'\": 1, 'conversing': 2, 'repetition': 1, 'conversation.': 1, 'faculty': 1, 'impossible.': 1, 'airs': 2, 'entrancingly': 1, 'sang,': 1, 'cadence,': 1, 'nightingale': 1, 'woods.': 2, 'guitar': 2, 'strain': 1, 'enraptured': 2, 'Safie,': 9, 'peaceably': 1, 'Safie': 13, 'protectors.': 5, '\"In': 2, 'meanwhile': 2, 'herbage,': 1, 'green': 4, 'flowers,': 2, 'scent': 2, 'moonlight': 1, 'woods;': 1, 'warmer,': 1, 'balmy;': 1, 'nocturnal': 1, 'considerably': 2, 'shortened': 1, 'ventured': 3, 'abroad': 3, 'daylight,': 1, 'fearful': 7, 'Arabian,': 5, 'comprehended': 1, 'spoken.': 1, '\"While': 2, 'instructed': 2, \"Volney's\": 1, 'Ruins': 1, 'Empires.': 1, 'purport': 2, 'explanations.': 1, 'chosen': 4, 'declamatory': 1, 'style': 1, 'framed': 1, 'Eastern': 1, 'authors.': 1, 'existing': 2, 'insight': 1, 'religions': 1, 'nations': 1, 'slothful': 1, 'Asiatics,': 1, 'mental': 2, 'Grecians,': 1, 'wars': 1, 'virtue': 4, 'Romans—of': 1, 'subsequent': 2, 'degenerating—of': 1, 'empire,': 1, 'chivalry,': 1, 'Christianity,': 1, 'kings.': 1, 'American': 1, 'hemisphere': 1, 'narrations': 1, 'Was': 3, 'powerful,': 1, 'virtuous': 3, 'vicious': 2, 'base?': 1, 'scion': 1, 'godlike.': 1, 'befall': 1, 'sensitive': 3, 'vicious,': 1, 'lowest': 2, 'degradation,': 1, 'abject': 2, 'mole': 1, 'fellow,': 1, 'governments;': 1, 'bloodshed,': 1, 'loathing.': 1, 'division': 1, 'property,': 2, 'squalid': 2, 'rank,': 2, 'descent,': 1, 'possessions': 1, 'unsullied': 1, 'descent': 3, 'riches.': 1, 'advantages,': 2, 'considered,': 1, 'rare': 1, 'instances,': 1, 'vagabond': 1, 'slave,': 2, 'profits': 1, 'few!': 1, 'I?': 4, 'Of': 2, 'absolutely': 2, 'ignorant,': 1, 'property.': 1, 'besides,': 3, 'hideously': 1, 'loathsome;': 1, 'agile': 1, 'subsist': 1, 'coarser': 1, 'diet;': 1, 'extremes': 1, 'frame;': 1, 'stature': 2, 'blot': 1, 'disowned?': 1, 'heat!': 1, '\"Of': 1, 'knowledge!': 1, 'clings': 3, 'lichen': 1, 'death—a': 1, 'stealth,': 1, 'unseen': 1, 'unknown,': 2, 'fellows.': 1, 'charming': 1, 'Miserable,': 1, 'wretch!': 3, '\"Other': 1, 'sexes,': 1, 'doted': 2, 'infant,': 1, 'sallies': 1, 'expanded': 2, 'relationships': 1, 'bind': 1, 'bonds.': 1, '\"But': 7, 'relations?': 1, 'caresses;': 1, 'blot,': 1, 'vacancy': 1, 'remembrance': 8, 'proportion.': 1, 'claimed': 1, 'recurred,': 2, 'answered': 6, 'groans.': 2, 'tended,': 1, 'indignation,': 2, 'delight,': 3, 'terminated': 1, 'protectors': 6, 'half-painful': 1, 'self-deceit,': 1, 'them).\"': 1, '14': 1, '\"Some': 1, 'unfolding': 1, 'circumstances,': 1, 'inexperienced': 1, 'De': 9, 'Lacey.': 1, 'France,': 1, 'affluence,': 1, 'superiors': 1, 'equals.': 1, 'bred': 1, 'service': 1, 'ranked': 1, 'ladies': 1, 'distinction.': 1, 'arrival': 6, 'luxurious': 1, 'city': 8, 'Paris,': 1, 'virtue,': 4, 'refinement': 1, 'intellect,': 2, 'taste,': 2, 'Turkish': 2, 'inhabited': 2, 'Paris': 4, 'obnoxious': 1, 'government.': 2, 'Constantinople': 1, 'flagrant;': 1, 'indignant;': 1, 'religion': 3, 'alleged': 1, 'condemnation.': 1, 'accidentally': 1, 'trial;': 1, 'uncontrollable': 2, 'decision': 1, 'made,': 1, 'vow': 4, 'means.': 1, 'fruitless': 1, 'gain': 8, 'admittance': 1, 'prison,': 3, 'grated': 1, 'building,': 1, 'dungeon': 3, 'Muhammadan,': 1, 'loaded': 2, 'chains,': 1, 'sentence.': 1, 'grate': 1, 'prisoner': 1, 'favour.': 1, 'amazed': 1, 'delighted,': 1, 'kindle': 1, 'deliverer': 3, 'reward': 5, 'wealth.': 1, 'rejected': 2, 'offers': 1, 'gestures': 3, 'gratitude,': 1, 'help': 5, 'owning': 1, 'captive': 1, 'treasure': 1, 'hazard.': 1, 'Turk': 7, 'safety.': 1, 'accept': 3, 'offer,': 1, 'probability': 3, '\"During': 1, 'preparations': 1, 'merchant,': 1, 'lover': 4, 'French.': 2, 'services': 1, 'parent,': 1, 'gently': 2, 'copies': 1, 'means,': 1, 'implements': 1, 'writing;': 1, 'declined,': 2, 'repeat': 1, '\"Safie': 2, 'Christian': 2, 'Arab,': 1, 'Turks;': 1, 'recommended': 1, 'enthusiastic': 4, 'freedom,': 1, 'spurned': 3, 'bondage': 1, 'reduced.': 1, 'tenets': 1, 'aspire': 1, 'higher': 2, 'intellect': 1, 'independence': 1, 'female': 5, 'followers': 1, 'Muhammad.': 1, 'indelibly': 1, 'sickened': 4, 'Asia': 1, 'immured': 2, 'harem,': 1, 'occupy': 3, 'infantile': 1, 'amusements,': 1, 'ill-suited': 1, 'emulation': 1, 'leagues': 2, 'Paris.': 4, 'passports': 1, 'former,': 1, 'deceit': 2, 'concealed': 5, 'fugitives': 1, 'Lyons': 1, 'Cenis': 1, 'Leghorn,': 2, 'dominions.': 1, 'deliverer;': 1, 'event;': 2, 'simplest': 2, 'tenderest': 2, 'interpreter,': 1, 'looks;': 1, 'intimacy': 1, 'youthful': 3, 'lovers,': 1, 'loathed': 2, 'Christian,': 1, 'resentment': 1, 'lukewarm,': 1, 'choose': 1, 'betray': 1, 'Italian': 2, 'plans': 5, 'prolong': 3, 'secretly': 1, 'departed.': 5, 'facilitated': 1, 'news': 4, 'government': 1, 'enraged': 2, 'detect': 1, 'punish': 2, 'deliverer.': 1, 'plot': 1, 'Lacey': 4, 'prison.': 3, 'noisome': 1, 'loved.': 2, 'boarder': 1, 'convent': 1, 'Leghorn;': 1, 'law,': 2, 'proceeding.': 1, 'exile': 2, 'Germany,': 1, 'treacherous': 1, 'unheard-of': 1, 'oppression,': 1, 'ruin,': 1, 'traitor': 1, 'insultingly': 1, 'sending': 1, 'maintenance.': 2, '\"Such': 2, 'distress': 3, 'meed': 1, 'gloried': 1, 'ingratitude': 2, 'infused': 1, 'Leghorn': 2, 'commanded': 2, 'outraged': 1, 'command;': 1, 'expostulate': 1, 'angrily,': 1, 'reiterating': 1, 'tyrannical': 1, 'mandate.': 1, \"daughter's\": 1, 'divulged': 1, 'French': 2, 'government;': 1, 'consequently': 1, 'Constantinople,': 1, 'confidential': 1, 'Leghorn.': 1, 'emergency.': 1, 'Turkey': 1, 'abhorrent': 1, 'alike': 3, 'averse': 2, 'learnt': 1, 'resided.': 3, 'Taking': 1, 'jewels': 2, 'belonged': 4, 'attendant,': 1, 'Turkey,': 1, 'Germany.': 1, 'Lacey,': 4, 'dangerously': 1, 'bound,': 2, 'lover.\"': 1, '15': 1, 'learned,': 1, 'views': 2, 'social': 1, 'developed,': 1, 'admire': 4, 'deprecate': 1, 'vices': 2, 'generosity': 1, 'inciting': 1, 'actor': 1, 'admirable': 3, 'displayed.': 1, 'omit': 1, 'year.': 1, 'protectors,': 2, 'leathern': 1, 'portmanteau': 1, 'containing': 1, 'articles': 1, 'books.': 2, 'prize': 1, 'Fortunately': 2, 'Paradise': 2, 'Lost,': 1, \"Plutarch's\": 2, 'Lives,': 1, 'Sorrows': 3, 'Werter.': 2, 'histories,': 1, 'occupations.': 1, 'infinity': 1, 'images': 4, 'ecstasy,': 1, 'sunk': 8, 'Werter,': 1, 'affecting': 2, 'opinions': 2, 'canvassed': 1, 'subjects': 2, 'never-ending': 1, 'source': 4, 'speculation': 1, 'astonishment.': 1, 'described,': 2, 'lofty': 4, 'self,': 1, 'bosom.': 2, 'Werter': 1, 'imagined;': 1, 'contained': 4, 'pretension,': 1, 'disquisitions': 1, 'suicide': 1, 'calculated': 1, 'hero,': 1, 'wept,': 1, 'precisely': 1, 'understanding': 3, 'read,': 1, 'personally': 1, 'similar': 1, 'listener.': 1, 'unformed': 1, 'none.': 1, \"'The\": 1, \"free,'\": 1, 'lament': 3, 'annihilation.': 1, 'gigantic.': 1, 'Whence': 1, 'come?': 2, 'destination?': 1, 'Lives': 1, 'histories': 1, 'founders': 1, 'republics.': 1, \"Werter's\": 1, 'imaginations': 2, 'despondency': 3, 'Plutarch': 1, 'thoughts;': 4, 'sphere': 1, 'Many': 2, 'surpassed': 1, 'experience.': 1, 'kingdoms,': 1, 'extents': 1, 'rivers,': 1, 'seas.': 1, 'towns': 3, 'assemblages': 1, 'school': 1, 'developed': 1, 'mightier': 1, 'action.': 3, 'concerned': 1, 'affairs,': 1, 'governing': 1, 'massacring': 1, 'vice,': 2, 'relative': 2, 'Induced': 1, 'peaceable': 1, 'lawgivers,': 1, 'Numa,': 1, 'Solon,': 1, 'Lycurgus,': 1, 'preference': 1, 'Romulus': 1, 'Theseus.': 1, 'patriarchal': 1, 'impressions': 1, 'humanity': 2, 'soldier,': 1, 'slaughter,': 1, 'Lost': 1, 'awe': 2, 'warring': 1, 'exciting.': 1, 'referred': 1, 'situations,': 1, 'similarity': 1, 'link': 2, 'existence;': 2, 'respect.': 1, 'prosperous,': 1, 'guarded': 2, 'especial': 2, 'Creator;': 1, 'Satan': 2, 'fitter': 1, 'emblem': 1, 'condition,': 1, 'bliss': 2, 'gall': 2, 'envy': 2, '\"Another': 1, 'strengthened': 1, 'decipher': 1, 'written,': 1, 'diligence.': 1, 'occurrences.': 1, 'papers.': 1, 'bears': 2, 'reference': 1, 'accursed': 2, 'origin;': 1, 'disgusting': 1, 'view;': 1, 'minutest': 1, 'given,': 1, 'indelible.': 1, 'read.': 1, \"'Hateful\": 1, \"life!'\": 1, \"'Accursed\": 1, 'creator!': 3, 'YOU': 5, 'disgust?': 1, 'pity,': 1, 'alluring,': 1, 'image;': 1, 'resemblance.': 1, 'devils,': 1, \"abhorred.'\": 1, 'solitude;': 1, 'dispositions,': 2, 'compassionate': 1, 'monstrous,': 1, 'friendship?': 1, 'least,': 1, 'interview': 1, 'decide': 2, 'postponed': 2, 'importance': 1, 'dread': 5, 'fail.': 1, \"day's\": 2, 'sagacity.': 1, 'changes,': 1, 'plenty': 1, 'reigned': 1, 'servants.': 1, 'rich,': 1, 'peaceful,': 1, 'tumultuous.': 1, 'Increase': 1, 'clearly': 1, 'outcast': 3, 'cherished': 2, 'moonshine,': 1, 'frail': 1, 'image': 4, 'inconstant': 2, 'fears': 5, 'fortify': 1, 'undergo;': 1, 'unchecked': 2, 'reason,': 2, 'Paradise,': 1, 'sympathizing': 2, 'cheering': 2, 'gloom;': 1, 'dream;': 3, 'Eve': 1, 'soothed': 5, \"Adam's\": 1, 'supplication': 1, 'Creator.': 1, 'mine?': 2, 'cursed': 6, '\"Autumn': 1, 'fall,': 1, 'assume': 1, 'barren': 2, 'moon.': 2, 'heed': 1, 'bleakness': 1, 'fitted': 3, 'conformation': 1, 'endurance': 1, 'heat.': 1, 'birds,': 2, 'summer;': 1, 'deserted': 4, 'decreased': 1, 'summer.': 1, 'another;': 1, 'joys,': 1, 'depending': 1, 'casualties': 1, 'kindness;': 2, 'yearned': 1, 'driven': 5, 'asked,': 2, 'rest:': 1, 'sympathy;': 1, 'unworthy': 2, 'advanced,': 2, 'revolution': 2, 'seasons': 2, 'awoke': 8, 'introducing': 1, 'finally': 2, 'sagacity': 1, 'hideousness': 1, 'mediation': 1, 'tolerated': 1, 'red': 1, 'denied': 1, 'departed,': 2, 'airs,': 1, 'thoughtfulness': 1, 'succeeded;': 1, 'length,': 2, 'laying': 2, 'absorbed': 2, 'quick;': 1, 'trial,': 1, 'realize': 1, 'fears.': 1, 'opportunity;': 1, 'plan,': 2, 'rose,': 1, 'exerting': 1, 'master,': 2, 'planks': 1, 'revived': 3, 'knocked.': 1, \"'Who\": 2, \"there?'\": 1, \"'Come\": 1, \"in.'\": 1, \"'Pardon\": 1, \"intrusion,'\": 1, 'I;': 4, 'oblige': 1, \"fire.'\": 1, '\"\\'Enter,\\'': 1, \"'and\": 1, 'wants;': 1, 'unfortunately,': 2, 'afraid': 1, \"you.'\": 1, '\"\\'Do': 3, 'host;': 1, \"need.'\": 1, 'ensued.': 1, 'irresolute': 1, 'interview,': 1, \"'By\": 1, 'countryman;': 1, \"French?'\": 1, '\"\\'No;': 1, \"hopes.'\": 1, '\"\\'Are': 1, \"Germans?'\": 1, '\"\\'No,': 1, \"forever.'\": 1, 'friendless': 2, 'unfortunate,': 2, 'unprejudiced': 2, 'self-interest,': 1, 'brotherly': 1, 'charity.': 1, 'Rely,': 1, 'hopes;': 1, \"despair.'\": 1, '\"\\'They': 1, 'kind—they': 1, 'dispositions;': 1, 'beneficial;': 1, 'prejudice': 2, 'clouds': 8, 'detestable': 2, \"monster.'\": 1, '\"\\'That': 1, 'unfortunate;': 2, 'blameless,': 1, 'undeceive': 1, \"them?'\": 1, '\"\\'I': 1, 'task;': 3, 'terrors.': 1, 'injure': 2, \"overcome.'\": 1, '\"\\'Where': 1, \"reside?'\": 1, '\"\\'Near': 1, \"spot.'\": 1, \"'If\": 1, 'unreservedly': 1, 'particulars': 3, 'undeceiving': 1, 'persuades': 1, 'sincere.': 1, 'exile,': 1, 'serviceable': 1, \"creature.'\": 1, '\"\\'Excellent': 1, 'offer.': 1, 'dust': 1, 'aid,': 2, \"creatures.'\": 1, '\"\\'Heaven': 1, 'forbid!': 1, 'criminal,': 3, 'desperation,': 1, 'instigate': 1, 'judge,': 1, \"misfortunes.'\": 1, '\"\\'How': 1, 'benefactor?': 1, 'grateful;': 1, 'assures': 1, \"meeting.'\": 1, '\"\\'May': 1, \"friends?'\": 1, 'paused.': 1, 'decision,': 1, 'strength;': 1, 'chair': 4, 'lose,': 1, 'seizing': 1, 'cried,': 4, \"'Now\": 1, 'protect': 2, 'seek.': 1, \"trial!'\": 1, '\"\\'Great': 1, \"God!'\": 1, \"you?'\": 1, '\"At': 2, 'consternation': 2, 'forward,': 2, 'force': 6, 'knees': 1, 'clung,': 1, 'transport': 1, 'fury,': 1, 'dashed': 2, 'stick.': 1, 'limb,': 1, 'lion': 1, 'rends': 1, 'antelope.': 1, 'refrained.': 1, 'repeating': 1, 'blow,': 1, 'unperceived': 1, 'hovel.\"': 1, '16': 1, '\"Cursed,': 1, 'live?': 4, 'Why,': 2, 'instant,': 1, 'wantonly': 1, 'bestowed?': 1, 'revenge.': 4, 'inhabitants': 5, 'glutted': 1, 'shrieks': 1, 'wood;': 1, 'howlings.': 1, 'beast': 3, 'toils,': 1, 'destroying': 4, 'ranging': 1, 'stag-like': 1, 'swiftness.': 1, 'passed!': 1, 'mockery,': 2, 'waved': 2, 'bird': 1, 'universal': 1, 'stillness.': 1, 'All,': 1, 'enjoyment;': 1, 'arch-fiend,': 1, 'unsympathized': 1, 'trees,': 2, 'havoc': 1, 'luxury': 2, 'endure;': 3, 'impotence': 2, 'myriads': 1, 'existed': 1, 'enemies?': 1, 'No;': 2, 'everlasting': 5, 'rose;': 2, 'voices': 3, 'Accordingly': 1, 'underwood,': 1, 'determining': 1, 'reflection': 4, 'tranquillity;': 1, 'believing': 2, 'conclusions.': 1, 'imprudently.': 1, 'behalf,': 1, 'fool': 1, 'familiarized': 1, 'approach.': 1, 'errors': 1, 'irretrievable,': 1, 'representations': 1, 'party.': 1, 'afternoon': 1, 'profound': 2, 'acting': 1, 'females': 1, 'flying': 2, 'tearing': 2, 'exhausted,': 4, 'hiding-place,': 2, 'food.': 2, 'appeased,': 1, 'arose.': 2, 'mounted': 2, 'heavens,': 4, 'appear.': 1, 'violently,': 1, 'apprehending': 1, 'dreadful': 10, 'inside': 1, 'motion;': 1, 'suspense.': 1, '\"Presently': 1, 'countrymen': 1, 'pausing': 1, 'using': 1, 'gesticulations;': 1, 'anxiously': 2, 'meaning': 2, 'appearances.': 1, \"consider,'\": 1, \"'that\": 1, \"months'\": 1, 'garden?': 1, 'advantage,': 1, \"determination.'\": 1, '\"\\'It': 1, \"useless,'\": 1, 'Felix;': 1, \"'we\": 1, 'inhabit': 4, 'danger,': 4, 'owing': 1, 'related.': 1, 'wife': 3, 'Take': 2, 'tenement': 1, \"place.'\": 1, 'this.': 3, 'stupid': 1, 'strive': 1, 'allowing': 1, 'stream,': 1, 'gush': 3, 'anger': 2, 'anger,': 2, 'fury': 3, 'objects.': 1, 'combustibles': 1, 'vestige': 1, 'cultivation': 1, 'impatience': 1, 'operations.': 1, 'loitered': 2, 'blast': 5, 'insanity': 2, 'danced': 1, 'western': 1, 'horizon,': 2, 'touched.': 1, 'hid,': 1, 'brand;': 1, 'sank,': 1, 'scream': 2, 'fired': 1, 'heath,': 1, 'bushes,': 1, 'collected.': 2, 'flames,': 1, 'licked': 1, 'forked': 1, 'tongues.': 1, 'assistance': 1, 'habitation,': 2, 'steps?': 1, 'misfortunes;': 1, 'horrible.': 1, 'creator;': 1, 'fitness': 1, 'geography': 2, 'omitted;': 1, 'countries': 2, 'myself?': 2, 'southwesterly': 1, 'direction': 4, 'destination,': 1, 'succour,': 1, 'hatred.': 3, 'Unfeeling,': 1, 'perceptions': 1, 'scorn': 2, 'redress,': 1, 'wore': 3, 'form.': 1, 'travels': 2, 'intense.': 1, 'autumn': 2, 'district': 1, 'visage': 2, 'decayed': 1, 'heatless;': 1, 'frozen;': 1, 'chill,': 1, 'shelter.': 1, 'imprecate': 1, 'curses': 1, 'being!': 2, 'enkindled': 1, 'Snow': 1, 'hardened,': 1, 'map': 1, 'respite;': 1, 'extract': 1, 'confines': 2, 'green,': 1, 'secured': 2, 'risen;': 2, 'balminess': 1, 'Half': 1, 'novelty': 1, 'sensations,': 4, 'forgetting': 1, 'deformity,': 2, 'Soft': 1, 'bedewed': 1, 'humid': 1, 'thankfulness': 1, 'boundary,': 1, 'skirted': 1, 'budding': 1, 'voices,': 1, 'cypress.': 1, 'running': 3, 'concealed,': 1, 'laughing,': 1, 'sport.': 1, 'precipitous': 1, 'slipped,': 1, 'stream.': 2, 'hiding-place': 2, 'current,': 1, 'dragged': 2, 'shore.': 2, 'senseless,': 1, 'playfully': 1, 'fled.': 2, 'speedily,': 1, 'near,': 2, 'aimed': 1, 'gun,': 1, 'carried,': 1, 'fired.': 1, 'injurer,': 1, 'swiftness,': 1, 'benevolence!': 1, 'destruction,': 3, 'bone.': 1, 'gnashing': 1, 'teeth.': 1, 'Inflamed': 1, 'vowed': 2, 'pulses': 1, '\"For': 3, 'weeks': 4, 'cure': 1, 'received.': 1, 'ball': 1, 'shoulder,': 1, 'through;': 1, 'rate': 1, 'extracting': 1, 'infliction.': 1, 'vows': 1, 'revenge—a': 1, 'compensate': 1, 'outrages': 1, '\"After': 2, 'healed,': 1, 'alleviated': 1, 'breezes': 2, 'spring;': 1, 'insulted': 1, 'desolate': 5, 'painfully': 1, 'meditate': 2, 'Jura.': 1, 'relieved': 2, 'chosen,': 1, 'sportiveness': 1, 'infancy.': 2, 'Suddenly,': 1, 'educate': 1, 'peopled': 1, '\"Urged': 1, 'impulse,': 1, 'shrill': 2, 'scream;': 1, \"'Child,\": 1, 'this?': 5, 'hurt': 1, \"me.'\": 3, 'violently.': 1, \"'Let\": 1, \"go,'\": 1, 'cried;': 2, \"'monster!\": 1, 'Ugly': 1, 'pieces.': 1, 'ogre.': 1, \"papa.'\": 1, '\"\\'Boy,': 1, 'again;': 2, '\"\\'Hideous': 1, 'go.': 1, 'papa': 1, 'syndic—he': 1, 'Frankenstein—he': 1, '\"\\'Frankenstein!': 1, 'belong': 1, 'enemy—to': 1, 'sworn': 2, 'revenge;': 1, \"victim.'\": 1, 'epithets': 1, 'triumph;': 2, 'clapping': 1, 'create': 8, 'invulnerable;': 1, 'miseries': 9, 'torment': 4, \"him.'\": 1, 'portrait': 3, 'woman.': 1, 'softened': 3, 'fringed': 2, 'lashes,': 1, 'lips;': 1, 'returned;': 2, 'resemblance': 1, 'affright.': 1, '\"Can': 1, 'transported': 4, 'rage?': 1, 'venting': 1, 'exclamations': 2, 'empty.': 1, 'sleeping': 3, 'straw;': 1, 'young,': 2, 'held,': 1, 'Here,': 1, 'joy-imparting': 1, 'whispered,': 1, \"'Awake,\": 1, 'fairest,': 1, 'near—he': 1, 'thine': 1, 'beloved,': 2, \"awake!'\": 1, 'sleeper': 1, 'stirred;': 1, 'thrill': 2, 'Should': 1, 'awake,': 1, 'denounce': 1, 'murderer?': 1, 'madness;': 1, 'stirred': 2, 'me—not': 1, 'suffer;': 1, 'robbed': 1, 'atone.': 1, 'punishment!': 1, 'Thanks': 1, 'sanguinary': 2, 'mischief.': 2, 'securely': 1, 'dress.': 1, 'haunted': 5, 'wishing': 2, 'ranged': 1, 'recesses,': 1, 'gratify.': 1, 'requisition.': 1, 'miserable;': 1, 'deny': 3, 'defects.': 1, 'create.\"': 1, '17': 1, 'finished': 1, 'reply.': 3, 'bewildered,': 2, 'perplexed,': 1, 'proposition.': 1, 'interchange': 2, 'sympathies': 3, 'refuse': 5, 'concede.\"': 1, 'kindled': 1, 'anew': 1, 'narrated': 1, 'burned': 3, 'it,\"': 1, 'replied;': 1, 'extort': 1, 'joint': 1, 'wickedness': 2, 'consent.\"': 2, 'wrong,\"': 1, 'fiend;': 2, 'threatening,': 1, 'malicious': 1, 'miserable.': 2, 'Am': 2, 'mankind?': 1, 'pieces': 2, 'pities': 1, 'precipitate': 2, 'ice-rifts': 1, 'condemns': 1, 'acceptance.': 1, 'insurmountable': 5, 'barriers': 1, 'submission': 1, 'slavery.': 1, 'injuries;': 1, 'arch-enemy,': 1, 'swear': 4, 'inextinguishable': 1, 'finish': 3, 'birth.\"': 1, 'fiendish': 6, 'contortions': 1, 'behold;': 1, 'proceeded—': 1, 'reason.': 1, 'detrimental': 1, 'excess.': 1, 'hundredfold;': 1, \"creature's\": 2, 'kind!': 2, 'realized.': 1, 'reasonable': 1, 'moderate;': 1, 'sex,': 1, 'small,': 1, 'receive,': 1, 'monsters,': 1, 'feel.': 2, 'benefit!': 1, 'thing;': 1, 'request!\"': 1, 'moved.': 1, 'consent,': 3, 'argument.': 1, 'maker': 1, 'portion': 5, 'bestow?': 1, 'wilds': 3, 'South': 1, 'America.': 1, 'lamb': 1, 'kid': 1, 'appetite;': 2, 'nourishment.': 2, 'fare.': 2, 'leaves;': 1, 'ripen': 1, 'wantonness': 1, 'cruelty.': 1, 'Pitiless': 1, 'desire.\"': 1, 'propose,\"': 1, 'beasts': 1, 'companions.': 2, 'persevere': 1, 'exile?': 1, 'detestation;': 1, 'renewed,': 1, 'argue': 1, 'point,': 1, 'feelings!': 1, 'representations,': 1, 'harden': 1, 'complaints?': 1, 'inhabit,': 3, 'dwell,': 1, 'chance,': 2, 'places.': 1, 'sympathy!': 1, 'maker.\"': 1, 'compassionated': 1, 'mass': 1, 'talked,': 1, 'stifle': 1, 'withhold': 1, 'bestow.': 2, 'swear,\"': 2, 'harmless;': 1, 'reasonably': 2, 'distrust': 1, 'feint': 1, 'triumph': 3, 'wider': 1, 'revenge?\"': 1, 'trifled': 1, 'portion;': 1, 'everyone': 1, 'ignorant.': 1, 'abhor,': 1, 'necessarily': 1, 'communion': 2, 'equal.': 1, 'linked': 1, 'chain': 2, 'excluded.\"': 1, 'employed.': 2, 'blight': 2, 'threats': 2, 'omitted': 1, 'calculations;': 1, 'exist': 4, 'ridges': 1, 'possessing': 1, 'faculties': 1, 'with.': 1, 'request.': 1, 'Turning': 2, 'demand,': 1, 'oath': 1, 'Europe': 2, 'forever,': 4, 'exile.\"': 1, '\"by': 1, 'burns': 1, 'prayer,': 1, 'Depart': 1, 'unutterable': 1, 'anxiety;': 1, 'appear.\"': 1, 'Saying': 2, 'sentiments.': 1, 'descend': 3, 'undulations': 1, 'verge': 1, 'valley,': 1, 'heavy,': 1, 'slow.': 1, 'winding': 1, 'fixing': 3, 'perplexed': 1, 'produced.': 1, 'halfway': 1, 'resting-place': 1, 'fountain.': 1, 'intervals': 1, 'ground;': 1, '\"Oh!': 3, 'Stars': 1, 'memory;': 1, 'nought;': 1, 'depart,': 3, 'darkness.\"': 1, 'twinkling': 1, 'siroc': 1, 'consume': 3, 'Morning': 1, 'Chamounix;': 1, 'sensations—they': 1, \"mountain's\": 1, 'haggard': 1, 'ban—as': 1, 'sympathies—as': 1, 'companionship': 1, 'adoration;': 1, 'dedicate': 1, 'task.': 2, 'dream,': 5, '18': 1, 'week,': 2, 'collect': 4, 'work.': 3, 'disappointed': 1, 'fiend,': 2, 'enjoined': 2, 'devoting': 1, 'disquisition.': 1, 'philosopher,': 1, 'material': 1, 'obtaining': 3, 'purpose;': 1, 'shrank': 1, 'absolute': 1, 'restored;': 1, 'proportionably.': 1, 'eradicating': 1, 'fits,': 1, 'devouring': 3, 'blackness': 1, 'overcast': 1, 'sunshine.': 1, 'rippling': 1, 'waves,': 2, 'listless.': 1, 'seldom': 5, 'composure,': 1, 'salutations': 1, 'readier': 1, 'calling': 2, 'aside,': 1, 'resumed': 2, 'society.': 2, 'founded,': 1, 'conjure': 4, 'avow': 1, 'Reserve': 1, 'useless,': 1, 'treble': 1, 'exordium,': 1, 'continued—\"I': 1, 'tie': 1, 'stay': 2, 'declining': 1, 'infancy;': 1, 'appeared,': 2, 'tastes,': 1, 'suited': 1, 'assistants': 1, 'Nay,': 4, 'considering': 1, 'sincerely.': 1, 'excited,': 1, 'does,': 1, 'prospects': 1, 'union.\"': 1, 'experienced.': 1, 'dissipate.': 2, 'Tell': 2, 'solemnization': 2, 'marriage.': 2, 'everyday': 1, 'infirmities.': 1, 'younger;': 1, 'competent': 1, 'utility': 3, 'formed.': 2, 'dictate': 2, 'uneasiness.': 1, 'Interpret': 1, 'candour': 1, 'sincerity.\"': 1, 'offering': 2, 'dismay.': 1, 'break,': 1, 'manifold': 1, 'impend': 1, 'family!': 1, 'festival': 1, 'bowing': 1, 'ground?': 1, 'engagement': 1, 'mate': 2, 'imposed': 1, 'journeying': 2, 'indispensable': 1, 'dilatory': 1, 'unsatisfactory;': 1, 'aversion': 1, 'engaging': 1, 'occur,': 1, 'aware': 1, 'self-command,': 1, 'hiding': 1, 'Once': 3, 'achieved,': 1, 'fulfilled,': 1, '(so': 1, 'imaged)': 1, 'dictated': 1, 'reasons': 1, 'request,': 2, 'clothed': 1, 'guise': 1, 'suspicion,': 1, 'earnestness': 2, 'comply.': 1, 'absorbing': 1, 'resembled': 1, 'intensity': 2, 'effects,': 1, 'duration': 1, 'choice;': 1, 'year,': 1, 'contemplated.': 1, 'paternal': 1, 'precaution': 3, 'ensure': 2, 'Without': 1, 'concert': 1, 'Strasbourg.': 1, 'interfered': 1, 'coveted': 1, 'prosecution': 1, 'impediment,': 1, 'lonely,': 1, 'maddening': 2, 'intrusion': 1, 'foe.': 1, 'progress?': 1, 'delay.': 1, 'toils—one': 1, 'sufferings;': 1, 'enfranchised': 1, 'slavery,': 1, 'arrangements': 1, 'unconscious': 1, 'attacks,': 1, 'exasperated': 2, 'wherever': 2, 'England?': 1, 'inasmuch': 1, 'agonized': 1, 'possibility': 1, 'happen.': 1, 'governed': 1, 'moment;': 1, 'intimated': 1, 'exempt': 1, 'machinations.': 2, 'September': 6, 'suggestion,': 1, 'acquiesced,': 1, 'disquiet': 1, 'inroads': 1, 'grief.': 2, 'Clerval—and': 1, 'sedulous': 1, 'return;': 1, 'conflicting': 1, 'mute': 1, 'tearful,': 1, 'farewell.': 1, 'going,': 1, 'careless': 1, 'around.': 1, 'only,': 1, 'packed': 2, 'Filled': 1, 'imaginations,': 1, 'unobserving.': 1, 'bourne': 1, 'listless': 1, 'indolence,': 1, 'leagues,': 1, 'Strasbourg,': 2, 'us!': 1, 'joyful': 1, 'pointed': 3, 'shifting': 1, 'colours': 2, 'landscape': 1, 'live,\"': 1, 'existence!': 2, 'wherefore': 2, 'desponding': 2, 'sorrowful!\"': 1, 'star': 1, 'golden': 1, 'sunrise': 1, 'Rhine.': 1, 'amused': 1, 'scenery': 3, 'avenue': 1, 'enjoyment.': 2, 'agreed': 5, 'Rhine': 3, 'Strasbourg': 1, 'Rotterdam,': 2, 'whence': 2, 'shipping': 1, 'London.': 1, 'willowy': 1, 'islands': 4, 'towns.': 1, 'Mannheim,': 1, 'fifth': 1, 'Mainz.': 1, 'below': 1, 'Mainz': 1, 'becomes': 2, 'picturesque.': 1, 'hills,': 2, 'steep,': 1, 'forms.': 1, 'standing': 2, 'edges': 1, 'precipices,': 2, 'inaccessible.': 1, 'Rhine,': 2, 'variegated': 1, 'landscape.': 2, 'overlooking': 1, 'promontory,': 1, 'vineyards': 1, 'sloping': 2, 'meandering': 1, 'populous': 1, 'vintage': 1, 'song': 1, 'labourers': 2, 'glided': 1, 'cloudless': 1, 'fairy-land': 1, 'seen,\"': 1, 'lakes': 3, 'Lucerne': 1, 'Uri,': 1, 'perpendicularly': 1, 'casting': 1, 'shades,': 1, 'appearance;': 1, 'water-spout': 1, 'mountain,': 3, 'priest': 1, 'amid': 1, 'pauses': 1, 'nightly': 1, 'La': 1, 'Valais,': 1, 'Pays': 1, 'de': 1, 'Vaud;': 1, 'pleases': 1, 'wonders.': 1, 'Switzerland': 4, 'charm': 2, 'Look': 2, 'castle': 2, 'yon': 1, 'precipice;': 1, 'amongst': 1, 'foliage': 1, 'trees;': 1, 'group': 1, 'vines;': 1, 'inhabits': 1, 'guards': 1, 'retire': 2, 'country.\"': 1, 'eminently': 1, 'deserving.': 1, '\"very': 1, 'nature.\"': 1, 'chastened': 1, 'world-minded': 1, 'teach': 1, 'satisfy': 6, 'external': 1, 'admiration,': 1, 'ardour:—': 1, '——The': 1, 'sounding': 1, 'cataract': 1, 'Haunted': 1, 'passion:': 1, 'remoter': 1, 'charm,': 1, 'supplied,': 1, \"Unborrow'd\": 1, \"[Wordsworth's\": 1, '\"Tintern': 1, 'Abbey\".]': 1, 'exist?': 1, 'forever?': 1, 'Has': 1, 'replete': 3, 'ideas,': 1, 'fanciful': 1, 'creator;—has': 1, 'perished?': 1, 'Does': 1, 'memory?': 1, 'No,': 1, 'thus;': 2, 'divinely': 1, 'wrought,': 1, 'decayed,': 1, 'Pardon': 1, 'sorrow;': 1, 'unexampled': 1, 'worth': 3, 'soothe': 4, 'overflowing': 2, 'creates.': 1, 'Beyond': 1, 'Cologne': 1, 'Holland;': 1, 'arising': 1, 'scenery,': 1, 'December,': 1, 'cliffs': 1, 'Britain.': 1, 'Thames': 1, 'scene;': 1, 'flat': 1, 'fertile,': 1, 'Tilbury': 1, 'Fort': 1, 'Spanish': 1, 'Armada,': 1, 'Gravesend,': 1, 'Woolwich,': 1, 'Greenwich—places': 1, 'steeples': 1, \"Paul's\": 1, 'towering': 1, 'Tower': 1, 'famed': 1, '19': 1, 'London': 4, 'flourished': 1, 'object;': 1, 'availed': 1, 'philosophers.': 1, 'terribly': 2, 'profound.': 1, 'Company': 1, 'earth;': 2, 'cheat': 2, 'busy,': 2, 'uninteresting,': 1, 'barrier': 4, 'men;': 1, 'sealed': 1, 'instruction.': 1, 'India,': 1, 'society,': 3, 'materially': 1, 'assisting': 1, 'European': 1, 'colonization': 1, 'trade.': 1, 'Britain': 1, 'further': 1, 'plan.': 1, 'check': 1, 'enjoyments': 1, 'dejected': 1, 'debar': 1, 'refused': 1, 'alleging': 1, 'engagement,': 1, 'drops': 3, 'allusion': 1, 'quiver,': 1, 'palpitate.': 1, 'Scotland': 3, 'visitor': 1, 'allurements': 1, 'Perth,': 3, 'invitation,': 1, 'streams': 2, 'adorns': 1, 'dwelling-places.': 1, 'October,': 1, 'February.': 1, 'expiration': 2, 'Edinburgh,': 2, 'Windsor,': 2, 'Oxford,': 3, 'Matlock,': 3, 'Cumberland': 3, 'lakes,': 2, 'July.': 1, 'collected,': 1, 'highlands': 2, 'Scotland.': 2, '27th': 1, 'rambling': 2, 'mountaineers;': 1, 'oaks,': 1, 'game,': 1, 'herds': 1, 'novelties': 1, 'Oxford.': 1, 'transacted': 1, 'century': 1, 'Charles': 1, 'I.': 1, 'forces.': 1, 'faithful': 1, 'nation': 1, 'forsaken': 1, 'standard': 1, 'Parliament': 1, 'liberty.': 1, 'Falkland,': 1, 'insolent': 1, 'Goring,': 1, 'queen,': 1, 'footsteps.': 1, 'gratification,': 1, 'colleges': 1, 'picturesque;': 1, 'magnificent;': 1, 'Isis,': 1, 'flows': 1, 'meadows': 2, 'verdure,': 1, 'expanse': 2, 'waters,': 3, 'reflects': 1, 'assemblage': 2, 'towers,': 1, 'spires,': 1, 'domes,': 1, 'embosomed': 1, 'embittered': 1, 'anticipation': 1, 'future.': 1, 'discontent': 1, 'ennui,': 1, 'elasticity': 1, 'tree;': 1, 'bolt': 2, 'soul;': 1, 'be—a': 1, 'spectacle': 1, 'pitiable': 1, 'identify': 1, 'animating': 1, 'successive': 1, 'tomb': 2, 'illustrious': 2, 'Hampden': 1, 'patriot': 1, 'fell.': 1, 'debasing': 1, 'self': 1, 'monuments': 1, 'remembrancers.': 1, 'chains': 2, 'iron': 1, 'eaten': 1, 'flesh,': 1, 'hopeless,': 2, 'Oxford': 1, 'resembled,': 1, 'Switzerland;': 2, 'scale,': 1, 'cave': 1, 'cabinets': 1, 'curiosities': 1, 'collections': 1, 'Servox': 1, 'tremble': 1, 'associated.': 1, 'Derby,': 1, 'northwards,': 1, 'Westmorland.': 1, 'patches': 1, 'rocky': 2, 'acquaintances,': 1, 'talent,': 1, 'capacities': 1, 'inferiors.': 1, 'here,\"': 1, 'Rhine.\"': 1, \"traveller's\": 1, 'includes': 1, 'enjoyments.': 1, 'stretch;': 1, 'begins': 1, 'finds': 1, 'rests': 1, 'engages': 1, 'forsakes': 1, 'novelties.': 1, 'Westmorland': 1, 'appointment': 1, 'Scotch': 2, 'on.': 2, 'sorry.': 1, \"daemon's\": 1, 'relatives.': 1, 'snatched': 4, 'feverish': 4, 'impatience;': 1, 'fears;': 2, 'superscription': 1, 'ascertain': 1, 'expedite': 1, 'remissness': 1, 'murdering': 1, 'shadow,': 3, 'fancied': 1, 'destroyer.': 2, 'Edinburgh': 2, 'languid': 2, 'antiquity': 1, 'pleasing': 1, 'regularity': 1, 'environs,': 1, \"Arthur's\": 1, 'Seat,': 1, \"Bernard's\": 1, 'Pentland': 1, 'Hills': 1, 'cheerfulness': 1, 'termination': 1, 'Coupar,': 1, \"Andrew's,\": 1, 'Tay,': 1, 'humour': 1, 'guest;': 1, '\"enjoy': 1, 'rendezvous.': 1, 'two;': 1, 'motions,': 1, 'congenial': 1, 'temper.\"': 1, 'dissuade': 1, 'remonstrate.': 1, 'often.': 1, '\"in': 1, 'rambles,': 1, 'hasten,': 1, 'absence.\"': 1, 'parted': 1, 'remotest': 1, 'Orkneys': 1, 'beaten': 2, 'waves.': 3, 'soil': 1, 'barren,': 1, 'pasture': 1, 'cows,': 1, 'oatmeal': 1, 'persons,': 2, 'gaunt': 1, 'scraggy': 1, 'tokens': 1, 'Vegetables': 1, 'luxuries,': 1, 'mainland,': 1, 'distant.': 1, 'island': 3, 'vacant': 1, 'hired.': 1, 'rooms,': 1, 'squalidness': 2, 'penury.': 1, 'thatch': 1, 'unplastered,': 1, 'hinges.': 1, 'ordered': 2, 'repaired,': 1, 'furniture,': 1, 'possession,': 1, 'occasioned': 2, 'benumbed': 1, 'ungazed': 1, 'unmolested,': 1, 'clothes': 2, 'gave,': 1, 'coarsest': 1, 'labour;': 1, 'evening,': 1, 'permitted,': 1, 'beach': 3, 'roared': 2, 'monotonous': 1, 'ever-changing': 1, 'vines,': 1, 'thickly': 1, 'plains.': 1, 'roarings': 2, 'giant': 1, 'ocean.': 2, 'distributed': 1, 'toiled': 1, 'engaged.': 2, 'experiment,': 1, 'frenzy': 3, 'blinded': 2, 'employment;': 1, 'intently': 1, 'proceedings.': 1, 'blood,': 5, 'situated,': 2, 'immersed': 1, 'unequal;': 1, 'nervous.': 1, 'persecutor.': 2, 'behold.': 2, 'tremulous': 1, 'intermixed': 1, 'forebodings': 1, 'sicken': 1, '20': 1, 'laboratory;': 1, 'sea;': 4, 'idle,': 1, 'conclusion': 2, 'sat,': 1, 'Three': 1, 'remorse.': 2, 'ignorant;': 1, 'malignant': 2, 'deserts,': 2, 'compact': 1, 'other;': 1, 'provocation': 1, 'deserts': 3, 'daemon': 9, 'propagated': 1, 'precarious': 2, 'terror.': 3, 'right,': 2, 'benefit,': 1, 'generations?': 1, 'sophisms': 1, 'created;': 1, 'senseless': 3, 'threats;': 1, 'pest,': 1, 'selfishness': 3, 'buy': 1, 'price,': 1, 'casement.': 1, 'ghastly': 3, 'fulfilling': 1, 'allotted': 1, 'Yes,': 2, 'forests,': 1, 'caves,': 1, 'heaths;': 1, 'mark': 6, 'promise.': 1, 'treachery.': 1, 'creating': 2, 'passion,': 1, 'howl': 1, 'devilish': 1, 'withdrew.': 1, 'locking': 1, 'resume': 1, 'apartment.': 1, 'alone;': 1, 'sickening': 3, 'oppression': 1, 'reveries.': 1, 'motionless,': 2, 'reposed': 1, 'quiet': 3, 'fishing': 3, 'vessels': 3, 'specked': 1, 'fishermen': 2, 'silence,': 2, 'conscious': 3, 'profundity,': 1, 'arrested': 1, 'paddling': 1, 'oars': 1, 'shore,': 6, 'landed': 1, 'creaking': 1, 'softly.': 1, 'foot;': 1, 'presentiment': 2, 'rouse': 2, 'dwelt': 2, 'helplessness,': 1, 'dreams,': 1, 'rooted': 1, 'spot.': 3, 'footsteps': 1, 'passage;': 1, 'Shutting': 1, 'smothered': 1, 'began;': 1, 'intend?': 1, 'promise?': 1, 'willow': 1, 'heaths': 1, 'incalculable': 1, 'hunger;': 1, 'hopes?\"': 1, 'promise;': 1, 'wickedness.\"': 1, '\"Slave,': 1, 'reasoned': 1, 'condescension.': 1, 'hateful': 2, 'master;': 1, 'obey!\"': 1, 'irresolution': 1, 'past,': 1, 'wickedness;': 1, 'vice.': 1, 'cool': 1, 'firm,': 1, 'exasperate': 1, 'rage.\"': 1, 'anger.': 1, '\"Shall': 1, 'man,\"': 1, '\"find': 1, 'mate,': 1, 'requited': 1, 'scorn.': 1, 'Man!': 1, 'hate,': 1, 'beware!': 1, 'ravish': 1, 'Are': 2, 'grovel': 1, 'passions,': 2, 'remains—revenge,': 1, 'henceforth': 1, 'food!': 1, 'tyrant': 1, 'tormentor,': 1, 'gazes': 1, 'Beware,': 1, 'fearless': 1, 'powerful.': 1, 'wiliness': 1, 'snake,': 1, 'venom.': 1, 'Man,': 1, 'repent': 1, 'injuries': 1, 'inflict.\"': 1, '\"Devil,': 1, 'cease;': 1, 'malice.': 3, 'coward': 1, 'Leave': 1, 'inexorable.\"': 1, 'well.': 1, 'go;': 1, 'wedding-night.\"': 1, '\"Villain!': 1, 'sign': 2, 'death-warrant,': 1, 'safe.\"': 1, 'precipitation.': 1, 'shot': 1, 'arrowy': 1, 'swiftness': 2, 'silent,': 2, 'ears.': 2, 'perturbed,': 1, 'conjured': 2, 'strife?': 1, 'mainland.': 1, 'sacrificed': 2, 'insatiate': 1, 'words—\"I': 1, 'WILL': 2, 'BE': 4, 'WITH': 4, 'ON': 4, 'YOUR': 3, 'WEDDING-NIGHT.\"': 1, 'That,': 1, 'fear;': 1, 'endless': 2, 'barbarously': 1, 'streamed': 2, 'struggle.': 1, 'calmer,': 1, 'sinks': 2, 'depths': 1, \"night's\": 1, 'contention,': 1, 'insuperable': 1, 'fact': 1, 'wearily,': 1, 'uninterrupted': 1, 'grasp': 5, 'isle': 2, 'spectre,': 1, 'separation.': 1, 'overpowered': 1, 'awake': 1, 'inflamed': 1, 'composure;': 2, 'ears': 2, 'death-knell;': 1, 'reality.': 2, 'satisfying': 1, 'appetite,': 1, 'ravenous,': 1, 'oaten': 1, 'cake,': 1, 'fishing-boat': 1, 'packet;': 1, 'entreating': 1, 'wearing': 1, 'fruitlessly': 1, 'negotiation': 1, 'Indian': 1, 'departure;': 1, 'spare.': 1, 'besought': 1, 'southwards': 1, 'perform,': 1, 'reflect;': 1, 'pack': 1, 'handle': 1, 'utensils': 2, 'daybreak,': 1, 'summoned': 1, 'unlocked': 1, 'half-finished': 1, 'mangled': 1, 'relics': 1, 'peasants;': 1, 'basket,': 1, 'stones,': 1, 'beach,': 1, 'cleaning': 1, 'apparatus.': 1, 'consequences,': 1, 'fulfilled;': 1, 'film': 2, 'clearly.': 1, 'renewing': 1, 'threat': 6, 'voluntary': 2, 'basest': 1, 'atrocious': 1, 'selfishness,': 1, 'Between': 1, 'basket': 2, 'aboard': 1, 'skiff,': 1, 'sailed': 4, 'solitary;': 1, 'boats': 1, 'commission': 2, 'avoided': 3, 'shuddering': 2, 'clear,': 1, 'overspread': 1, 'gurgling': 1, 'pure,': 1, 'northeast': 2, 'rudder': 1, 'position,': 1, 'boat.': 1, 'Clouds': 1, 'obscure,': 1, 'keel': 1, 'waves;': 1, 'lulled': 2, 'soundly.': 1, 'considerably.': 1, 'skiff.': 1, 'coast': 1, 'embarked.': 1, 'wind.': 1, 'compass': 1, 'slenderly': 1, 'Atlantic': 1, 'starvation': 2, 'immeasurable': 1, 'buffeted': 1, 'prelude': 1, 'sufferings.': 3, 'flew': 1, 'wind,': 3, 'others;': 1, 'grave.': 1, '\"Fiend,\"': 1, 'fulfilled!\"': 1, 'Clerval—all': 1, 'behind,': 1, 'merciless': 1, 'reverie': 1, 'despairing': 1, 'closing': 1, 'breakers.': 1, 'swell;': 1, 'rudder,': 1, 'line': 1, 'Almost': 1, 'suspense': 2, 'flood': 1, 'mutable': 2, 'clinging': 1, 'misery!': 1, 'steered': 1, 'land.': 2, 'civilized': 1, 'traced': 1, 'windings': 2, 'hailed': 4, 'issuing': 1, 'promontory.': 1, 'debility,': 1, 'directly': 1, 'harbour,': 2, 'sails,': 1, 'assistance,': 1, 'alarm.': 1, 'friends,\"': 1, 'am?\"': 1, 'enough,\"': 1, 'hoarse': 1, '\"Maybe': 1, 'quarters,': 1, 'you.\"': 2, 'disconcerted': 1, 'frowning': 1, 'angry': 2, 'roughly?\"': 1, 'replied.': 2, '\"Surely': 1, 'custom': 4, 'Englishmen': 1, 'inhospitably.\"': 1, '\"what': 1, 'Irish': 2, 'villains.\"': 1, 'dialogue': 1, 'increase.': 1, 'annoyed': 1, 'inn,': 1, 'murmuring': 1, 'ill-looking': 1, 'shoulder': 1, 'Mr.': 13, \"Kirwin's\": 1, 'yourself.\"': 1, '\"Who': 1, 'Kirwin?': 1, 'country?\"': 1, '\"Ay,': 1, 'honest': 1, 'folks.': 1, 'Kirwin': 10, 'magistrate,': 5, 'gentleman': 2, 'night.\"': 1, 'conductor': 1, 'crowd,': 1, 'politic': 1, 'debility': 1, 'construed': 1, 'apprehension': 2, 'Little': 1, 'calamity': 1, 'requires': 4, 'recall': 1, 'relate,': 1, 'proper': 2, 'detail,': 1, '21': 1, 'manners.': 1, 'severity,': 1, 'conductors,': 1, 'occasion.': 1, 'dozen': 2, 'deposed': 2, 'brother-in-law,': 1, 'Daniel': 3, 'Nugent,': 1, 'northerly': 1, 'rising,': 1, 'port.': 1, 'creek': 1, 'below.': 1, 'carrying': 1, 'tackle,': 1, 'distance.': 2, 'proceeding': 1, 'sands,': 1, 'lantern': 1, 'dead.': 1, 'supposition': 1, 'drowned': 1, 'examination': 1, 'cold.': 2, 'endeavoured,': 2, 'handsome': 1, 'strangled,': 1, 'fingers': 3, 'deposition': 2, 'agitated;': 1, 'trembled,': 1, 'magistrate': 6, 'unfavourable': 1, 'augury': 1, 'Nugent': 1, 'swore': 1, 'positively': 1, 'shore;': 1, 'stars,': 1, 'landed.': 1, 'fishermen,': 1, 'push': 1, 'rubbed': 1, 'apothecary,': 1, 'gone.': 2, 'arisen': 1, 'likely': 1, 'harbour': 1, '——': 1, 'deposited': 1, 'Kirwin,': 1, 'interment,': 1, 'suggested': 2, 'described.': 1, 'conducted,': 1, 'coincidences': 1, 'eventful': 1, 'persons': 2, 'affair.': 1, 'coffin.': 1, 'it?': 1, 'parched': 3, 'examination,': 1, 'gasped': 1, 'breath,': 1, 'murderous': 2, 'machinations': 1, 'destroyed;': 1, 'await': 2, 'benefactor—\"': 1, 'agonies': 4, 'convulsions.': 1, 'ravings,': 1, 'frightful;': 1, 'William,': 5, 'tormented;': 1, 'grasping': 1, 'screamed': 1, 'aloud': 1, 'Fortunately,': 1, 'cries': 2, 'affright': 1, 'witnesses.': 1, 'die?': 1, 'More': 2, 'forgetfulness': 1, 'rest?': 1, 'Death': 1, 'snatches': 1, 'parents;': 1, 'brides': 1, 'lovers': 1, 'prey': 2, 'worms': 1, 'tomb!': 1, 'resist': 1, 'shocks,': 1, 'wheel,': 1, 'torture?': 1, 'awaking': 1, 'bed,': 6, 'jailers,': 1, 'turnkeys,': 2, 'bolts,': 1, 'dungeon.': 2, 'understanding;': 1, 'barred': 3, 'flashed': 1, 'groaned': 1, 'bad': 1, 'characterize': 1, 'class.': 1, 'indifference;': 1, '\"Are': 3, 'sir?\"': 1, 'feeble': 2, 'am;': 1, 'horror.\"': 1, 'matter,\"': 1, '\"if': 1, 'However,': 2, \"that's\": 1, 'business;': 1, 'safe': 2, 'conscience;': 1, 'everybody': 1, 'same.\"': 1, 'floated': 1, 'feverish;': 1, 'physician': 2, 'prescribed': 1, 'medicines,': 1, 'second.': 1, 'hangman': 1, 'fee?': 1, '(wretched': 1, 'best);': 1, 'intervals.': 1, 'recovering,': 1, 'chair,': 1, 'cheeks': 2, 'declare': 3, 'penalty': 1, 'compassion;': 1, 'French,': 1, 'shocking': 1, 'comfortable?\"': 1, 'receiving.\"': 1, 'charge.\"': 1, 'concern;': 1, 'mortals.': 1, 'Persecuted': 1, 'me?\"': 2, '\"Nothing': 1, 'agonizing': 2, 'chances': 1, 'occurred.': 1, 'thrown,': 1, 'surprising': 1, 'accident,': 1, 'renowned': 1, 'hospitality,': 1, 'immediately,': 1, 'unaccountable': 1, 'placed,': 1, 'path.\"': 1, 'retrospect': 1, 'sufferings,': 1, '\"Immediately': 1, 'send': 2, 'illness.': 1, 'tremble;': 1, 'kind.\"': 1, 'acted,': 1, 'lament?\"': 1, 'well,\"': 1, 'gentleness;': 1, 'someone,': 1, 'taunt': 1, 'incitement': 1, 'desires.': 2, 'away!': 1, 'enter!\"': 1, 'exclamation': 2, 'guilt': 2, 'tone,': 1, 'inspiring': 1, 'repugnance.\"': 1, 'father!\"': 1, 'feature': 2, 'muscle': 2, 'relaxed': 2, 'momentary': 2, 'delirium,': 2, 'benevolence.': 1, 'Nothing,': 1, 'Elizabeth—and': 1, 'assurances': 1, 'abode': 1, 'cheerfulness.': 1, 'son!\"': 1, 'mournfully': 1, 'Clerval—\"': 1, 'state;': 1, '\"Alas!': 4, 'father,\"': 2, '\"some': 1, 'hangs': 1, 'fulfil': 7, 'Henry.\"': 1, 'insisted': 1, 'exhausted': 2, 'relapse.': 1, 'destiny,': 2, 'close.': 1, 'Soon,': 1, 'oh,': 1, 'throbbings': 1, 'dust;': 1, 'executing': 1, 'award': 1, 'distant,': 2, 'speechless,': 1, 'bury': 1, 'ruins.': 1, 'assizes': 1, 'approached.': 1, 'relapse,': 1, 'held.': 1, 'disgrace': 2, 'appearing': 1, 'publicly': 1, 'decides': 1, 'jury': 1, 'bill,': 1, 'Orkney': 1, 'Islands': 1, 'found;': 1, 'removal': 1, 'liberated': 1, 'vexations': 1, 'palace': 1, 'hateful.': 2, 'poisoned': 2, 'dense': 1, 'glared': 1, 'languishing': 1, 'orbs': 1, 'lids': 1, 'lashes': 1, 'watery,': 1, 'visit,': 1, 'groans': 3, 'longed,': 1, 'maladie': 1, 'du': 1, 'pays,': 1, 'Rhone,': 2, 'childhood;': 1, 'torpor': 1, 'divinest': 1, 'fits': 1, 'paroxysms': 1, 'loathed,': 1, 'unceasing': 1, 'attendance': 1, 'vigilance': 1, 'committing': 1, 'violence.': 1, 'concealment,': 1, 'presence,': 2, 'might,': 1, 'unfailing': 1, 'aim,': 1, 'monstrous': 1, 'monstrous.': 1, 'fatigues': 1, 'wreck—the': 1, 'skeleton,': 1, 'Ireland': 3, 'inquietude': 1, 'impatience,': 1, 'yield.': 1, 'Havre-de-Grace': 1, 'shores.': 1, 'midnight.': 1, 'blew': 1, 'Ireland,': 1, 'repassed,': 1, 'life—my': 1, 'residing': 1, 'remembered,': 1, 'shuddering,': 1, 'lived.': 1, 'thought;': 1, 'laudanum,': 1, 'drug': 1, 'Oppressed': 1, 'profoundly.': 1, 'scared': 2, 'Towards': 1, 'nightmare;': 1, \"fiend's\": 2, 'restlessness,': 1, 'around,': 1, 'above,': 1, 'here:': 1, 'security,': 1, 'truce': 1, 'established': 1, 'irresistible,': 1, 'disastrous': 1, 'imparted': 1, 'forgetfulness,': 1, 'susceptible.': 1, '22': 1, 'landed,': 3, 'overtaxed': 1, 'indefatigable,': 1, 'erroneous': 1, 'methods': 1, 'remedy': 1, 'incurable': 1, 'abhorred!': 1, 'brethren,': 1, 'beings,': 2, 'intercourse.': 1, 'unchained': 1, 'revel': 1, 'hunt': 1, 'acts': 1, 'degradation': 1, 'futility': 1, 'pride.': 2, 'Human': 1, 'charge;': 1, 'this—I': 1, 'Henry—they': 1, 'imprisonment,': 1, 'assertion;': 1, 'explanation,': 1, 'offspring': 2, 'preserved': 2, 'maintained': 1, 'persuasion': 1, 'mad,': 3, 'tongue.': 1, 'hearer': 1, 'inmates': 1, 'checked,': 1, 'confided': 1, 'still,': 1, 'uncontrollably': 1, 'burden': 1, 'infatuation': 1, 'assertion': 1, 'again.\"': 1, 'mad,\"': 1, 'energetically;': 1, 'operations,': 1, 'assassin': 1, 'victims;': 1, 'drop,': 1, 'lives;': 1, 'race.\"': 1, 'deranged,': 1, 'thoughts.': 1, 'obliterate': 1, 'alluded': 1, 'incoherent': 2, 'crimes;': 1, 'self-violence': 1, 'curbed': 1, 'imperious': 1, 'wretchedness,': 1, 'Friend,': 1, 'Paris;': 1, 'formidable': 1, 'fortnight.': 1, 'suffered!': 1, 'miserably,': 1, 'suspense;': 1, '\"Yet': 3, 'period,': 1, 'weigh': 1, 'Explanation!': 1, 'explain?': 1, 'doubts': 1, 'explanation;': 1, 'postpone': 1, 'writing': 2, 'what,': 2, 'absence,': 1, 'begin.': 1, 'place.': 1, 'playfellows': 1, 'older.': 1, 'entertain': 1, 'desiring': 2, 'union,': 2, 'case?': 1, 'Victor.': 1, 'Answer': 1, 'truth—Do': 1, 'another?': 1, 'travelled;': 1, 'opposed': 1, 'reasoning.': 1, 'airy': 2, 'futurity': 1, 'eternally': 1, 'choice.': 1, 'cruellest': 1, 'stifle,': 1, \"'honour,'\": 1, 'disinterested': 1, 'tenfold': 1, 'obstacle': 1, 'wishes.': 1, 'sincere': 1, 'supposition.': 1, 'obey': 1, 'tomorrow,': 1, 'come,': 1, 'meet,': 1, '18th,': 1, '17—\"': 1, 'forgotten,': 1, 'fiend—\"I': 1, 'WEDDING-NIGHT!\"': 1, 'sentence,': 1, 'glimpse': 1, 'consummate': 2, 'victorious': 1, 'vanquished,': 1, 'freedom?': 1, 'enjoys': 2, 'massacred': 1, 'burnt,': 1, 'lands': 1, 'laid': 1, 'waste,': 1, 'adrift,': 1, 'homeless,': 1, 'penniless,': 1, 'treasure,': 1, 'alas,': 1, 'balanced': 2, 'Sweet': 1, 'Elizabeth!': 1, 'reread': 1, 'whisper': 1, 'paradisiacal': 1, 'apple': 1, 'eaten,': 1, \"angel's\": 1, 'bared': 1, 'executed': 3, 'threat,': 1, 'inevitable;': 1, 'sooner,': 1, 'torturer': 1, 'suspect': 2, 'menaces,': 1, 'ME': 1, 'MY': 1, 'WEDDING-NIGHT,': 1, 'binding': 1, 'enunciation': 1, 'threats.': 1, 'conduce': 1, \"adversary's\": 2, 'designs': 1, 'retard': 1, 'affectionate.': 1, '\"little': 1, 'centred': 1, 'Chase': 1, 'consecrate': 2, 'contentment.': 1, 'secret,': 1, 'one;': 1, 'revealed': 1, 'entreat,': 1, 'comply.\"': 1, 'thinner': 1, 'vivacity': 1, 'charmed': 1, 'Memory': 1, 'rage,': 1, 'despondent.': 1, 'anyone,': 1, 'fits;': 1, 'torpor.': 1, 'remonstrate': 1, 'resignation.': 1, 'resigned,': 1, 'attachment?\"': 1, '\"None': 1, 'fixed;': 1, 'Heavy': 1, 'cling': 3, 'transfer': 1, 'live.': 2, 'replace': 2, 'cruelly': 1, 'deprived.\"': 1, 'invincible,': 1, 'WEDDING-NIGHT,\"': 1, 'unavoidable.': 1, 'ceremony': 2, 'put,': 1, 'imagined,': 1, 'seal': 1, 'adversary,': 1, 'intentions;': 1, 'nearer,': 1, 'hilarity': 1, 'ever-watchful': 1, 'nicer': 1, 'contentment,': 1, 'impressed,': 1, 'tangible': 1, 'regret.': 1, 'Preparations': 1, 'received,': 1, 'appearance.': 2, 'serve': 1, 'decorations': 1, 'tragedy.': 1, 'inheritance': 1, 'Austrian': 1, 'Como': 1, 'Villa': 1, 'stood.': 1, 'openly': 1, 'attack': 1, 'pistols': 1, 'dagger': 1, 'artifice,': 1, 'delusion,': 1, 'spoken': 1, 'prevent.': 1, 'pervaded': 1, 'overjoyed': 1, 'bustle': 1, 'preparation': 1, 'recognized': 1, 'niece': 1, 'diffidence': 1, 'bride.': 1, 'assembled': 1, \"father's,\": 1, 'Evian': 2, 'continuing': 1, 'favourable;': 1, 'nuptial': 1, 'along;': 1, 'hot,': 1, 'canopy': 1, 'Montalegre,': 1, 'surmounting': 1, 'emulate': 1, 'coasting': 1, 'banks,': 1, 'opposing': 1, 'invader': 1, 'enslave': 1, 'endure,': 1, 'freedom': 1, 'permits': 1, 'enjoy.\"': 1, '\"there': 1, 'contented.': 1, 'Something': 1, 'whispers': 1, 'sinister': 1, 'Observe': 1, 'interesting.': 1, 'fish': 3, 'swimming': 1, 'pebble': 1, 'bottom.': 1, 'appears!\"': 1, 'divert': 1, 'fluctuating;': 1, 'instants': 1, 'distraction': 1, 'reverie.': 1, 'Drance': 1, 'chasms': 1, 'glens': 1, 'amphitheatre': 1, 'boundary.': 1, 'spire': 1, 'range': 1, 'overhung.': 1, 'amazing': 1, 'rapidity,': 1, 'breeze;': 1, 'ruffled': 1, 'hay.': 1, 'clasp': 1, '23': 1, 'landed;': 1, 'enjoying': 2, 'obscured': 2, 'displaying': 1, 'outlines.': 1, 'south,': 1, 'west.': 1, 'swifter': 1, 'vulture': 1, 'dimmed': 2, 'rays,': 1, 'busier': 1, 'rise.': 1, 'Suddenly': 2, 'descended.': 1, 'watchful,': 1, 'pistol': 3, 'sell': 1, 'shrink': 2, 'conflict': 1, 'adversary': 2, 'timid': 1, 'trembling,': 1, 'Victor?': 1, 'fear?\"': 1, 'Peace,': 2, 'love,\"': 1, '\"this': 1, 'safe;': 1, 'dreadful,': 1, 'dreadful.\"': 1, 'combat': 1, 'momentarily': 2, 'retire,': 1, 'enemy.': 4, 'passages': 1, 'inspecting': 1, 'adversary.': 2, 'intervened': 1, 'menaces': 1, 'scream.': 1, 'retired.': 1, 'arms': 4, 'dropped,': 1, 'fibre': 1, 'suspended;': 1, 'trickling': 1, 'veins': 1, 'extremities': 1, 'lasted': 1, 'instant;': 1, 'repeated,': 1, 'expire!': 1, 'purest': 1, 'earth?': 1, 'inanimate,': 1, 'distorted': 4, 'figure—her': 1, 'bloodless': 1, 'bridal': 1, 'bier.': 1, 'obstinate': 1, 'hated.': 1, 'recollection;': 1, 'inn;': 1, 'living,': 1, 'worthy.': 1, 'posture': 1, 'handkerchief': 1, 'coldness': 1, 'cherished.': 1, 'breath': 1, 'up.': 1, 'darkened,': 1, 'panic': 1, 'shutters': 1, 'abhorred.': 1, 'monster;': 1, 'jeer,': 1, 'fired;': 1, 'leaped': 1, 'station,': 1, 'lightning,': 1, 'report': 1, 'track': 1, 'boats;': 1, 'nets': 1, 'cast,': 1, 'parties': 1, 'directions': 1, 'vines.': 1, 'whirled': 1, 'drunken': 1, 'exhaustion;': 1, 'fever.': 1, 'happened;': 1, 'arose,': 1, 'instinct,': 1, 'crawled': 1, 'lay.': 1, 'theirs;': 1, 'rambled': 1, 'subjects,': 1, 'reflecting': 1, 'confusedly': 1, 'cause.': 2, 'lastly': 1, 'wife;': 1, 'writhing': 1, 'grasp,': 1, 'procured,': 1, 'lake;': 1, 'unfavourable,': 1, 'torrents.': 1, 'row': 1, 'oar': 1, 'exercise.': 1, 'oar,': 1, 'before;': 1, 'change.': 1, 'lower,': 1, 'happiness;': 1, 'was;': 1, 'event?': 1, 'Mine': 1, 'horrors;': 1, 'acme,': 1, 'Know': 1, 'tell,': 1, 'narration.': 1, 'tidings': 1, 'bore.': 1, 'vacancy,': 1, 'delight—his': 1, 'feels,': 1, 'remain.': 1, 'Cursed,': 1, 'wretchedness!': 1, 'springs': 1, 'way;': 1, 'arms.': 2, 'dreamt': 1, 'flowery': 1, 'vales': 1, 'Melancholy': 1, 'released': 1, 'cell': 1, 'habitation.': 1, 'Liberty,': 1, 'cause—the': 1, 'prayed': 2, 'wishes;': 1, 'securing': 1, 'release,': 2, 'repaired': 1, 'accusation': 1, 'make,': 1, 'exert': 3, 'authority': 1, 'sir,\"': 1, '\"no': 1, 'villain.\"': 1, '\"listen,': 1, 'wonderful,': 1, 'forces': 1, 'conviction.': 1, 'mistaken': 1, 'falsehood.\"': 1, 'impressive': 1, 'quieted': 1, 'reconciled': 1, 'briefly': 1, 'precision,': 1, 'marking': 1, 'dates': 1, 'accuracy': 1, 'deviating': 1, 'invective': 1, 'exclamation.': 1, 'incredulous,': 1, 'interested;': 1, 'disbelief,': 1, 'seizure': 1, 'punishment': 3, 'revolt': 1, 'functions': 1, 'occasion.\"': 1, 'auditor.': 1, 'events;': 1, 'officially': 1, 'consequence,': 1, 'tide': 1, 'incredulity': 1, 'returned.': 1, 'He,': 1, 'mildly,': 1, 'defiance.': 1, 'traverse': 2, 'dens': 1, 'venture': 1, 'intrude?': 1, 'inhabit.\"': 1, 'hovers': 1, 'hunted': 1, 'prey.': 2, 'desert.\"': 1, 'sparkled': 1, 'intimidated.': 1, 'mistaken,\"': 1, 'proportionate': 1, 'properties,': 1, 'impracticable;': 1, 'pursued,': 1, 'disappointment.\"': 1, 'avail.': 1, 'unspeakable': 2, 'exists.': 1, 'demand;': 1, 'destruction.\"': 1, 'something,': 1, 'haughty': 1, 'fierceness': 1, 'martyrs': 1, 'possessed.': 1, 'Genevan': 1, 'devotion': 1, 'heroism,': 2, 'elevation': 1, 'madness.': 1, 'reverted': 1, 'delirium.': 1, '\"Man,\"': 1, 'wisdom!': 1, 'Cease;': 1, 'say.\"': 1, '24': 1, 'fury;': 1, 'calculating': 1, 'periods': 1, 'portion.': 1, 'forever;': 1, 'adversity,': 1, 'hardships': 3, 'wont': 1, 'failing': 2, 'sandy': 1, 'unsettled,': 1, 'uncertain': 1, 'pursue.': 1, 'entrance': 1, 'cemetery': 1, 'reposed.': 1, 'graves.': 1, 'uninterested': 1, 'observer.': 1, 'flit': 2, 'mourner.': 1, 'lived;': 1, 'drag': 1, 'weary': 1, 'existence.': 1, 'quivering': 1, 'sacred': 1, 'shades': 2, 'swear;': 1, 'O': 2, 'Night,': 1, 'preside': 1, 'conflict.': 2, 'herbage': 1, 'vanish': 2, 'ministers': 2, 'vengeance,': 3, 'agony;': 1, 'torments': 1, 'adjuration': 1, 'approved': 1, 'devotion,': 1, 'furies': 1, 'concluded,': 1, 'choked': 1, 'utterance.': 1, 'stillness': 1, 'laugh.': 1, 'heavily;': 1, 're-echoed': 1, 'laughter.': 1, 'Surely': 1, 'vengeance.': 3, 'ear,': 1, 'whisper,': 1, 'live,': 2, 'satisfied.\"': 1, 'Guided': 1, 'clue,': 1, 'vainly.': 1, 'Mediterranean': 2, 'Black': 1, 'Sea.': 1, 'ship,': 2, 'escaped,': 1, 'how.': 1, 'Amidst': 1, 'Tartary': 1, 'Russia,': 1, 'evaded': 1, 'track.': 1, 'peasants,': 1, 'apparition,': 1, 'path;': 1, 'snows': 3, 'plain.': 2, 'Cold,': 1, 'hell;': 1, 'murmured': 1, 'extricate': 1, 'exhaustion,': 1, 'repast': 1, 'inspirited': 2, 'fare': 1, 'ate,': 1, 'invoked': 1, 'bedim': 1, 'vanish.': 2, 'courses': 1, 'rivers;': 1, 'these,': 1, 'population': 1, 'villagers': 1, 'killed,': 1, 'cooking.': 1, 'sleep!': 1, 'moments,': 1, 'retain': 1, 'pilgrimage.': 1, 'Deprived': 1, 'respite,': 1, 'hardships.': 2, 'tones': 2, 'wearied': 1, 'toilsome': 1, 'march,': 1, 'dreaming': 1, 'them!': 1, 'waking': 1, 'lived!': 1, 'mechanical': 1, 'unconscious,': 1, 'know.': 1, 'marks': 1, 'barks': 1, 'instigated': 3, 'fury.': 1, 'reign': 1, 'over\"—these': 1, 'legible': 1, 'inscriptions—\"you': 1, 'Follow': 1, 'ices': 2, 'frost,': 1, 'impassive.': 1, 'tardily,': 1, 'hare;': 1, 'refreshed.': 1, 'Come': 1, 'wrestle': 1, 'lives,': 1, 'arrive.\"': 1, 'Scoffing': 1, 'vengeance;': 1, 'perish;': 1, 'pilgrimage!': 1, 'northward,': 1, 'thickened': 1, 'hovels,': 1, 'hiding-places': 1, 'procured;': 1, 'article': 1, 'inscription': 1, 'words:': 1, '\"Prepare!': 1, 'begin;': 1, 'wrap': 1, 'furs': 1, 'hatred.\"': 1, 'invigorated': 1, 'scoffing': 1, 'words;': 1, 'unabated': 1, 'horizon.': 1, 'south!': 1, 'Covered': 1, 'ruggedness.': 1, 'Greeks': 1, 'Asia,': 1, 'rapture': 1, 'guiding': 2, 'conducting': 2, 'hoped,': 1, 'gibe,': 1, 'grapple': 1, 'intercept': 2, 'beach.': 1, 'hamlet': 1, 'seashore.': 1, 'accurate': 1, 'information.': 1, 'armed': 1, 'gun': 1, 'pistols,': 1, 'trained': 1, 'harnessed': 1, 'horror-struck': 1, 'frozen': 2, 'frosts.': 1, 'destructive': 1, 'mountainous': 1, 'sunny': 1, 'climate,': 1, 'survive.': 1, 'triumphant,': 1, 'tide,': 1, 'hovered': 1, 'land-sledge': 1, 'fashioned': 2, 'purchasing': 1, 'stock': 1, 'provisions,': 1, 'retribution': 1, 'passage,': 1, 'secure.': 1, 'provision': 1, 'consumed,': 2, 'protraction': 1, 'wrung': 1, 'Despair': 1, 'prey,': 2, 'speck': 1, 'dusky': 1, 'strained': 1, 'proportions': 1, 'heart!': 1, 'Warm': 1, 'wiped': 1, 'daemon;': 1, 'delay;': 1, 'disencumbered': 1, \"hour's\": 1, 'route.': 1, 'ice-rock': 1, 'intervening': 1, 'crags.': 1, 'perceptibly': 1, \"days'\": 1, 'mile': 1, 'foe,': 1, 'extinguished,': 1, 'heard;': 1, 'rolled': 2, 'ominous': 1, 'terrific.': 1, 'arose;': 1, 'roared;': 1, 'split': 2, 'cracked': 3, 'sound.': 1, 'finished;': 1, 'tumultuous': 2, 'drifting': 1, 'lessening': 1, 'passed;': 1, 'riding': 1, 'anchor': 1, 'holding': 1, 'succour': 1, 'astounded': 1, 'construct': 1, 'oars,': 1, 'enabled,': 1, 'raft': 3, 'determined,': 1, 'southwards,': 1, 'mercy': 1, 'northwards.': 1, 'vigour': 1, 'multiplied': 1, 'unfulfilled.': 2, 'desire;': 1, 'escape,': 2, 'pilgrimage,': 1, 'undergone?': 1, 'selfish.': 1, 'appear,': 1, 'live—swear': 1, 'eloquent': 1, 'persuasive,': 1, 'treachery': 1, 'fiend-like': 1, 'sword': 1, 'hover': 1, 'steel': 1, 'aright.': 1, 'continuation.': 1, '26th,': 1, 'Margaret;': 1, 'congeal': 1, 'curdles': 1, 'broken,': 1, 'piercing,': 1, 'downcast': 1, 'suppressing': 1, 'agitation;': 1, 'volcano': 1, 'bursting': 1, 'forth,': 1, 'imprecations': 1, 'asseverations,': 1, 'connected.': 1, 'has,': 1, 'formation,': 1, 'impenetrable.': 1, 'friend?\"': 1, '\"Or': 1, 'Would': 1, 'enemy?': 1, 'peace!': 1, 'own.\"': 1, 'notes': 1, 'history;': 1, 'corrected': 1, 'places,': 1, 'conversations': 2, '\"Since': 1, 'narration,\"': 1, 'mutilated': 1, 'posterity.\"': 1, 'strangest': 1, 'counsel': 1, 'infinitely': 1, 'destitute': 1, 'no!': 1, 'composes': 1, 'comfort,': 1, 'delirium;': 1, 'holds': 1, 'derives': 1, 'excitements': 1, 'faith': 1, 'reveries': 2, 'imposing': 1, 'literature': 1, 'displays': 1, 'piercing': 1, 'forcible': 1, 'touching;': 1, 'pathetic': 1, 'prosperity,': 1, 'ruin!': 1, 'greatness': 1, 'fall.': 2, 'younger,\"': 1, 'profound,': 1, 'coolness': 1, 'achievements.': 1, 'oppressed,': 1, 'talents': 1, 'completed,': 1, 'rational': 2, 'herd': 1, 'projectors.': 1, 'serves': 1, 'dust.': 1, 'speculations': 1, 'archangel': 1, 'aspired': 1, 'omnipotence,': 1, 'hell.': 1, 'vivid,': 1, 'analysis': 1, 'intense;': 1, 'incomplete.': 1, 'trod': 1, 'exulting': 1, 'effects.': 1, 'infancy': 1, 'ambition;': 1, 'sunk!': 1, 'recognize': 1, 'degradation.': 1, 'Despondency': 1, 'rarely': 1, 'never,': 2, 'rise.\"': 1, 'Must': 1, 'being?': 1, 'Behold,': 1, 'reconcile': 1, 'repulses': 1, 'idea.': 1, 'Walton,\"': 1, 'gone?': 1, 'Can': 1, 'Elizabeth?': 1, 'excellence,': 1, 'later': 1, 'obtain.': 1, 'infantine': 1, 'modified,': 1, 'eradicated;': 1, 'motives.': 1, 'symptoms': 1, 'fraud': 1, 'dealing,': 1, 'attached,': 1, 'may,': 1, 'suspicion.': 1, 'association,': 1, 'merits;': 1, 'ear.': 1, 'design,': 1, 'fraught': 1, 'die.\"': 1, '2nd': 1, 'peril': 1, 'admit': 1, 'threaten': 1, 'brave': 3, 'fellows': 1, 'endangered': 1, 'lost,': 1, 'schemes': 1, 'mind?': 1, 'Years': 1, 'pass,': 1, 'visitings': 1, 'heart-felt': 1, 'expectations': 1, 'prospect,': 1, 'children;': 1, 'so!': 1, 'regards': 1, 'talks': 1, 'valued.': 1, 'auguries.': 1, 'eloquence;': 1, 'despair;': 1, 'rouses': 1, 'energies,': 1, 'mole-hills': 1, 'resolutions': 1, 'transitory;': 1, 'mutiny': 1, '5th': 1, 'imminent': 2, 'crushed': 1, 'desolation.': 1, 'health;': 1, 'glimmers': 1, 'exertion,': 1, 'lifelessness.': 1, 'mutiny.': 1, 'wan': 1, 'friend—his': 1, 'listlessly—I': 1, 'sailors,': 1, 'admission': 1, 'leader': 1, 'deputation': 1, 'requisition': 1, 'if,': 1, 'dangers,': 1, 'surmounted': 1, 'insisted,': 1, 'southwards.': 1, 'despaired,': 1, 'possibility,': 1, 'demand?': 1, 'answered,': 1, 'attend,': 1, 'vigour.': 1, 'captain?': 1, 'design?': 1, 'expedition?': 1, 'glorious?': 1, 'smooth': 1, 'exhibited,': 1, 'overcome.': 2, 'glorious,': 1, 'encountered': 1, 'handed': 1, 'peril;': 1, 'so,': 2, 'souls,': 1, 'chilly': 1, 'firesides.': 1, 'preparation;': 1, 'shame': 1, 'defeat': 1, 'yourselves': 1, 'cowards.': 1, 'stuff': 1, 'withstand': 2, 'stigma': 1, 'brows.': 1, 'Return': 1, 'fought': 1, 'backs': 1, 'foe.\"': 1, 'modulated': 1, 'moved?': 1, 'spoke;': 1, 'strenuously': 1, 'terminate,': 1, 'shamefully,': 1, 'unsupported': 1, 'honour,': 1, '7th': 1, 'cast;': 1, 'indecision;': 1, 'disappointed.': 1, 'patience.': 1, '12th': 1, 'past;': 1, 'glory;': 1, 'sister;': 1, 'despond.': 1, '9th,': 1, 'move,': 1, 'direction.': 1, 'peril,': 1, 'passive,': 1, 'bed.': 1, 'north;': 1, 'west,': 1, '11th': 1, 'south': 1, 'shout': 1, 'long-continued.': 1, 'dozing,': 1, 'tumult.': 1, 'shout,\"': 1, '\"because': 1, 'England.\"': 1, 'return?\"': 1, 'Yes;': 1, 'demands.': 1, 'unwillingly': 1, 'return.\"': 1, 'will;': 1, 'assigned': 1, 'weak,': 1, 'endow': 1, 'strength.\"': 1, 'extinct.': 2, 'surgeon': 1, 'composing': 1, 'draught': 1, 'undisturbed.': 1, 'pronounced,': 1, 'grieve': 1, 'patient.': 1, 'closed,': 1, 'bidding': 1, 'gone;': 1, 'persecutor,': 1, 'Think': 2, 'expressed;': 1, 'conduct;': 1, 'blamable.': 1, 'assure,': 1, 'power,': 1, 'well-being.': 1, 'duty,': 1, 'paramount': 1, 'that.': 1, 'claims': 1, 'included': 1, 'proportion': 1, 'Urged': 2, 'view,': 1, 'refusing,': 1, 'evil;': 1, 'wisdom;': 1, 'Miserable': 1, 'die.': 2, 'failed.': 1, 'actuated': 1, 'motives,': 1, 'unfinished': 1, 'request': 2, 'renounce': 1, 'points,': 1, 'balancing': 1, 'misled': 1, 'disturbs': 1, 'respects,': 1, 'Walton!': 1, 'Seek': 1, 'ambition,': 1, 'distinguishing': 1, 'discoveries.': 1, 'succeed.\"': 1, 'fainter': 1, 'effort,': 1, 'silence.': 1, 'unable;': 1, 'feebly,': 1, 'irradiation': 1, 'comment': 1, 'spirit?': 1, 'depth': 1, 'sorrow?': 1, 'inadequate': 1, 'feeble.': 1, 'flow;': 1, 'overshadowed': 1, 'interrupted.': 1, 'portend?': 1, 'midnight;': 1, 'fairly,': 1, 'stir.': 1, 'hoarser;': 1, 'comes': 1, 'examine.': 1, 'place!': 1, 'incomplete': 1, 'catastrophe.': 1, 'ill-fated': 1, 'Over': 1, 'describe—gigantic': 1, 'proportions.': 1, 'coffin,': 1, 'locks': 1, 'hair;': 1, 'extended,': 1, 'texture': 1, 'mummy.': 1, 'approach,': 1, 'hideousness.': 1, 'victim!\"': 2, 'exclaimed.': 1, 'consummated;': 1, 'close!': 1, 'Frankenstein!': 2, 'Generous': 1, 'self-devoted': 1, 'irretrievably': 1, 'lovedst.': 1, 'suffocated,': 1, 'impulses,': 1, 'obeying': 1, 'suspended': 1, 'scaring': 1, 'ugliness.': 1, 'self-reproaches.': 1, 'repentance,\"': 1, '\"is': 1, 'superfluous.': 1, 'heeded': 1, 'stings': 1, 'diabolical': 1, 'extremity,': 1, 'lived.\"': 1, 'dream?\"': 1, 'remorse?': 1, 'He,\"': 1, 'corpse,': 1, 'ten-thousandth': 1, 'lingering': 1, 'execution.': 1, 'ears?': 1, 'susceptible': 1, 'wrenched': 1, 'hatred,': 1, 'imagine.': 1, 'heart-broken': 1, 'pitied': 1, 'Frankenstein;': 1, 'torments,': 1, 'barred,': 1, 'impotent': 2, 'insatiable': 2, 'torture,': 1, 'disobey.': 1, 'died!': 1, 'riot': 1, 'Evil': 1, 'good.': 1, 'far,': 1, 'choice': 1, 'adapt': 1, 'chosen.': 1, 'ended;': 1, 'expressions': 1, 'persuasion,': 1, 'rekindled': 1, '\"Wretch!\"': 1, 'said.': 1, 'whine': 1, 'torch': 1, 'buildings,': 1, 'ruins': 1, 'Hypocritical': 1, 'fiend!': 1, 'feel;': 1, 'withdrawn': 1, 'power.\"': 1, 'thus—not': 1, 'thus,\"': 1, 'find.': 1, 'overflowed,': 1, 'participated.': 1, 'sympathy?': 1, 'opprobrium': 1, 'memory.': 1, 'fame,': 1, 'falsely': 1, 'pardoning': 1, 'unfolding.': 1, 'nourished': 1, 'devotion.': 1, 'meanest': 1, 'animal.': 1, 'mischief,': 1, 'comparable': 1, 'catalogue': 1, 'sins,': 1, 'transcendent': 1, 'majesty': 1, 'goodness.': 1, 'devil.': 1, 'associates': 1, '\"You,': 1, 'wasting': 1, 'craving;': 1, 'fellowship,': 1, 'spurned.': 1, 'humankind': 2, 'sinned': 1, 'contumely?': 1, 'execrate': 1, 'saviour': 1, 'child?': 1, 'immaculate': 1, 'beings!': 1, 'abandoned,': 1, 'abortion,': 1, 'at,': 1, 'kicked,': 1, 'trampled': 1, 'boils': 1, 'injustice.': 1, 'helpless;': 1, 'strangled': 1, 'injured': 1, 'thing.': 1, 'select': 1, 'specimen': 1, 'irremediable': 1, '\"There': 1, 'lies,': 1, 'deed;': 1, 'haunt': 1, '\"Fear': 1, 'Neither': 1, 'yours': 1, 'needed': 1, 'sacrifice.': 1, 'thither': 1, 'extremity': 1, 'globe;': 1, 'ashes': 2, 'curious': 1, 'unsatisfied,': 1, 'unquenched.': 1, '\"Light,': 1, 'affords': 1, 'rustling': 1, 'warbling': 1, 'die;': 1, 'Polluted': 1, 'death?': 1, '\"Farewell!': 1, 'wert': 1, 'didst': 1, 'extinction,': 1, 'wretchedness;': 1, 'hadst': 1, 'wouldst': 1, 'Blasted': 1, 'wert,': 1, 'rankle': 1, 'soon,\"': 1, 'triumphantly': 1, 'exult': 1, 'torturing': 1, 'flames.': 1, 'conflagration': 1, 'fade': 1, 'winds.': 1, 'thinks,': 1, 'Farewell.\"': 1})\n"
          ],
          "name": "stdout"
        }
      ]
    },
    {
      "cell_type": "markdown",
      "metadata": {
        "id": "CvGXF40e-nQU"
      },
      "source": [
        "Ahora hacemos lo mismo xo con el reduceByKey:\n",
        "1º crearmos la var con todas las palabras\n",
        "2º reduceByKey "
      ]
    },
    {
      "cell_type": "code",
      "metadata": {
        "colab": {
          "base_uri": "https://localhost:8080/"
        },
        "id": "elqRFlKQ9rI_",
        "outputId": "6f3d1e43-bec9-43d7-d7fc-1a3cc463edca"
      },
      "source": [
        "words = spark.sparkContext.textFile(\"/dataset/frankenstein.txt\")\n",
        "\n",
        "words.flatMap(lambda x: x.split(\" \")) \\\n",
        ".map(lambda s: (s, 1)) \\\n",
        ".reduceByKey(lambda a, b: a + b) \\\n",
        "\n",
        "\n"
      ],
      "execution_count": 27,
      "outputs": [
        {
          "output_type": "execute_result",
          "data": {
            "text/plain": [
              "11606"
            ]
          },
          "metadata": {
            "tags": []
          },
          "execution_count": 27
        }
      ]
    },
    {
      "cell_type": "markdown",
      "metadata": {
        "id": "i--VraXwBskK"
      },
      "source": [
        "**words.flatMap(lambda line: line.split(\" \")) \\**\n",
        "Explicación funcion:\n",
        "definimos los argumentos de la función: \"lambda line:\" (cada argumento de la función es una linea:) line.splie(\" \") (separa cada linea en elementos distintos cada vez k se encuentra un espacio)\n",
        "\n",
        "**.map(lambda word: (word, 1))** \n",
        "\\ #asingnamos el valor 1 a cada palabra (clave) -> hemos creado un par (diccionario con solo 1 argumento: clave/valor)\n",
        "\n",
        ".**reduceByKey(lambda a, b: a + b)**\n",
        "aplicamos la funcion lamba y no un bucle fro xk \"words\" es un \"rdd\", x eso no "
      ]
    },
    {
      "cell_type": "markdown",
      "metadata": {
        "id": "n2n0pB3uBsM_"
      },
      "source": [
        ""
      ]
    },
    {
      "cell_type": "markdown",
      "metadata": {
        "id": "034ZWkexhXQF"
      },
      "source": [
        "### Ejercicio 4\n",
        "Obtén el top-10 de palabras con más de 4 caracteres\n",
        "\n",
        "---\n",
        "\n"
      ]
    },
    {
      "cell_type": "code",
      "metadata": {
        "id": "5QjYLZ0MgJ1_",
        "colab": {
          "base_uri": "https://localhost:8080/",
          "height": 164
        },
        "outputId": "35852d8f-4500-4f19-890c-2fff9f593f23"
      },
      "source": [
        "words = spark.sparkContext.textFile(\"/dataset/frankenstein.txt\")\n",
        "words.flatMap(lambda s: s.split(\" \")) \\\n",
        ".filter(lambda w: len(w) > 4) \\\n",
        ".map(lambda word: (word, 1)) \\\n",
        ".reduceByKey(lambda a,b: a+b) \\\n",
        ".map(lambda x: (x[1], x[0]) \\\n",
        ".sortByKey() \\\n",
        ".take(10) "
      ],
      "execution_count": 34,
      "outputs": [
        {
          "output_type": "error",
          "ename": "SyntaxError",
          "evalue": "ignored",
          "traceback": [
            "\u001b[0;36m  File \u001b[0;32m\"<ipython-input-34-59d2ed2d5b2e>\"\u001b[0;36m, line \u001b[0;32m2\u001b[0m\n\u001b[0;31m    words.flatMap(lambda s: s.split(\" \")) .filter(lambda w: len(w) > 4) .map(lambda word: (word, 1)) .reduceByKey(lambda a,b: a+b) .map(lambda x: (x[1], x[0]) .sortByKey() .take(10)\u001b[0m\n\u001b[0m                                                                                                                                                                                      ^\u001b[0m\n\u001b[0;31mSyntaxError\u001b[0m\u001b[0;31m:\u001b[0m unexpected EOF while parsing\n"
          ]
        }
      ]
    },
    {
      "cell_type": "markdown",
      "metadata": {
        "id": "VZ48_PxtINxU"
      },
      "source": [
        "**.map(lambda x: (x[1], x[0]) **\n",
        "eso es xa inventir el Par (diccionario, donde esta la clave[0], -> pon el valor [1]"
      ]
    },
    {
      "cell_type": "markdown",
      "metadata": {
        "id": "6IqqLY6PRtGg"
      },
      "source": [
        "## Key/Value Pair RDD\n",
        "\n",
        "---\n",
        "\n"
      ]
    },
    {
      "cell_type": "markdown",
      "metadata": {
        "id": "Qq6NhwCXRl7n"
      },
      "source": [
        "### Ejemplo 6\n",
        "\n",
        "\n",
        "---\n",
        "\n"
      ]
    },
    {
      "cell_type": "code",
      "metadata": {
        "id": "R04SZu82R1ui",
        "colab": {
          "base_uri": "https://localhost:8080/"
        },
        "outputId": "91b13e3a-e232-4ed3-a7f0-2337c9f8edb9"
      },
      "source": [
        "charac_sw = spark.sparkContext.textFile(\"/dataset/characters.csv\")\n",
        "planets_sw = spark.sparkContext.textFile(\"/dataset/planets.csv\")\n",
        "charac_sw.take(10)"
      ],
      "execution_count": 37,
      "outputs": [
        {
          "output_type": "execute_result",
          "data": {
            "text/plain": [
              "['name,height,mass,hair_color,skin_color,eye_color,birth_year,gender,homeworld,species',\n",
              " 'Luke Skywalker,172,77,blond,fair,blue,19BBY,male,Tatooine,Human',\n",
              " 'C-3PO,167,75,NA,gold,yellow,112BBY,NA,Tatooine,Droid',\n",
              " 'R2-D2,96,32,NA,\"white, blue\",red,33BBY,NA,Naboo,Droid',\n",
              " 'Darth Vader,202,136,none,white,yellow,41.9BBY,male,Tatooine,Human',\n",
              " 'Leia Organa,150,49,brown,light,brown,19BBY,female,Alderaan,Human',\n",
              " 'Owen Lars,178,120,\"brown, grey\",light,blue,52BBY,male,Tatooine,Human',\n",
              " 'Beru Whitesun lars,165,75,brown,light,blue,47BBY,female,Tatooine,Human',\n",
              " 'R5-D4,97,32,NA,\"white, red\",red,NA,NA,Tatooine,Droid',\n",
              " 'Biggs Darklighter,183,84,black,light,brown,24BBY,male,Tatooine,Human']"
            ]
          },
          "metadata": {
            "tags": []
          },
          "execution_count": 37
        }
      ]
    },
    {
      "cell_type": "code",
      "metadata": {
        "id": "_fuMXUgnS_Rb",
        "colab": {
          "base_uri": "https://localhost:8080/"
        },
        "outputId": "b1aa5dee-7484-48fc-9591-02022a69c55e"
      },
      "source": [
        "planets_sw.take(10)"
      ],
      "execution_count": 38,
      "outputs": [
        {
          "output_type": "execute_result",
          "data": {
            "text/plain": [
              "['name;rotation_period;orbital_period;diameter;climate;gravity;terrain;surface_water;population',\n",
              " 'Alderaan;24;364;12500;temperate;1 standard;grasslands, mountains;40;2000000000',\n",
              " 'Yavin IV;24;4818;10200;temperate, tropical;1 standard;jungle, rainforests;8;1000',\n",
              " 'Hoth;23;549;7200;frozen;1.1 standard;tundra, ice caves, mountain ranges;100;NA',\n",
              " 'Dagobah;23;341;8900;murky;N/A;swamp, jungles;8;NA',\n",
              " 'Bespin;12;5110;118000;temperate;1.5 (surface), 1 standard (Cloud City);gas giant;0;6000000',\n",
              " 'Endor;18;402;4900;temperate;0.85 standard;forests, mountains, lakes;8;30000000',\n",
              " 'Naboo;26;312;12120;temperate;1 standard;grassy hills, swamps, forests, mountains;12;4500000000',\n",
              " 'Coruscant;24;368;12240;temperate;1 standard;cityscape, mountains;NA;1E+12',\n",
              " 'Kamino;27;463;19720;temperate;1 standard;ocean;100;1000000000']"
            ]
          },
          "metadata": {
            "tags": []
          },
          "execution_count": 38
        }
      ]
    },
    {
      "cell_type": "code",
      "metadata": {
        "id": "xbYKGuvxPiqb"
      },
      "source": [
        "from itertools import islice\n",
        "\n",
        "charac_sw_noheader = charac_sw.mapPartitionsWithIndex(\n",
        "    lambda idx, it: islice(it, 1, None) if idx == 0 else it)\n",
        "\n",
        "planets_sw_noheader = planets_sw.mapPartitionsWithIndex(\n",
        "    lambda idx, it: islice(it, 1, None) if idx == 0 else it)"
      ],
      "execution_count": 41,
      "outputs": []
    },
    {
      "cell_type": "markdown",
      "metadata": {
        "id": "c5epg5jFLULB"
      },
      "source": [
        "codigo xa eliminar la cabezera del datasat, xk sino me lo coge como un una linea de valores"
      ]
    },
    {
      "cell_type": "markdown",
      "metadata": {
        "id": "m1BEEwqpTREy"
      },
      "source": [
        "### Ejercicio 5\n",
        "Obtén un listado con la población del planeta al que pertenece cada personaje de Star Wars\n",
        "\n",
        "\n",
        "---\n"
      ]
    },
    {
      "cell_type": "code",
      "metadata": {
        "id": "5ldX4Kc-U339"
      },
      "source": [
        "charac= charac_sw_noheader\\\n",
        ".map(lambda line: line.split(\",\")) \\\n",
        ".map(lambda w: (w[8], w[0])) \\\n"
      ],
      "execution_count": 53,
      "outputs": []
    },
    {
      "cell_type": "code",
      "metadata": {
        "id": "Lo0dq-QrU0MU"
      },
      "source": [
        "planets= planets_sw_noheader\\\n",
        ".map(lambda line: line.split(\";\")) \\\n",
        ".map(lambda w: (w[0], w[8])) \\\n"
      ],
      "execution_count": 54,
      "outputs": []
    },
    {
      "cell_type": "code",
      "metadata": {
        "colab": {
          "base_uri": "https://localhost:8080/"
        },
        "id": "qKMcaLiVXeCQ",
        "outputId": "14f9a005-dd32-47b0-cee1-8bdf9996c8ce"
      },
      "source": [
        "charac_planet = charac.join(planets)\n",
        "print(charac_planet)"
      ],
      "execution_count": 59,
      "outputs": [
        {
          "output_type": "stream",
          "text": [
            "PythonRDD[116] at RDD at PythonRDD.scala:53\n"
          ],
          "name": "stdout"
        }
      ]
    },
    {
      "cell_type": "code",
      "metadata": {
        "colab": {
          "base_uri": "https://localhost:8080/"
        },
        "id": "IgVk3CloVyLf",
        "outputId": "b644ac93-ac93-4428-8dd8-3709da28ec6d"
      },
      "source": [
        "charac.join(planets) \\\n",
        ".map(lambda x: (x[1][0], x[0], x[1][1])) \\\n",
        ".collect()\n"
      ],
      "execution_count": 61,
      "outputs": [
        {
          "output_type": "execute_result",
          "data": {
            "text/plain": [
              "[('Leia Organa', 'Alderaan', '2000000000'),\n",
              " ('Bail Prestor Organa', 'Alderaan', '2000000000'),\n",
              " ('Raymus Antilles', 'Alderaan', '2000000000'),\n",
              " ('Chewbacca', 'Kashyyyk', '45000000'),\n",
              " ('Tarfful', 'Kashyyyk', '45000000'),\n",
              " ('Lando Calrissian', 'Socorro', '300000000'),\n",
              " ('Wicket Systri Warrick', 'Endor', '30000000'),\n",
              " ('Darth Maul', 'Dathomir', '5200'),\n",
              " ('Ki-Adi-Mundi', 'Cerea', '450000000'),\n",
              " ('Saesee Tiin', 'Iktotch', 'NA'),\n",
              " ('Yarael Poof', 'Quermia', 'NA'),\n",
              " ('Jek Tono Porkins', 'Bestine IV', '62000000'),\n",
              " ('Palpatine', 'Naboo', '4500000000'),\n",
              " ('Jar Jar Binks', 'Naboo', '4500000000'),\n",
              " ('Roos Tarpals', 'Naboo', '4500000000'),\n",
              " ('Rugor Nass', 'Naboo', '4500000000'),\n",
              " ('Ric Olié', 'Naboo', '4500000000'),\n",
              " ('Quarsh Panaka', 'Naboo', '4500000000'),\n",
              " ('Gregar Typho', 'Naboo', '4500000000'),\n",
              " ('Cordé', 'Naboo', '4500000000'),\n",
              " ('Dormé', 'Naboo', '4500000000'),\n",
              " ('Padmé Amidala', 'Naboo', '4500000000'),\n",
              " ('Bossk', 'Trandosha', '42000000'),\n",
              " ('Mon Mothma', 'Chandrila', '1200000000'),\n",
              " ('Finis Valorum', 'Coruscant', '1E+12'),\n",
              " ('Adi Gallia', 'Coruscant', '1E+12'),\n",
              " ('Jocasta Nu', 'Coruscant', '1E+12'),\n",
              " ('Bib Fortuna', 'Ryloth', '1500000000'),\n",
              " ('Ayla Secura', 'Ryloth', '1500000000'),\n",
              " ('Luminara Unduli', 'Mirial', 'NA'),\n",
              " ('Barriss Offee', 'Mirial', 'NA'),\n",
              " ('Jango Fett', 'Concord Dawn', 'NA'),\n",
              " ('Sly Moore', 'Umbara', 'NA'),\n",
              " ('R2-D2', 'NA', 'NA'),\n",
              " ('R5-D4', 'NA', 'NA'),\n",
              " ('Yoda', 'NA', 'NA'),\n",
              " ('IG-88', 'NA', 'NA'),\n",
              " ('Arvel Crynyd', 'NA', 'NA'),\n",
              " ('Qui-Gon Jinn', 'NA', 'NA'),\n",
              " ('Ben Quadinaros', 'NA', 'NA'),\n",
              " ('Zam Wesell', 'NA', 'NA'),\n",
              " ('R4-P17', 'NA', 'NA'),\n",
              " ('Shaak Ti', 'NA', 'NA'),\n",
              " ('Grievous', 'NA', 'NA'),\n",
              " ('Finn', 'NA', 'NA'),\n",
              " ('Rey', 'NA', 'NA'),\n",
              " ('Poe Dameron', 'NA', 'NA'),\n",
              " ('BB8', 'NA', 'NA'),\n",
              " ('Captain Phasma', 'NA', 'NA'),\n",
              " ('Greedo', 'Rodia', '1300000000'),\n",
              " ('Boba Fett', 'Kamino', '1000000000'),\n",
              " ('Lama Su', 'Kamino', '1000000000'),\n",
              " ('Taun We', 'Kamino', '1000000000'),\n",
              " ('Lobot', 'Bespin', '6000000'),\n",
              " ('Kit Fisto', 'Glee Anselm', '500000000'),\n",
              " ('Plo Koon', 'Dorin', 'NA'),\n",
              " ('Mas Amedda', 'Champala', '3500000000'),\n",
              " ('Dexter Jettster', 'Ojom', '500000000'),\n",
              " ('Tion Medon', 'Utapau', '95000000'),\n",
              " ('Luke Skywalker', 'Tatooine', '200000'),\n",
              " ('C-3PO', 'Tatooine', '200000'),\n",
              " ('Darth Vader', 'Tatooine', '200000'),\n",
              " ('Beru Whitesun lars', 'Tatooine', '200000'),\n",
              " ('Biggs Darklighter', 'Tatooine', '200000'),\n",
              " ('Anakin Skywalker', 'Tatooine', '200000'),\n",
              " ('Shmi Skywalker', 'Tatooine', '200000'),\n",
              " ('Cliegg Lars', 'Tatooine', '200000'),\n",
              " ('Han Solo', 'Corellia', '3000000000'),\n",
              " ('Wedge Antilles', 'Corellia', '3000000000'),\n",
              " ('Ackbar', 'Mon Cala', '27000000000'),\n",
              " ('Nien Nunb', 'Sullust', '18500000000'),\n",
              " ('Nute Gunray', 'Cato Neimoidia', '10000000'),\n",
              " ('Mace Windu', 'Haruun Kal', '705300'),\n",
              " ('Eeth Koth', 'Iridonia', 'NA'),\n",
              " ('Poggle the Lesser', 'Geonosis', '1E+11'),\n",
              " ('Dooku', 'Serenno', 'NA'),\n",
              " ('San Hill', 'Muunilinst', '5000000000')]"
            ]
          },
          "metadata": {
            "tags": []
          },
          "execution_count": 61
        }
      ]
    }
  ]
}