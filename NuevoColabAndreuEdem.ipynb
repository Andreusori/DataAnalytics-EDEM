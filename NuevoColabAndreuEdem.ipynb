{
  "nbformat": 4,
  "nbformat_minor": 0,
  "metadata": {
    "colab": {
      "name": "NuevoColabAndreuEdem.ipynb",
      "provenance": [],
      "authorship_tag": "ABX9TyO3j95nxGNYuG6iUoDerFgq",
      "include_colab_link": true
    },
    "kernelspec": {
      "name": "python3",
      "display_name": "Python 3"
    }
  },
  "cells": [
    {
      "cell_type": "markdown",
      "metadata": {
        "id": "view-in-github",
        "colab_type": "text"
      },
      "source": [
        "<a href=\"https://colab.research.google.com/github/Andreusori/DataAnalytics-EDEM/blob/master/NuevoColabAndreuEdem.ipynb\" target=\"_parent\"><img src=\"https://colab.research.google.com/assets/colab-badge.svg\" alt=\"Open In Colab\"/></a>"
      ]
    },
    {
      "cell_type": "code",
      "metadata": {
        "id": "F83xikX7yQl9",
        "outputId": "1a10f88d-76ab-4898-ee9e-9cccc504409b",
        "colab": {
          "base_uri": "https://localhost:8080/",
          "height": 34
        }
      },
      "source": [
        "print (\"Hola Andreu Edem\")"
      ],
      "execution_count": 2,
      "outputs": [
        {
          "output_type": "stream",
          "text": [
            "Hola Andreu Edem\n"
          ],
          "name": "stdout"
        }
      ]
    }
  ]
}